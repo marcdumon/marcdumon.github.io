{
 "cells": [
  {
   "cell_type": "code",
   "execution_count": 1,
   "metadata": {
    "tags": [
     "hide-input"
    ]
   },
   "outputs": [],
   "source": [
    "import random\n",
    "import string\n",
    "from typing import Optional, Literal\n",
    "import numpy as np\n",
    "\n",
    "import torch\n",
    "import torch.nn.functional as F\n",
    "from torch import Tensor\n",
    "\n",
    "import matplotlib.pyplot as plt\n",
    "import seaborn as sns\n",
    "import plotly.express as px\n",
    "import plotly.graph_objects as go\n",
    "import pandas as pd\n",
    "from dataclasses import dataclass, field\n",
    "\n",
    "torch.set_printoptions(linewidth=120)\n",
    "seed = 2**31 - 1\n"
   ]
  },
  {
   "attachments": {},
   "cell_type": "markdown",
   "metadata": {},
   "source": [
    "<hr>\n",
    "\n",
    "# Activations, Gradients and Batch Normalisation - Part 1\n",
    "<hr>"
   ]
  },
  {
   "attachments": {},
   "cell_type": "markdown",
   "metadata": {},
   "source": [
    "In this notebook, we will delve into the inner workings of multi-layer perceptrons (MLPs) and examine the statistics of forward pass activations and backward pass gradients. We will also discuss potential issues that can arise from improper scaling and explore diagnostic tools and visualizations for understanding the performance of a deep network. Additionally, we will explore why training deep neural networks can be challenging and introduce one of the key innovations that made this process easier: Batch Normalization. "
   ]
  },
  {
   "attachments": {},
   "cell_type": "markdown",
   "metadata": {},
   "source": [
    "## Setup"
   ]
  },
  {
   "attachments": {},
   "cell_type": "markdown",
   "metadata": {},
   "source": [
    "**Load the data**"
   ]
  },
  {
   "cell_type": "code",
   "execution_count": 2,
   "metadata": {},
   "outputs": [
    {
     "name": "stdout",
     "output_type": "stream",
     "text": [
      "Total # names: ...................32,033\n",
      "Total # characters in all names: 196,113\n",
      "['emma', 'olivia', 'ava', 'isabella', 'sophia']\n"
     ]
    }
   ],
   "source": [
    "# Load the data\n",
    "with open(\"./data/names.txt\", \"r\") as f:\n",
    "    names = f.read().splitlines()\n",
    "print(f\"Total # names: {len(names):.>25,}\")\n",
    "print(f\"Total # characters in all names: {len(''.join(names)):,}\")\n",
    "print(names[:5])"
   ]
  },
  {
   "attachments": {},
   "cell_type": "markdown",
   "metadata": {},
   "source": [
    "**Encoding and decoding characters**   \n",
    "We define an encoder `ch2ix` and decoder `ix2ch` function that maps a character with a numerical representation (i.e. a unique integer) and vice-versa. "
   ]
  },
  {
   "cell_type": "code",
   "execution_count": 3,
   "metadata": {},
   "outputs": [
    {
     "name": "stdout",
     "output_type": "stream",
     "text": [
      "Encoder ch2ix:\n",
      " {'.': 0, 'a': 1, 'b': 2, 'c': 3, 'd': 4, 'e': 5, 'f': 6, 'g': 7, 'h': 8, 'i': 9, 'j': 10, 'k': 11, 'l': 12, 'm': 13, 'n': 14, 'o': 15, 'p': 16, 'q': 17, 'r': 18, 's': 19, 't': 20, 'u': 21, 'v': 22, 'w': 23, 'x': 24, 'y': 25, 'z': 26}\n",
      "Decoder ix2ch:\n",
      " {0: '.', 1: 'a', 2: 'b', 3: 'c', 4: 'd', 5: 'e', 6: 'f', 7: 'g', 8: 'h', 9: 'i', 10: 'j', 11: 'k', 12: 'l', 13: 'm', 14: 'n', 15: 'o', 16: 'p', 17: 'q', 18: 'r', 19: 's', 20: 't', 21: 'u', 22: 'v', 23: 'w', 24: 'x', 25: 'y', 26: 'z'}\n",
      "E.g. emma: [0, 5, 13, 13, 1, 0]\n"
     ]
    }
   ],
   "source": [
    "chars = \".\" + string.ascii_lowercase\n",
    "ch2ix = {s: i for i, s in enumerate(chars)}\n",
    "ix2ch = {i: s for s, i in ch2ix.items()}\n",
    "\n",
    "print(\"Encoder ch2ix:\\n\", ch2ix)\n",
    "print(\"Decoder ix2ch:\\n\", ix2ch)\n",
    "print(\"E.g. emma:\", [ch2ix[c] for c in \".emma.\"])"
   ]
  },
  {
   "attachments": {},
   "cell_type": "markdown",
   "metadata": {},
   "source": [
    "**Build the datasets**"
   ]
  },
  {
   "cell_type": "code",
   "execution_count": 4,
   "metadata": {},
   "outputs": [],
   "source": [
    "def make_dataset(words, block_size=3):\n",
    "    X, Y = [], []\n",
    "    for w in words:\n",
    "        context = [0] * block_size\n",
    "        for ch in w + \".\":\n",
    "            ix = ch2ix[ch]\n",
    "            X.append(context)\n",
    "            Y.append(ix)\n",
    "            context = context[1:] + [ix]  # crop and append\n",
    "    X = torch.tensor(X)\n",
    "    Y = torch.tensor(Y)\n",
    "    print(f\"Shape (X, Y): {X.shape}, {Y.shape}\")\n",
    "    return X, Y"
   ]
  },
  {
   "cell_type": "code",
   "execution_count": 5,
   "metadata": {},
   "outputs": [
    {
     "name": "stdout",
     "output_type": "stream",
     "text": [
      "Shape (X, Y): torch.Size([182625, 3]), torch.Size([182625])\n",
      "Shape (X, Y): torch.Size([22655, 3]), torch.Size([22655])\n",
      "Shape (X, Y): torch.Size([22866, 3]), torch.Size([22866])\n"
     ]
    }
   ],
   "source": [
    "words = names.copy()\n",
    "random.seed(42)\n",
    "random.shuffle(words)\n",
    "\n",
    "n = len(words)\n",
    "n1 = int(0.8 * n)\n",
    "n2 = int(0.9 * n)\n",
    "Xtrn, Ytrn = make_dataset(words[:n1])\n",
    "Xval, Yval = make_dataset(words[n1:n2])\n",
    "Xtst, Ytst = make_dataset(words[n2:])"
   ]
  },
  {
   "attachments": {},
   "cell_type": "markdown",
   "metadata": {},
   "source": [
    "**MLP**"
   ]
  },
  {
   "cell_type": "code",
   "execution_count": 6,
   "metadata": {},
   "outputs": [],
   "source": [
    "class MLP:\n",
    "    def __init__(\n",
    "        self,\n",
    "        vocab_size: int = 27,\n",
    "        block_size: int = 3,\n",
    "        emb_dim: int = 10,\n",
    "        hid_dim: int = 100,\n",
    "        seed: int | None = None,\n",
    "    ) -> None:\n",
    "        g = torch.Generator().manual_seed(seed) if seed else None\n",
    "        self.block_size = block_size\n",
    "        self.emb_dim = emb_dim\n",
    "        self.hid_dim = hid_dim\n",
    "        self.C = torch.randn((vocab_size, emb_dim), generator=g)\n",
    "        self.W1 = torch.randn((block_size * emb_dim, hid_dim), generator=g)\n",
    "        self.b1 = torch.randn(hid_dim, generator=g)\n",
    "        self.W2 = torch.randn((hid_dim, vocab_size), generator=g)\n",
    "\n",
    "        self.b2 = torch.randn(vocab_size, generator=g)\n",
    "        self.h_preact = torch.Tensor()\n",
    "        self.h = torch.Tensor()\n",
    "        self.parameters = [self.C, self.W1, self.b1, self.W2, self.b2]\n",
    "        for p in self.parameters:\n",
    "            p.requires_grad = True\n",
    "        self.n_parameters = sum(p.nelement() for p in self.parameters)\n",
    "\n",
    "    def __call__(self, xs: Tensor) -> Tensor:\n",
    "        \"\"\"Does a forward pass and returns the logits\"\"\"\n",
    "        emb = self.C[xs]  # (bs, 3, 10) Embed characters into vectors\n",
    "        emb = emb.view(\n",
    "            -1, self.block_size * self.emb_dim\n",
    "        )  # (bs, 30) Concatenate the vectors\n",
    "        self.h_preact = emb @ self.W1 + self.b1  # Hidden layer pre-activation\n",
    "        self.h = torch.tanh(self.h_preact)  # Hidden layer\n",
    "        logits = self.h @ self.W2 + self.b2  # Output layer\n",
    "        return logits\n",
    "\n",
    "    def zero_grad(self) -> None:\n",
    "        \"\"\"Sets the gradients to None\"\"\"\n",
    "        for p in self.parameters:\n",
    "            p.grad = None\n",
    "\n",
    "    def optimise_step(self, lr) -> None:\n",
    "        \"\"\"Updat the parameters\"\"\"\n",
    "        for p in self.parameters:\n",
    "            p.data += -lr * p.grad"
   ]
  },
  {
   "attachments": {},
   "cell_type": "markdown",
   "metadata": {},
   "source": [
    "## Reproducing results from previous notebook"
   ]
  },
  {
   "cell_type": "code",
   "execution_count": 7,
   "metadata": {},
   "outputs": [
    {
     "name": "stdout",
     "output_type": "stream",
     "text": [
      "Nr of parameters: 11897\n"
     ]
    }
   ],
   "source": [
    "vocab_size = len(ix2ch)\n",
    "block_size = 3\n",
    "emb_dim = 10  # The dimentionality of the character embedding vectors\n",
    "hid_dim = 200  # the number of neurons in the hidden layer\n",
    "\n",
    "model = MLP(\n",
    "    vocab_size=vocab_size,\n",
    "    block_size=block_size,\n",
    "    emb_dim=emb_dim,\n",
    "    hid_dim=hid_dim,\n",
    "    seed=seed,\n",
    ")\n",
    "print(f\"Nr of parameters: {model.n_parameters}\")"
   ]
  },
  {
   "cell_type": "code",
   "execution_count": 8,
   "metadata": {
    "tags": [
     "output_scroll"
    ]
   },
   "outputs": [
    {
     "name": "stdout",
     "output_type": "stream",
     "text": [
      "      0/200001: 27.1911\n",
      "  10000/200001: 2.1946\n",
      "  20000/200001: 2.4400\n",
      "  30000/200001: 2.4734\n",
      "  40000/200001: 2.1567\n",
      "  50000/200001: 2.4929\n",
      "  60000/200001: 2.1454\n",
      "  70000/200001: 2.2762\n",
      "  80000/200001: 2.7076\n",
      "  90000/200001: 1.9478\n",
      " 100000/200001: 2.4221\n",
      " 110000/200001: 2.1470\n",
      " 120000/200001: 2.1992\n",
      " 130000/200001: 1.8029\n",
      " 140000/200001: 2.2573\n",
      " 150000/200001: 2.3827\n",
      " 160000/200001: 2.0819\n",
      " 170000/200001: 1.6986\n",
      " 180000/200001: 2.5956\n",
      " 190000/200001: 2.2642\n",
      " 200000/200001: 2.0490\n"
     ]
    }
   ],
   "source": [
    "n_steps = 200001\n",
    "bs = 32\n",
    "losses = []\n",
    "\n",
    "g = torch.Generator().manual_seed(seed)\n",
    "for i in range(n_steps):\n",
    "    # Minibatch construct\n",
    "    ix = torch.randint(0, Xtrn.shape[0], (bs,), generator=g)\n",
    "    Xb, Yb = Xtrn[ix], Ytrn[ix]\n",
    "\n",
    "    # Forward pass\n",
    "    logits = model(Xb)\n",
    "    loss = F.cross_entropy(logits, Yb)\n",
    "\n",
    "    # Backward pass\n",
    "    model.zero_grad()\n",
    "    loss.backward()\n",
    "\n",
    "    # Update\n",
    "    lr = 0.1 if i < 100000 else 0.01  # Step learning rate decay\n",
    "    model.optimise_step(lr)\n",
    "\n",
    "    # Tack stats\n",
    "    losses.append(loss.log10().item())\n",
    "    if i % 10000 == 0:\n",
    "        print(f\"{i:7d}/{n_steps}: {loss.item():.4f}\")"
   ]
  },
  {
   "cell_type": "code",
   "execution_count": 9,
   "metadata": {},
   "outputs": [
    {
     "name": "stdout",
     "output_type": "stream",
     "text": [
      "train loss: 2.1243\n",
      "valid loss: 2.1680\n"
     ]
    }
   ],
   "source": [
    "@torch.no_grad()  # Decorator to disable gradient tracking\n",
    "def split_loss(split: Literal[\"train\", \"valid\", \"test\"]) -> None:\n",
    "    splits = {\"train\": (Xtrn, Ytrn), \"valid\": (Xval, Yval), \"test\": (Xtst, Ytst)}\n",
    "    x, y = splits[split]\n",
    "    logits = model(x)  # (N, vocab_size)\n",
    "    loss = F.cross_entropy(logits, y)\n",
    "    print(f\"{split} loss: {loss:.4f}\")\n",
    "\n",
    "\n",
    "split_loss(\"train\")\n",
    "split_loss(\"valid\")"
   ]
  },
  {
   "attachments": {},
   "cell_type": "markdown",
   "metadata": {},
   "source": [
    "**Sample from the model**"
   ]
  },
  {
   "cell_type": "code",
   "execution_count": 10,
   "metadata": {},
   "outputs": [
    {
     "name": "stdout",
     "output_type": "stream",
     "text": [
      "dex.\n",
      "mariah.\n",
      "makilah.\n",
      "tyha.\n",
      "malissana.\n",
      "nella.\n",
      "kaman.\n",
      "arre.\n",
      "zyau.\n",
      "jaxsiniotas.\n",
      "moza.\n",
      "danvo.\n",
      "kentedo.\n",
      "kameria.\n",
      "sadeu.\n",
      "niaviyah.\n",
      "foluw.\n",
      "huna.\n",
      "gavtah.\n",
      "ash.\n"
     ]
    }
   ],
   "source": [
    "g = torch.Generator().manual_seed(seed)\n",
    "\n",
    "for _ in range(20):\n",
    "    out = []\n",
    "    context = [0] * block_size  # Initialize as ['.', '.', '.']\n",
    "\n",
    "    while True:\n",
    "        # Forward pass\n",
    "        logits = model(torch.tensor(context))\n",
    "        probs = torch.softmax(logits, dim=1)\n",
    "        # Sample from the distribution\n",
    "        ix = torch.multinomial(probs, num_samples=1, generator=g).item()\n",
    "        # Shift the context window and track the samples\n",
    "        context = context[1:] + [ix]\n",
    "        out.append(ix)\n",
    "        # Break when we sample '.'\n",
    "        if ix == 0:\n",
    "            break\n",
    "    print(\"\".join(ix2ch[i] for i in out))"
   ]
  },
  {
   "attachments": {},
   "cell_type": "markdown",
   "metadata": {},
   "source": [
    "The names sampled from the MLP model are of higher-quality compared to the bigrams model, but there is still room for improvement."
   ]
  },
  {
   "attachments": {},
   "cell_type": "markdown",
   "metadata": {},
   "source": [
    "## Initialisation"
   ]
  },
  {
   "attachments": {},
   "cell_type": "markdown",
   "metadata": {},
   "source": [
    "In this section, we will examine the impact of weight initialization on training.   \n",
    "\n",
    "The starting loss (0/200001: 27.1911) is quite high but decreases quickly. This indicates that the initialisation is sub-optimal. Typically, we have an approximate understanding of what the loss should be at the start based on the architecture and the loss function.   \n",
    "\n",
    "We can calculate the expected loss at initialization using the following method: We have 27 characters, and there is no indication that any one of these 27 characters is more likely than the others. So we expect that the probability distribution that comes out initially is the uniform distribution, assigning equal probability to all the 27 characters and therefor We want the probability for any character to be $\\frac{1}{27}$.   \n",
    "The expected loss is therefore $-\\log \\frac{1}{27} = \\log 27 \\approx 3.2$. \n",
    "\n",
    "This is much lower than the 27.1911 loss indicating that the initialisation is off. Some characters have very high probabilities and other ones have very low probabilities. The network is very confidently wrong leading to very high loss.  "
   ]
  },
  {
   "cell_type": "code",
   "execution_count": 11,
   "metadata": {},
   "outputs": [
    {
     "name": "stdout",
     "output_type": "stream",
     "text": [
      "tensor([0., 0., 0., 0.]) tensor([0.2500, 0.2500, 0.2500, 0.2500]) tensor(1.3863)\n",
      "tensor([0.0066, 0.0066, 0.9802, 0.0066]) tensor(0.0200)\n",
      "tensor([0., 5., 0., 0.]) tensor([0.0066, 0.9802, 0.0066, 0.0066]) tensor(5.0200)\n",
      "tensor([-5.3989, -0.2382,  4.4352,  9.1075]) tensor([4.9645e-07, 8.6522e-05, 9.2632e-03, 9.9065e-01]) tensor(4.6817)\n",
      "tensor([ 44.1407,  65.8503, -56.8471,  70.6941]) tensor([2.9148e-12, 7.8156e-03, 0.0000e+00, 9.9218e-01]) tensor(inf)\n"
     ]
    }
   ],
   "source": [
    "# 4-dimensional example of this issue\n",
    "\n",
    "logits = torch.tensor(\n",
    "    [0.0, 0.0, 0.0, 0.0]\n",
    ")  # Uniform distribution; all labels equaly likely\n",
    "probs = torch.softmax(logits, dim=0)\n",
    "loss = -probs[2].log()  # Correct label is 2\n",
    "print(logits, probs, loss)  # Loss is what we would expect\n",
    "\n",
    "logits = torch.tensor([0.0, 0.0, 5.0, 0.0])\n",
    "probs = torch.softmax(logits, dim=0)\n",
    "loss = -probs[2].log()  # Label is 2\n",
    "print(probs, loss)  # Loss is very low because the probability of correct label is high\n",
    "\n",
    "logits = torch.tensor([0.0, 5.0, 0.0, 0.0])\n",
    "probs = torch.softmax(logits, dim=0)\n",
    "loss = -probs[2].log()  # Label is 2\n",
    "print(\n",
    "    logits, probs, loss\n",
    ")  # Loss is high because the probability of wrong label is high\n",
    "\n",
    "logits = torch.randn(4) * 10  # Normally distributed logits with mu=0 and sigma=10\n",
    "probs = torch.softmax(logits, dim=0)\n",
    "loss = -probs[2].log()  # Label is 2\n",
    "print(\n",
    "    logits, probs, loss\n",
    ")  # Loss is very high because the probability of wrong label is high\n",
    "\n",
    "# Even higher variance in logits:\n",
    "logits = torch.randn(4) * 100  # Normally distributed logits with mu=0 and sigma=100\n",
    "probs = torch.softmax(logits, dim=0)\n",
    "loss = -probs[2].log()  # Label is 2\n",
    "print(\n",
    "    logits, probs, loss\n",
    ")  # Loss is very high because the probability of wrong label is high"
   ]
  },
  {
   "attachments": {},
   "cell_type": "markdown",
   "metadata": {},
   "source": [
    "**Conclusion:** \n",
    "The 4-dimensional example shows us that the higher the variants of the logits, the higher the loss. We want the initial logits to be roughly uniformly distributed. By symmetry we don't want these logits to be any positive or negative number but we just want them to be all 0's."
   ]
  },
  {
   "attachments": {},
   "cell_type": "markdown",
   "metadata": {},
   "source": [
    "Let's now modify our model to have better initialisation and check the results."
   ]
  },
  {
   "attachments": {},
   "cell_type": "markdown",
   "metadata": {},
   "source": [
    "### Fixing the logits"
   ]
  },
  {
   "attachments": {},
   "cell_type": "markdown",
   "metadata": {},
   "source": [
    "#### Initial model"
   ]
  },
  {
   "cell_type": "code",
   "execution_count": 12,
   "metadata": {
    "tags": [
     "output_scroll"
    ]
   },
   "outputs": [
    {
     "name": "stdout",
     "output_type": "stream",
     "text": [
      "      0/200001: 27.1911\n",
      "  10000/200001: 2.1946\n",
      "  20000/200001: 2.4400\n",
      "  30000/200001: 2.4734\n",
      "  40000/200001: 2.1567\n",
      "  50000/200001: 2.4929\n",
      "  60000/200001: 2.1454\n",
      "  70000/200001: 2.2762\n",
      "  80000/200001: 2.7076\n",
      "  90000/200001: 1.9478\n",
      " 100000/200001: 2.4221\n",
      " 110000/200001: 2.1470\n",
      " 120000/200001: 2.1992\n",
      " 130000/200001: 1.8029\n",
      " 140000/200001: 2.2573\n",
      " 150000/200001: 2.3827\n",
      " 160000/200001: 2.0819\n",
      " 170000/200001: 1.6986\n",
      " 180000/200001: 2.5956\n",
      " 190000/200001: 2.2642\n",
      " 200000/200001: 2.0490\n"
     ]
    }
   ],
   "source": [
    "model = MLP(\n",
    "    vocab_size=vocab_size,\n",
    "    block_size=block_size,\n",
    "    emb_dim=emb_dim,\n",
    "    hid_dim=hid_dim,\n",
    "    seed=seed,\n",
    ")\n",
    "\n",
    "n_steps = 200001\n",
    "bs = 32\n",
    "losses = []\n",
    "\n",
    "W1_std = []\n",
    "W2_std = []\n",
    "\n",
    "g = torch.Generator().manual_seed(seed)\n",
    "for i in range(n_steps):\n",
    "    # Minibatch construct\n",
    "    ix = torch.randint(0, Xtrn.shape[0], (bs,), generator=g)\n",
    "    Xb, Yb = Xtrn[ix], Ytrn[ix]\n",
    "\n",
    "    # Forward pass\n",
    "    logits = model(Xb)\n",
    "    loss = F.cross_entropy(logits, Yb)\n",
    "\n",
    "    # Backward pass\n",
    "    model.zero_grad()\n",
    "    loss.backward(retain_graph=False)  # retain_graph = True because we changed the\n",
    "\n",
    "    # Update\n",
    "    lr = 0.1 if i < 100000 else 0.01  # Step learning rate decay\n",
    "    model.optimise_step(lr)\n",
    "\n",
    "    # Tack stats\n",
    "    losses.append(loss.log10().item())\n",
    "    W1_std.append(model.W1.std().item())\n",
    "    W2_std.append(model.W2.std().item())\n",
    "\n",
    "    if i % 10000 == 0:\n",
    "        print(f\"{i:7d}/{n_steps}: {loss.item():.4f}\")"
   ]
  },
  {
   "cell_type": "code",
   "execution_count": 13,
   "metadata": {},
   "outputs": [
    {
     "data": {
      "image/png": "[encoded data removed]",
      "text/plain": [
       "<Figure size 1500x300 with 3 Axes>"
      ]
     },
     "metadata": {},
     "output_type": "display_data"
    }
   ],
   "source": [
    "fig, axs = plt.subplots(1, 3, figsize=(15, 3))\n",
    "\n",
    "axs[0].plot(losses)\n",
    "axs[0].plot([np.mean(losses[i - 500 : i + 1]) for i in range(500, len(losses))])\n",
    "axs[0].set_title(\"log-loss\")\n",
    "axs[0].set_xlabel(\"steps\")\n",
    "axs[0].set_ylabel(r\"$log_{10}(loss)$\")\n",
    "\n",
    "axs[1].plot(W1_std)\n",
    "axs[1].set_title(\"W1\")\n",
    "axs[1].set_xlabel(\"steps\")\n",
    "axs[1].set_ylabel(r\"$\\sigma$\")\n",
    "\n",
    "axs[2].plot(W2_std)\n",
    "axs[2].set_title(\"W2\")\n",
    "axs[2].set_xlabel(\"steps\")\n",
    "axs[2].set_ylabel(r\"$\\sigma$\")\n",
    "\n",
    "plt.tight_layout()"
   ]
  },
  {
   "cell_type": "code",
   "execution_count": 14,
   "metadata": {},
   "outputs": [
    {
     "name": "stdout",
     "output_type": "stream",
     "text": [
      "train loss: 2.1243\n",
      "valid loss: 2.1680\n"
     ]
    }
   ],
   "source": [
    "@torch.no_grad()  # Decorator to disable gradient tracking\n",
    "def split_loss(split: Literal[\"train\", \"valid\", \"test\"]) -> None:\n",
    "    splits = {\"train\": (Xtrn, Ytrn), \"valid\": (Xval, Yval), \"test\": (Xtst, Ytst)}\n",
    "    x, y = splits[split]\n",
    "    logits = model(x)  # (N, vocab_size)\n",
    "    loss = F.cross_entropy(logits, y)\n",
    "    print(f\"{split} loss: {loss:.4f}\")\n",
    "\n",
    "\n",
    "split_loss(\"train\")\n",
    "split_loss(\"valid\")"
   ]
  },
  {
   "attachments": {},
   "cell_type": "markdown",
   "metadata": {},
   "source": [
    "**Single forward pass**"
   ]
  },
  {
   "cell_type": "code",
   "execution_count": 15,
   "metadata": {},
   "outputs": [
    {
     "name": "stdout",
     "output_type": "stream",
     "text": [
      "Initial loss:   26.5520\n",
      "Initial logits: [12.411925315856934, -7.6996283531188965, 2.3776426315307617, 6.556832790374756, -6.789996147155762, -15.600006103515625, -21.210203170776367, -0.6893330216407776, 13.282832145690918, -12.542020797729492, -4.280671119689941, 25.916994094848633, 1.7244635820388794, -19.724594116210938, 2.658778190612793, 7.776032447814941, -15.661372184753418, 14.814678192138672, 16.635112762451172, -9.397875785827637, -6.041196823120117, -2.7173681259155273, -1.9347691535949707, -4.294508457183838, -9.465439796447754, -5.1644392013549805, 0.7409148216247559]\n",
      "μ: -1.4191560745239258, σ: 11.508225440979004\n"
     ]
    }
   ],
   "source": [
    "model = MLP(\n",
    "    vocab_size=vocab_size,\n",
    "    block_size=block_size,\n",
    "    emb_dim=emb_dim,\n",
    "    hid_dim=hid_dim,\n",
    "    seed=seed,\n",
    ")\n",
    "\n",
    "# Minibatch construct\n",
    "ix = torch.randint(0, Xtrn.shape[0], (bs,), generator=g)\n",
    "Xb, Yb = Xtrn[ix], Ytrn[ix]\n",
    "\n",
    "# Forward pass\n",
    "logits = model(Xb)\n",
    "loss = F.cross_entropy(logits, Yb)\n",
    "\n",
    "print(f\"Initial loss:   {loss.item():.4f}\")\n",
    "print(f\"Initial logits: {logits[0].tolist()}\")\n",
    "print(f\"\\u03BC: {logits[0].mean().item()}, \\u03C3: {logits[0].std().item()}\")"
   ]
  },
  {
   "attachments": {},
   "cell_type": "markdown",
   "metadata": {},
   "source": [
    "The logits have quite extreme values and that create the fake confidence and high initial loss. These logits need to be much closer to 0. \n",
    "\n",
    "How can we do that?   \n",
    "\n",
    "`logits = h @ W2 + b2`\n",
    "\n",
    "- The bias `b2` is initialized with random values with mean 0 and std 1. But because we want the logits to be roughly 0's we shouldn't add a bias of random values.\n",
    "- The weight `W2` is also initialized with random values. If we want the logits to be very small we also need to make the weights small.\n",
    "\n",
    "If we would set the weight `W2` to 0's then the logits would be 0's and the loss would be exactly equal to the ideal loss of 0.29. However it's not a good idea to do that. The reason why it's better to have a bit of entropy will be explained later in this notebook."
   ]
  },
  {
   "attachments": {},
   "cell_type": "markdown",
   "metadata": {},
   "source": [
    "#### Improved initialisation\n"
   ]
  },
  {
   "cell_type": "code",
   "execution_count": 16,
   "metadata": {},
   "outputs": [
    {
     "name": "stdout",
     "output_type": "stream",
     "text": [
      "Initial loss:   3.2939\n",
      "Initial logits: [-0.03930702432990074, -0.10857903212308884, 0.08649525046348572, -0.06766287982463837, -0.0863657295703888, -0.015910087153315544, -0.09526076167821884, -0.026780564337968826, -0.06762383878231049, 0.12035798281431198, 0.019621366634964943, 0.15579168498516083, 0.04114056006073952, 0.05029834806919098, -0.08983135223388672, 0.08724547177553177, -0.22866690158843994, -0.12500609457492828, 0.10545863211154938, 0.21103426814079285, -0.08953241258859634, -0.026477359235286713, -0.19447888433933258, 0.2250606268644333, 0.04665874317288399, 0.1288319081068039, -0.06684305518865585]\n",
      "μ: -0.0018641165224835277, σ: 0.11609502881765366\n"
     ]
    }
   ],
   "source": [
    "model = MLP(\n",
    "    vocab_size=vocab_size,\n",
    "    block_size=block_size,\n",
    "    emb_dim=emb_dim,\n",
    "    hid_dim=hid_dim,\n",
    "    seed=seed,\n",
    ")\n",
    "# Don't add b2\n",
    "model.b2 = model.b2 * 0\n",
    "# Make W2 very small\n",
    "model.W2 = model.W2 * 0.01\n",
    "\n",
    "# Minibatch construct\n",
    "ix = torch.randint(0, Xtrn.shape[0], (bs,), generator=g)\n",
    "Xb, Yb = Xtrn[ix], Ytrn[ix]\n",
    "\n",
    "# Forward pass\n",
    "logits = model(Xb)\n",
    "loss = F.cross_entropy(logits, Yb)\n",
    "\n",
    "print(f\"Initial loss:   {loss.item():.4f}\")\n",
    "print(f\"Initial logits: {logits[0].tolist()}\")\n",
    "print(f\"\\u03BC: {logits[0].mean().item()}, \\u03C3: {logits[0].std().item()}\")"
   ]
  },
  {
   "attachments": {},
   "cell_type": "markdown",
   "metadata": {},
   "source": [
    "The logits are now much closer to 0 and the initial loss of 3.32 is very close to the ideal loss of 3.29. \n",
    "\n",
    "Let's now see the effect of better initialisation."
   ]
  },
  {
   "cell_type": "code",
   "execution_count": 17,
   "metadata": {
    "tags": [
     "output_scroll"
    ]
   },
   "outputs": [
    {
     "name": "stdout",
     "output_type": "stream",
     "text": [
      "      0/200001: 3.3179\n",
      "  10000/200001: 2.1848\n",
      "  20000/200001: 2.3320\n",
      "  30000/200001: 2.4731\n",
      "  40000/200001: 1.9858\n",
      "  50000/200001: 2.4827\n",
      "  60000/200001: 2.1361\n",
      "  70000/200001: 2.1642\n",
      "  80000/200001: 2.3967\n",
      "  90000/200001: 2.0793\n",
      " 100000/200001: 2.4436\n",
      " 110000/200001: 2.1291\n",
      " 120000/200001: 2.2657\n",
      " 130000/200001: 1.7314\n",
      " 140000/200001: 2.1808\n",
      " 150000/200001: 2.2475\n",
      " 160000/200001: 2.0536\n",
      " 170000/200001: 1.6976\n",
      " 180000/200001: 2.4663\n",
      " 190000/200001: 2.2927\n",
      " 200000/200001: 1.9672\n"
     ]
    }
   ],
   "source": [
    "# Improved initialisation\n",
    "model = MLP(\n",
    "    vocab_size=vocab_size,\n",
    "    block_size=block_size,\n",
    "    emb_dim=emb_dim,\n",
    "    hid_dim=hid_dim,\n",
    "    seed=seed,\n",
    ")\n",
    "model.b2.data *= 0\n",
    "model.W2.data *= 0.01\n",
    "\n",
    "n_steps = 200001\n",
    "bs = 32\n",
    "losses = []\n",
    "\n",
    "W1_std = []\n",
    "W2_std = []\n",
    "\n",
    "g = torch.Generator().manual_seed(seed)\n",
    "for i in range(n_steps):\n",
    "    # Minibatch construct\n",
    "    ix = torch.randint(0, Xtrn.shape[0], (bs,), generator=g)\n",
    "    Xb, Yb = Xtrn[ix], Ytrn[ix]\n",
    "\n",
    "    # Forward pass\n",
    "    logits = model(Xb)\n",
    "    loss = F.cross_entropy(logits, Yb)\n",
    "\n",
    "    # Backward pass\n",
    "    model.zero_grad()\n",
    "    loss.backward(retain_graph=False)  # retain_graph = True because we changed the\n",
    "\n",
    "    # Update\n",
    "    lr = 0.1 if i < 100000 else 0.01  # Step learning rate decay\n",
    "    model.optimise_step(lr)\n",
    "\n",
    "    # Tack stats\n",
    "    losses.append(loss.log10().item())\n",
    "    W1_std.append(model.W1.std().item())\n",
    "    W2_std.append(model.W2.std().item())\n",
    "\n",
    "    if i % 10000 == 0:\n",
    "        print(f\"{i:7d}/{n_steps}: {loss.item():.4f}\")"
   ]
  },
  {
   "cell_type": "code",
   "execution_count": 18,
   "metadata": {},
   "outputs": [
    {
     "data": {
      "image/png": "[encoded data removed]",
      "text/plain": [
       "<Figure size 1500x300 with 3 Axes>"
      ]
     },
     "metadata": {},
     "output_type": "display_data"
    }
   ],
   "source": [
    "fig, axs = plt.subplots(1, 3, figsize=(15, 3))\n",
    "\n",
    "axs[0].plot(losses)\n",
    "axs[0].plot([np.mean(losses[i - 500 : i + 1]) for i in range(500, len(losses))])\n",
    "axs[0].set_title(\"log-loss\")\n",
    "axs[0].set_xlabel(\"steps\")\n",
    "axs[0].set_ylabel(r\"$log_{10}(loss)$\")\n",
    "\n",
    "axs[1].plot(W1_std)\n",
    "axs[1].set_title(\"W1\")\n",
    "axs[1].set_xlabel(\"steps\")\n",
    "axs[1].set_ylabel(r\"$\\sigma$\")\n",
    "\n",
    "axs[2].plot(W2_std)\n",
    "axs[2].set_title(\"W2\")\n",
    "axs[2].set_xlabel(\"steps\")\n",
    "axs[2].set_ylabel(r\"$\\sigma$\")\n",
    "\n",
    "plt.tight_layout()"
   ]
  },
  {
   "cell_type": "code",
   "execution_count": 19,
   "metadata": {},
   "outputs": [
    {
     "name": "stdout",
     "output_type": "stream",
     "text": [
      "train loss: 2.0686\n",
      "valid loss: 2.1294\n"
     ]
    }
   ],
   "source": [
    "@torch.no_grad()  # Decorator to disable gradient tracking\n",
    "def split_loss(split: Literal[\"train\", \"valid\", \"test\"]) -> None:\n",
    "    splits = {\"train\": (Xtrn, Ytrn), \"valid\": (Xval, Yval), \"test\": (Xtst, Ytst)}\n",
    "    x, y = splits[split]\n",
    "    logits = model(x)  # (N, vocab_size)\n",
    "    loss = F.cross_entropy(logits, y)\n",
    "    print(f\"{split} loss: {loss:.4f}\")\n",
    "\n",
    "\n",
    "split_loss(\"train\")\n",
    "split_loss(\"valid\")"
   ]
  },
  {
   "attachments": {},
   "cell_type": "markdown",
   "metadata": {},
   "source": [
    "The plot of the loss doesn't have the hockey shape appearance because we start at a much lower loss. In the initial model the first few thousand iterations are used to bring the loss down closer to the ideal loss by shrinking the weights. With the optimised initialisation we don't spend time on this easy part but immediately start training the network.\n",
    "\n",
    "The training loss also slightly improved from 2.12 to 2.07 and the valid loss from 2.17 to 2.13. The reason for this is that we spend more time optimizing the network instead of spending the first several thousand iterations shrinking the weights."
   ]
  },
  {
   "attachments": {},
   "cell_type": "markdown",
   "metadata": {},
   "source": [
    "### Fixing the saturated tanh"
   ]
  },
  {
   "attachments": {},
   "cell_type": "markdown",
   "metadata": {},
   "source": [
    "Despite the promising start with an initial loss of 3.32, which is close to the ideal initial loss, there is an underlying issue within the network related to its initialization. \n",
    "\n",
    "The logits appear to be functioning properly, however, the problem now lies with the values of h, the activations of the hidden states."
   ]
  },
  {
   "attachments": {},
   "cell_type": "markdown",
   "metadata": {},
   "source": [
    "**Visualisation of the tensor h**"
   ]
  },
  {
   "cell_type": "code",
   "execution_count": 20,
   "metadata": {},
   "outputs": [
    {
     "data": {
      "text/plain": [
       "tensor([[-1.0000,  0.9604, -0.1418,  ..., -0.1266,  1.0000,  1.0000],\n",
       "        [-1.0000, -0.9978, -0.9997,  ...,  0.7127,  0.9988, -0.1015],\n",
       "        [-1.0000, -0.9942, -1.0000,  ..., -1.0000, -0.9995,  1.0000],\n",
       "        ...,\n",
       "        [-0.9716, -0.9999, -0.9919,  ..., -0.9976, -0.9999, -0.3318],\n",
       "        [ 0.9923, -0.9907, -1.0000,  ..., -0.9999, -0.9476,  0.9999],\n",
       "        [-0.9716, -0.9999, -0.9919,  ..., -0.9976, -0.9999, -0.3318]], grad_fn=<TanhBackward0>)"
      ]
     },
     "execution_count": 20,
     "metadata": {},
     "output_type": "execute_result"
    }
   ],
   "source": [
    "model = MLP(\n",
    "    vocab_size=vocab_size,\n",
    "    block_size=block_size,\n",
    "    emb_dim=emb_dim,\n",
    "    hid_dim=hid_dim,\n",
    "    seed=seed,\n",
    ")\n",
    "model(Xb)\n",
    "h = model.h\n",
    "h"
   ]
  },
  {
   "attachments": {},
   "cell_type": "markdown",
   "metadata": {},
   "source": [
    "Many elements of `h` are 1 or -1. \n",
    "\n",
    "`h = tanh(emb @ W1 + b1)`\n",
    "\n",
    "The activation function tanh, short for hyperbolic tangent, is a type of squashing function that maps real numbers to a range of [-1,1]. It transforms large negative numbers to values near -1 and large positive numbers to values near 1. \n",
    "\n",
    "The majority of values produced by the tanh activation function tend to be either -1 or 1. This can be seen by examining the distribution of `h_preact`, where the numbers range from -20 to 20. The tanh activation squashes these large numbers to -1 and 1, thus resulting in the majority of values being either -1 or 1."
   ]
  },
  {
   "cell_type": "code",
   "execution_count": 21,
   "metadata": {},
   "outputs": [
    {
     "data": {
      "image/png": "[encoded data removed]",
      "text/plain": [
       "<Figure size 1000x300 with 2 Axes>"
      ]
     },
     "metadata": {},
     "output_type": "display_data"
    }
   ],
   "source": [
    "fig, axs = plt.subplots(1, 2, figsize=(10, 3))\n",
    "\n",
    "hist = h.view(-1).tolist()  # (bs, hid_dim) -> (bs*hid_dim)\n",
    "axs[0].hist(hist, bins=50)\n",
    "axs[0].set_title(\"Histogram h\")\n",
    "\n",
    "h_preact = model.h_preact\n",
    "hist = h_preact.view(-1).tolist()  # (bs, hid_dim) -> (bs*hid_dim)\n",
    "axs[1].hist(hist, bins=50)\n",
    "axs[1].set_title(\"Histogram h_preact\")\n",
    "plt.tight_layout()"
   ]
  },
  {
   "attachments": {},
   "cell_type": "markdown",
   "metadata": {},
   "source": [
    "Why is this a problem?   \n",
    "During the backward pass, we begin with the loss and move backwards through the network. This includes backpropagating through the tanh function. The hidden layer of 200 neurons that use the elementwise tanh function.\n",
    "\n",
    "```{note}\n",
    "The derivative of tanh is $\\Large\\frac{tanh(x)}{d(x)}\\large=1-tanh^2$.   \n",
    "The chain rule is $\\Large\\frac{dy}{dx}=\\frac{dy}{du} \\cdot \\frac{du}{dx}$ where $y = f(g(x))$ and $\\frac{dy}{du} = f'(u) and \\frac{du}{dx} = g'(x) $.\n",
    "```\n",
    "\n",
    "When the output of the tanh function is close to -1 or 1, the derivative of tanh is 0. This is due to the fact that we are in the flat region of the tanh function. As a result, small changes in the weights of the neuron do not affect the loss. This in turn stops the backpropagation process because we multiply by 0 in the chain rule. The neuron \n",
    "\n",
    "When the output of the tanh function is close to 0, the derivative is close to 1. The gradient just passes through because we multiply by 1 in the chain rule.\n"
   ]
  },
  {
   "cell_type": "code",
   "execution_count": 22,
   "metadata": {},
   "outputs": [
    {
     "data": {
      "image/png": "[encoded data removed]",
      "text/plain": [
       "<Figure size 1000x300 with 2 Axes>"
      ]
     },
     "metadata": {},
     "output_type": "display_data"
    }
   ],
   "source": [
    "fig, axs = plt.subplots(1, 2, figsize=(10, 3))\n",
    "xs = torch.linspace(-8, 8, 101)\n",
    "\n",
    "ys = torch.tanh(xs)\n",
    "axs[0].plot(xs, ys)\n",
    "axs[0].set_title(\"tanh\")\n",
    "\n",
    "ys = 1 - torch.tanh(xs) ** 2\n",
    "axs[1].plot(xs, ys)\n",
    "axs[1].set_title(r\"$\\frac{tanh(x)}{dx} = 1-tanh(x)^2$\")\n",
    "\n",
    "plt.tight_layout()"
   ]
  },
  {
   "attachments": {},
   "cell_type": "markdown",
   "metadata": {},
   "source": [
    "**Visualisation of neurons in flat region of tanh**"
   ]
  },
  {
   "cell_type": "code",
   "execution_count": 23,
   "metadata": {},
   "outputs": [
    {
     "data": {
      "image/png": "[encoded data removed]",
      "text/plain": [
       "<Figure size 1500x400 with 2 Axes>"
      ]
     },
     "metadata": {},
     "output_type": "display_data"
    }
   ],
   "source": [
    "plt.figure(figsize=(15, 4))\n",
    "plt.imshow(h.abs() > 0.99, cmap=\"gray\", interpolation=\"nearest\")\n",
    "plt.title(\"abs(h) > 0.99\")\n",
    "plt.xlabel(\"neuron\")\n",
    "plt.ylabel(\"sample\")\n",
    "plt.colorbar()\n",
    "plt.show()"
   ]
  },
  {
   "attachments": {},
   "cell_type": "markdown",
   "metadata": {},
   "source": [
    "The above image shows that there are a lot of neurons that are in the flat tails of tanh (white). The gradients during the backward pass for these neurons would be severely reduced. If an entire column is white (tanh > 0.99) for all samples, this represents a \"death neuron\", where no single sample ever activates the tanh in the active part of tanh. As a result, the neuron will not be able to learn during training.\n",
    "\n",
    "Death neurons can happen if the weights of the network are initialized with very large values. It can also happen if the learning rate is set too high, which can cause the weights to become large during training. "
   ]
  },
  {
   "attachments": {},
   "cell_type": "markdown",
   "metadata": {},
   "source": [
    "#### Improved model"
   ]
  },
  {
   "attachments": {},
   "cell_type": "markdown",
   "metadata": {},
   "source": [
    "We want less outputs of tanh to be -1 or 1. In other words, we want the pre-activation `h_preact` to be closer to 0.\n",
    "\n",
    "How can we do that? \n",
    "\n",
    "`h = tanh(emb @ W1 + b1)`\n",
    "- We could set the bias `b1` to 0, but it's often better to have a little entropy, so we'll set it to `b1 * 0.01`.\n",
    "- We set `W1 = W1 * 0.2`.\n",
    "\n",
    "\n"
   ]
  },
  {
   "cell_type": "code",
   "execution_count": 24,
   "metadata": {},
   "outputs": [
    {
     "data": {
      "image/png": "[encoded data removed]",
      "text/plain": [
       "<Figure size 1000x300 with 2 Axes>"
      ]
     },
     "metadata": {},
     "output_type": "display_data"
    }
   ],
   "source": [
    "model = MLP(\n",
    "    vocab_size=vocab_size,\n",
    "    block_size=block_size,\n",
    "    emb_dim=emb_dim,\n",
    "    hid_dim=hid_dim,\n",
    "    seed=seed,\n",
    ")\n",
    "# Fixing the logits\n",
    "model.b2 = model.b2 * 0\n",
    "model.W2 = model.W2 * 0.01\n",
    "# Fixing the tanh\n",
    "model.b1 = model.b1 * 0.01\n",
    "model.W1 = model.W1 * 0.2\n",
    "\n",
    "model(Xb)\n",
    "h = model.h\n",
    "\n",
    "fig, axs = plt.subplots(1, 2, figsize=(10, 3))\n",
    "\n",
    "hist = h.view(-1).tolist()  # (bs, hid_dim) -> (bs*hid_dim)\n",
    "axs[0].hist(hist, bins=50)\n",
    "axs[0].set_title(\"Histogram h\")\n",
    "\n",
    "h_preact = model.h_preact\n",
    "hist = h_preact.view(-1).tolist()  # (bs, hid_dim) -> (bs*hid_dim)\n",
    "axs[1].hist(hist, bins=50)\n",
    "axs[1].set_title(\"Histogram h_preact\")\n",
    "plt.tight_layout()"
   ]
  },
  {
   "cell_type": "code",
   "execution_count": 25,
   "metadata": {},
   "outputs": [
    {
     "data": {
      "image/png": "[encoded data removed]",
      "text/plain": [
       "<Figure size 1500x400 with 2 Axes>"
      ]
     },
     "metadata": {},
     "output_type": "display_data"
    }
   ],
   "source": [
    "plt.figure(figsize=(15, 4))\n",
    "plt.imshow(h.abs() > 0.99, cmap=\"gray\", interpolation=\"nearest\")\n",
    "plt.title(\"abs(h) > 0.99\")\n",
    "plt.xlabel(\"neuron\")\n",
    "plt.ylabel(\"sample\")\n",
    "plt.colorbar()\n",
    "plt.show()"
   ]
  },
  {
   "attachments": {},
   "cell_type": "markdown",
   "metadata": {},
   "source": [
    "The histogram show that `h_preact` is much closer to 0 and `h` has far less -1's and 1's.\n",
    "\n",
    "Let's now see the effect of better initialisation."
   ]
  },
  {
   "cell_type": "code",
   "execution_count": 26,
   "metadata": {
    "tags": [
     "output_scroll"
    ]
   },
   "outputs": [
    {
     "name": "stdout",
     "output_type": "stream",
     "text": [
      "      0/200001: 3.3070\n",
      "  10000/200001: 2.0390\n",
      "  20000/200001: 2.3337\n",
      "  30000/200001: 2.1899\n",
      "  40000/200001: 2.0281\n",
      "  50000/200001: 2.3006\n",
      "  60000/200001: 1.9184\n",
      "  70000/200001: 2.0165\n",
      "  80000/200001: 2.1462\n",
      "  90000/200001: 2.0186\n",
      " 100000/200001: 2.1868\n",
      " 110000/200001: 2.0560\n",
      " 120000/200001: 2.0876\n",
      " 130000/200001: 1.6509\n",
      " 140000/200001: 2.2062\n",
      " 150000/200001: 2.2495\n",
      " 160000/200001: 2.0697\n",
      " 170000/200001: 1.6954\n",
      " 180000/200001: 2.5340\n",
      " 190000/200001: 2.2555\n",
      " 200000/200001: 1.8769\n"
     ]
    }
   ],
   "source": [
    "# Improved initialisation\n",
    "model = MLP(\n",
    "    vocab_size=vocab_size,\n",
    "    block_size=block_size,\n",
    "    emb_dim=emb_dim,\n",
    "    hid_dim=hid_dim,\n",
    "    seed=seed,\n",
    ")\n",
    "# Fixing the logits\n",
    "model.b2.data *= 0\n",
    "model.W2.data *= 0.01\n",
    "# Fixing the tanh\n",
    "model.b1.data *= 0.01\n",
    "model.W1.data *= 0.2\n",
    "\n",
    "n_steps = 200001\n",
    "bs = 32\n",
    "losses = []\n",
    "\n",
    "W1_std = []\n",
    "W2_std = []\n",
    "\n",
    "g = torch.Generator().manual_seed(seed)\n",
    "for i in range(n_steps):\n",
    "    # Minibatch construct\n",
    "    ix = torch.randint(0, Xtrn.shape[0], (bs,), generator=g)\n",
    "    Xb, Yb = Xtrn[ix], Ytrn[ix]\n",
    "\n",
    "    # Forward pass\n",
    "    logits = model(Xb)\n",
    "    loss = F.cross_entropy(logits, Yb)\n",
    "\n",
    "    # Backward pass\n",
    "    model.zero_grad()\n",
    "    loss.backward(retain_graph=False)  # retain_graph = True because we changed the\n",
    "\n",
    "    # Update\n",
    "    lr = 0.1 if i < 100000 else 0.01  # Step learning rate decay\n",
    "    model.optimise_step(lr)\n",
    "\n",
    "    # Tack stats\n",
    "    losses.append(loss.log10().item())\n",
    "    W1_std.append(model.W1.std().item())\n",
    "    W2_std.append(model.W2.std().item())\n",
    "\n",
    "    if i % 10000 == 0:\n",
    "        print(f\"{i:7d}/{n_steps}: {loss.item():.4f}\")"
   ]
  },
  {
   "cell_type": "code",
   "execution_count": 27,
   "metadata": {},
   "outputs": [
    {
     "data": {
      "image/png": "[encoded data removed]",
      "text/plain": [
       "<Figure size 1500x300 with 3 Axes>"
      ]
     },
     "metadata": {},
     "output_type": "display_data"
    }
   ],
   "source": [
    "fig, axs = plt.subplots(1, 3, figsize=(15, 3))\n",
    "\n",
    "axs[0].plot(losses)\n",
    "axs[0].plot([np.mean(losses[i - 500 : i + 1]) for i in range(500, len(losses))])\n",
    "axs[0].set_title(\"log-loss\")\n",
    "axs[0].set_xlabel(\"steps\")\n",
    "axs[0].set_ylabel(r\"$log_{10}(loss)$\")\n",
    "\n",
    "axs[1].plot(W1_std)\n",
    "axs[1].set_title(\"W1\")\n",
    "axs[1].set_xlabel(\"steps\")\n",
    "axs[1].set_ylabel(r\"$\\sigma$\")\n",
    "\n",
    "axs[2].plot(W2_std)\n",
    "axs[2].set_title(\"W2\")\n",
    "axs[2].set_xlabel(\"steps\")\n",
    "axs[2].set_ylabel(r\"$\\sigma$\")\n",
    "\n",
    "plt.tight_layout()"
   ]
  },
  {
   "cell_type": "code",
   "execution_count": 28,
   "metadata": {},
   "outputs": [
    {
     "name": "stdout",
     "output_type": "stream",
     "text": [
      "train loss: 2.0365\n",
      "valid loss: 2.1045\n"
     ]
    }
   ],
   "source": [
    "@torch.no_grad()  # Decorator to disable gradient tracking\n",
    "def split_loss(split: Literal[\"train\", \"valid\", \"test\"]) -> None:\n",
    "    splits = {\"train\": (Xtrn, Ytrn), \"valid\": (Xval, Yval), \"test\": (Xtst, Ytst)}\n",
    "    x, y = splits[split]\n",
    "    logits = model(x)  # (N, vocab_size)\n",
    "    loss = F.cross_entropy(logits, y)\n",
    "    print(f\"{split} loss: {loss:.4f}\")\n",
    "\n",
    "\n",
    "split_loss(\"train\")\n",
    "split_loss(\"valid\")"
   ]
  },
  {
   "attachments": {},
   "cell_type": "markdown",
   "metadata": {},
   "source": [
    "The training loss slightly improved from 2.07 to 2.04 and the valid loss from 2.13 to 2.10.\n",
    "\n",
    "```{note}\n",
    "Log of losses\n",
    "\n",
    "Original loss: \n",
    "train: 2.1243\n",
    "valid: 2.1680\n",
    "\n",
    "Fix softmax confidently wrong:\n",
    "train: 2.0686\n",
    "valid: 2.1294\n",
    "\n",
    "Fix tanh layer too saturated at init:\n",
    "train: 2.0365\n",
    "valid: 2.1045\n",
    "```\n",
    "Our MLP has a simple architecture with only one layer, which makes it relatively insensitive to poor initialization. Even if our initialisation was terrible, the network was still able to learn eventually. However, this is not the case for deeper networks (e.g. 50 layers) where the impact of poor initialization can compound. The deeper and more complex the network is, the more critical the initialization becomes, and it may not be able to learn at all."
   ]
  },
  {
   "attachments": {},
   "cell_type": "markdown",
   "metadata": {},
   "source": [
    "### Kaiming initialisation"
   ]
  },
  {
   "cell_type": "markdown",
   "metadata": {},
   "source": [
    "The paper [\"Delving Deep into Rectifiers\" by Kaiming He et al. (2015)](https://arxiv.org/abs/1502.01852) is widely referenced as a guide for initializing weights in deep neural networks. This paper specifically examines the ReLU and PReLU activations in convolutional neural networks, but the analysis is also applicable to tanh activations in MLPs. "
   ]
  },
  {
   "attachments": {},
   "cell_type": "markdown",
   "metadata": {},
   "source": [
    "When dealing with a large neural network with many layers, it is not feasible to manually set the scales (standard deviation) of all the weights and biases, as was done above. Instead, there are several established methods for determining these scales in a principled way, which will be introduced in the following section."
   ]
  },
  {
   "attachments": {},
   "cell_type": "markdown",
   "metadata": {},
   "source": [
    "Given an input `x` randomly drawn from a Gaussian distribution (mean=0, std=1) with 1000 samples and 10 dimensions, and a layer `w` initialized with a Gaussian distribution (mean=0, std=1) with 200 neurons and 10 inputs each, we can calculate the pre-activations `y` by performing the dot product of `x` and `w`.   \n",
    "The question is, what are the mean and standard deviation of `y`?"
   ]
  },
  {
   "cell_type": "code",
   "execution_count": 30,
   "metadata": {},
   "outputs": [
    {
     "data": {
      "image/png": "[encoded data removed]",
      "text/plain": [
       "<Figure size 500x300 with 1 Axes>"
      ]
     },
     "metadata": {},
     "output_type": "display_data"
    },
    {
     "name": "stdout",
     "output_type": "stream",
     "text": [
      "x mean / std: 0.0215 / 0.9926\n",
      "y mean / std: -0.0085 / 3.1987\n"
     ]
    }
   ],
   "source": [
    "x = torch.randn(1000, 10)\n",
    "w = torch.randn(10, 200)\n",
    "y = x @ w\n",
    "\n",
    "plt.figure(figsize=(5, 3))\n",
    "plt.hist(x.view(-1).tolist(), bins=50, density=True, alpha=0.5, label=\"x\")\n",
    "plt.title(\"Histograms for x and y\")\n",
    "plt.hist(y.view(-1).tolist(), bins=50, density=True, alpha=0.5, label=\"y\")\n",
    "plt.legend()\n",
    "plt.show()\n",
    "\n",
    "print(f\"x mean / std: {x.mean().item():.4f} / {x.std().item():.4f}\")\n",
    "print(f\"y mean / std: {y.mean().item():.4f} / {y.std().item():.4f}\")"
   ]
  },
  {
   "cell_type": "code",
   "execution_count": 31,
   "metadata": {},
   "outputs": [
    {
     "name": "stdout",
     "output_type": "stream",
     "text": [
      "x mean / std: -0.0090 / 0.9811\n",
      "Scale: 1 -> y mean / std: 0.0004 / 3.1526\n",
      "Scale: 5 -> y mean / std: 0.0136 / 15.9764\n",
      "Scale: 0.2 -> y mean / std: 0.0010 / 0.6153\n",
      "Scale: 0.31622776601683794 -> y mean / std: -0.0000 / 0.9751\n"
     ]
    }
   ],
   "source": [
    "x = torch.randn(1000, 10)\n",
    "print(f\"x mean / std: {x.mean().item():.4f} / {x.std().item():.4f}\")\n",
    "for s in [1, 5, 0.2, 1 / 10**0.5]:\n",
    "    w = torch.randn(10, 200) * s\n",
    "    y = x @ w\n",
    "    print(f\"Scale: {s} -> y mean / std: {y.mean().item():.4f} / {y.std().item():.4f}\")"
   ]
  },
  {
   "attachments": {},
   "cell_type": "markdown",
   "metadata": {},
   "source": [
    "The mean of `y` remains around 0 (due to the symmetric nature of the operation), but the standard deviation increases to around 3. If we scale with a factor bigger than 1 the std of `y` increases, if we scale with a factor less than 1, the std decreases.  \n",
    "If we scale `w` with $\\sqrt{1/\\text{fan}_{in}}= \\sqrt{1/10}$ then we obtain a std of 1."
   ]
  },
  {
   "attachments": {},
   "cell_type": "markdown",
   "metadata": {},
   "source": [
    "The ReLU function is a squashing function that squashes the negative values to 0, which throws away half of the distribution. It is necessary to compensate the scaling $\\sqrt{1/\\text{fan}_{in}}$ with a gain depending on the non-linearity, so that the variance of the outputs of each layer remains approximately the same. This helps to prevent the vanishing or exploding gradients problem, and improves the overall training performance of the neural network. For ReLU, the gain is $\\sqrt2$, meaning that the weights should be initialized with a Gaussian distribution with mean 0 and standard deviation of $\\sqrt{(2/\\text{fan}_{in})}$.\n",
    "\n",
    "The paper also examines the backpropagations, ensuring that the gradients are well-behaved. If the forward pass is properly initialized, the backward pass is also approximately initialized, except for a constant factor that depends on the size of hidden neurons in the previous and next layer. Empirically, it has been shown that this constant factor does not have a significant impact on the overall performance of the neural network.\n",
    "\n",
    "\n",
    "\n"
   ]
  },
  {
   "attachments": {},
   "cell_type": "markdown",
   "metadata": {},
   "source": [
    "```Note\n",
    "**Pytorch Kaiming initialisation**\n",
    "\n",
    "[torch.nn.init.kaiming_normal_(tensor, a=0, mode='fan_in', nonlinearity='leaky_relu)`](https://pytorch.org/docs/stable/nn.init.html#torch.nn.init.kaiming_normal_)\n",
    "\n",
    "The resulting tensor will have values sampled from $\\mathcal{N}(0, \\text{std}^2)$ where $\\text{std} = \\frac{\\text{gain}}{\\sqrt{\\text{fan\\_mode}}}$​.  \n",
    "\n",
    "The `mode` parameter can be either fan_in to normalise the forward pass or fan_out to normalise the backwardpass to a gaussian with mean 0 and std 1.\n",
    "The `nonlinearity` parameter is used to calculate the gain. See [torch.nn.init.calculate_gain(nonlinearity, param=None)](https://pytorch.org/docs/stable/nn.init.html#torch.nn.init.calculate_gain)\n",
    "\n",
    "Gain:\n",
    "- Linear: 1\n",
    "- Tanh: 5/3\n",
    "- ReLU: $\\sqrt2$\n",
    "```"
   ]
  },
  {
   "attachments": {},
   "cell_type": "markdown",
   "metadata": {},
   "source": [
    "#### Apply Kaiming and train the network "
   ]
  },
  {
   "cell_type": "code",
   "execution_count": 32,
   "metadata": {},
   "outputs": [
    {
     "name": "stdout",
     "output_type": "stream",
     "text": [
      "      0/200001: 4.0933\n",
      "  10000/200001: 2.0371\n",
      "  20000/200001: 2.3370\n",
      "  30000/200001: 2.2522\n",
      "  40000/200001: 1.9623\n",
      "  50000/200001: 2.3524\n",
      "  60000/200001: 2.0237\n",
      "  70000/200001: 2.0491\n",
      "  80000/200001: 2.2408\n",
      "  90000/200001: 2.0058\n",
      " 100000/200001: 2.2135\n",
      " 110000/200001: 2.0812\n",
      " 120000/200001: 2.2047\n",
      " 130000/200001: 1.5784\n",
      " 140000/200001: 2.2378\n",
      " 150000/200001: 2.2673\n",
      " 160000/200001: 2.0387\n",
      " 170000/200001: 1.6633\n",
      " 180000/200001: 2.6312\n",
      " 190000/200001: 2.1635\n",
      " 200000/200001: 1.9434\n"
     ]
    }
   ],
   "source": [
    "model = MLP(\n",
    "    vocab_size=vocab_size,\n",
    "    block_size=block_size,\n",
    "    emb_dim=emb_dim,\n",
    "    hid_dim=hid_dim,\n",
    "    seed=seed,\n",
    ")\n",
    "gain = torch.nn.init.calculate_gain(\"tanh\")  # 5 / 3\n",
    "# Initialise the weights\n",
    "fan_in = model.W1.shape[0]\n",
    "model.W1.data *= gain / (fan_in**0.5)  # 0.304\n",
    "model.b1.data *= 0.01\n",
    "fan_in = model.W2.shape[0]\n",
    "model.W2.data *= gain / (fan_in**0.5)  # 0.118\n",
    "model.b2.data *= 0\n",
    "\n",
    "n_steps = 200001\n",
    "bs = 32\n",
    "g = torch.Generator().manual_seed(seed)\n",
    "for i in range(n_steps):\n",
    "    # Minibatch construct\n",
    "    ix = torch.randint(0, Xtrn.shape[0], (bs,), generator=g)\n",
    "    Xb, Yb = Xtrn[ix], Ytrn[ix]\n",
    "\n",
    "    # Forward pass\n",
    "    logits = model(Xb)\n",
    "    loss = F.cross_entropy(logits, Yb)\n",
    "\n",
    "    # Backward pass\n",
    "    model.zero_grad()\n",
    "    loss.backward(retain_graph=False)  # retain_graph = True because we changed the\n",
    "\n",
    "    # Update\n",
    "    lr = 0.1 if i < 100000 else 0.01  # Step learning rate decay\n",
    "    model.optimise_step(lr)\n",
    "\n",
    "    # Tack stats\n",
    "    if i % 10000 == 0:\n",
    "        print(f\"{i:7d}/{n_steps}: {loss.item():.4f}\")"
   ]
  },
  {
   "cell_type": "code",
   "execution_count": 33,
   "metadata": {},
   "outputs": [
    {
     "name": "stdout",
     "output_type": "stream",
     "text": [
      "train loss: 2.0392\n",
      "valid loss: 2.1072\n"
     ]
    }
   ],
   "source": [
    "@torch.no_grad()  # Decorator to disable gradient tracking\n",
    "def split_loss(split: Literal[\"train\", \"valid\", \"test\"]) -> None:\n",
    "    splits = {\"train\": (Xtrn, Ytrn), \"valid\": (Xval, Yval), \"test\": (Xtst, Ytst)}\n",
    "    x, y = splits[split]\n",
    "    logits = model(x)  # (N, vocab_size)\n",
    "    loss = F.cross_entropy(logits, y)\n",
    "    print(f\"{split} loss: {loss:.4f}\")\n",
    "\n",
    "\n",
    "split_loss(\"train\")\n",
    "split_loss(\"valid\")"
   ]
  },
  {
   "attachments": {},
   "cell_type": "markdown",
   "metadata": {},
   "source": [
    "The training loss remains similar to before, however, with Kaiming initialization, the scaling factors are not determined by inspecting histograms. Instead, a semi-principled approach is used that is able to scale to larger networks.\n",
    "\n",
    "```{note}\n",
    "Log of losses\n",
    "\n",
    "Original loss: \n",
    "train: 2.1243\n",
    "valid: 2.1680\n",
    "\n",
    "Fix softmax confidently wrong:\n",
    "train: 2.0686\n",
    "valid: 2.1294\n",
    "\n",
    "Fix tanh layer too saturated at init:\n",
    "train: 2.0365\n",
    "valid: 2.1045\n",
    "\n",
    "Kaiming:\n",
    "train: 2.0392\n",
    "valid: 2.1072\n",
    "```\n",
    "\n",
    "\n"
   ]
  },
  {
   "attachments": {},
   "cell_type": "markdown",
   "metadata": {},
   "source": [
    "## Batch Normalisation"
   ]
  },
  {
   "attachments": {},
   "cell_type": "markdown",
   "metadata": {},
   "source": [
    "$y_i \\leftarrow \\gamma\\hat{x_i}+\\beta$"
   ]
  },
  {
   "attachments": {},
   "cell_type": "markdown",
   "metadata": {},
   "source": [
    "Recent advancements have made neural networks more stable, reducing the need for precise initialization. The paper [\"Batch Normalization\" by Sergey Ioffe et al. (2015)]( https://arxiv.org/pdf/1502.03167.pdf) had a significant impact on the field, making it possible to train very deep neural networks with more reliability.   \n",
    "The idea behind the BatchNorm layer is to standardise the pre-activations to be roughly unit Gaussian by subtracting the mean from the batch pre-activation and divide this by the std. The normalisation operation is differentiable.   \n",
    "\n",
    "We don't want the activations to be always unit gaussian. After all, normalizing each input of a layer alters the layer's representational capacity. For instance, normalizing the inputs of a sigmoid function would confine them to the linear range of the nonlinearity.    \n",
    "To overcome this issue, we introduce a set of parameters, namely $\\gamma$ and $\\beta$, for every activation `x`, that scale and shift the normalized value as follows: $y=\\gamma x+\\beta$. These parameters are learned together with the original model parameters and restore the network's representational power.\n",
    "\n",
    "```{note}\n",
    "**BatchNorm**\n",
    "Normalize:\n",
    "$\\hat{x_i} \\leftarrow \\frac{x_1 - \\mu}{\\sigma}$ where   \n",
    "$\\mu \\leftarrow \\frac{1}{m}\\sum_{i=1}^m{x_i}$ and  \n",
    "$\\sigma^2 \\leftarrow \\frac{1}{m}\\sum_{i=1}^m{(x_i - \\mu)^2}$.\n",
    "Scale and shift:\n",
    "$y_i \\leftarrow \\gamma\\hat{x_i}+\\beta$\n",
    "```\n"
   ]
  },
  {
   "attachments": {},
   "cell_type": "markdown",
   "metadata": {},
   "source": [
    "Let's implement this in `MPL()`."
   ]
  },
  {
   "cell_type": "code",
   "execution_count": 134,
   "metadata": {},
   "outputs": [],
   "source": [
    "class MLP:\n",
    "    def __init__(\n",
    "        self,\n",
    "        vocab_size: int = 27,\n",
    "        block_size: int = 3,\n",
    "        emb_dim: int = 10,\n",
    "        hid_dim: int = 100,\n",
    "        seed: int | None = None,\n",
    "    ) -> None:\n",
    "        g = torch.Generator().manual_seed(seed) if seed else None\n",
    "        self.block_size = block_size\n",
    "        self.emb_dim = emb_dim\n",
    "        self.hid_dim = hid_dim\n",
    "        self.C = torch.randn((vocab_size, emb_dim), generator=g)\n",
    "        self.W1 = torch.randn((block_size * emb_dim, hid_dim), generator=g)\n",
    "        self.b1 = torch.randn(hid_dim, generator=g)\n",
    "        self.W2 = torch.randn((hid_dim, vocab_size), generator=g)\n",
    "        self.b2 = torch.randn(vocab_size, generator=g)\n",
    "\n",
    "        self.mu = torch.Tensor()\n",
    "        self.sigma = torch.Tensor()\n",
    "        self.bn_gamma = torch.ones(1, hid_dim)  # gain\n",
    "        self.bn_beta = torch.zeros(1, hid_dim)  # bias\n",
    "\n",
    "        self.h_preact = torch.Tensor()\n",
    "        self.h = torch.Tensor()\n",
    "        self.parameters = [\n",
    "            self.C,\n",
    "            self.W1,\n",
    "            self.b1,\n",
    "            self.W2,\n",
    "            self.b2,\n",
    "            self.bn_gamma,\n",
    "            self.bn_beta,\n",
    "        ]\n",
    "        for p in self.parameters:\n",
    "            p.requires_grad = True\n",
    "        self.n_parameters = sum(p.nelement() for p in self.parameters)\n",
    "\n",
    "    def __call__(self, xs: Tensor) -> Tensor:\n",
    "        \"\"\"Does a forward pass and returns the logits\"\"\"\n",
    "        emb = self.C[xs]  # (bs, 3, 10) Embed characters into vectors\n",
    "        emb = emb.view(\n",
    "            -1, self.block_size * self.emb_dim\n",
    "        )  # (bs, 30) Concatenate the vectors\n",
    "        self.h_preact = emb @ self.W1 + self.b1  # Hidden layer pre-activation\n",
    "\n",
    "        # BatchNorm\n",
    "        self.mu = self.h_preact.mean(0, keepdim=True)\n",
    "        self.sigma = self.h_preact.std(0, keepdim=True)\n",
    "        self.h_preact = (self.h_preact - self.mu) / self.sigma  # Normalising\n",
    "        self.h_preact = self.bn_gamma * self.h_preact + self.bn_beta  # Shift and scale\n",
    "\n",
    "        self.h = torch.tanh(self.h_preact)  # Hidden layer\n",
    "        logits = self.h @ self.W2 + self.b2  # Output layer\n",
    "        return logits\n",
    "\n",
    "    def zero_grad(self) -> None:\n",
    "        \"\"\"Sets the gradients to None\"\"\"\n",
    "        for p in self.parameters:\n",
    "            p.grad = None\n",
    "\n",
    "    def optimise_step(self, lr) -> None:\n",
    "        \"\"\"Updat the parameters\"\"\"\n",
    "        for p in self.parameters:\n",
    "            p.data += -lr * p.grad"
   ]
  },
  {
   "attachments": {},
   "cell_type": "markdown",
   "metadata": {},
   "source": [
    "**Training**"
   ]
  },
  {
   "cell_type": "code",
   "execution_count": 139,
   "metadata": {},
   "outputs": [
    {
     "name": "stdout",
     "output_type": "stream",
     "text": [
      "      0/200001: 3.9589\n",
      "  10000/200001: 2.0083\n",
      "  20000/200001: 2.4120\n",
      "  30000/200001: 2.1590\n",
      "  40000/200001: 2.0901\n",
      "  50000/200001: 2.3454\n",
      "  60000/200001: 2.0026\n",
      "  70000/200001: 2.1650\n",
      "  80000/200001: 2.2169\n",
      "  90000/200001: 2.1430\n",
      " 100000/200001: 2.2172\n",
      " 110000/200001: 2.1164\n",
      " 120000/200001: 2.3085\n",
      " 130000/200001: 1.6323\n",
      " 140000/200001: 2.1411\n",
      " 150000/200001: 2.3615\n",
      " 160000/200001: 2.0977\n",
      " 170000/200001: 1.7015\n",
      " 180000/200001: 2.5745\n",
      " 190000/200001: 2.3151\n",
      " 200000/200001: 1.9448\n"
     ]
    }
   ],
   "source": [
    "vocab_size = len(ix2ch)\n",
    "block_size = 3\n",
    "emb_dim = 10  # The dimentionality of the character embedding vectors\n",
    "hid_dim = 200  # the number of neurons in the hidden layer\n",
    "\n",
    "model = MLP(\n",
    "    vocab_size=vocab_size,\n",
    "    block_size=block_size,\n",
    "    emb_dim=emb_dim,\n",
    "    hid_dim=hid_dim,\n",
    "    seed=seed,\n",
    ")\n",
    "# Initialise the weights\n",
    "gain = torch.nn.init.calculate_gain(\"tanh\")  # 5 / 3\n",
    "fan_in = model.W1.shape[0]\n",
    "model.W1.data *= gain / (fan_in**0.5)  # 0.304\n",
    "model.b1.data *= 0.01\n",
    "fan_in = model.W2.shape[0]\n",
    "model.W2.data *= gain / (fan_in**0.5)  # 0.118\n",
    "model.b2.data *= 0\n",
    "\n",
    "n_steps = 200001\n",
    "bs = 32\n",
    "losses = []\n",
    "mus, sigmas = [], []\n",
    "gammas, betas = [], []\n",
    "g = torch.Generator().manual_seed(seed)\n",
    "for i in range(n_steps):\n",
    "    # Minibatch construct\n",
    "    ix = torch.randint(0, Xtrn.shape[0], (bs,), generator=g)\n",
    "    Xb, Yb = Xtrn[ix], Ytrn[ix]\n",
    "\n",
    "    # Forward pass\n",
    "    logits = model(Xb)\n",
    "    loss = F.cross_entropy(logits, Yb)\n",
    "\n",
    "    # Backward pass\n",
    "    model.zero_grad()\n",
    "    loss.backward(retain_graph=False)  # retain_graph = True because we changed the\n",
    "\n",
    "    # Update\n",
    "    lr = 0.1 if i < 100000 else 0.01  # Step learning rate decay\n",
    "    model.optimise_step(lr)\n",
    "\n",
    "    # Tack stats\n",
    "    if i % 10000 == 0:\n",
    "        print(f\"{i:7d}/{n_steps}: {loss.item():.4f}\")\n",
    "    losses.append(loss.log10().item())\n",
    "    mus.append(model.mu.mean().item())\n",
    "    sigmas.append(model.sigma.mean().item())\n",
    "    betas.append(model.bn_beta.mean().item())\n",
    "    gammas.append(model.bn_gamma.mean().item())"
   ]
  },
  {
   "cell_type": "code",
   "execution_count": 140,
   "metadata": {},
   "outputs": [
    {
     "data": {
      "image/png": "[encoded data removed]",
      "text/plain": [
       "<Figure size 1500x600 with 6 Axes>"
      ]
     },
     "metadata": {},
     "output_type": "display_data"
    }
   ],
   "source": [
    "fig, axs = plt.subplots(2, 3, figsize=(15, 6))\n",
    "axs = axs.flatten()  # type: ignore\n",
    "axs[0].plot(losses)\n",
    "axs[0].set_title(\"log-loss\")\n",
    "axs[0].set_xlabel(\"steps\")\n",
    "axs[0].set_ylabel(r\"$log_{10}(loss)$\")\n",
    "\n",
    "axs[1].plot(mus)\n",
    "axs[1].set_title(r\"$\\mu$\")\n",
    "axs[1].set_xlabel(\"steps\")\n",
    "axs[1].set_ylabel(r\"$\\bar{\\mu}$\")\n",
    "\n",
    "axs[2].plot(sigmas)\n",
    "axs[2].set_title(r\"$\\sigma$\")\n",
    "axs[2].set_xlabel(\"steps\")\n",
    "axs[2].set_ylabel(r\"$\\bar{\\sigma}$\")\n",
    "\n",
    "axs[3].plot(gammas)\n",
    "axs[3].set_title(r\"$\\gamma$\")\n",
    "axs[3].set_xlabel(\"steps\")\n",
    "axs[3].set_ylabel(r\"$\\bar{\\gamma}$\")\n",
    "\n",
    "axs[4].plot(betas)\n",
    "axs[4].set_title(r\"$\\beta$\")\n",
    "axs[4].set_xlabel(\"steps\")\n",
    "axs[4].set_ylabel(r\"$\\bar{\\beta}$\")\n",
    "\n",
    "plt.tight_layout()"
   ]
  },
  {
   "cell_type": "markdown",
   "metadata": {},
   "source": [
    "**Inference**"
   ]
  },
  {
   "cell_type": "code",
   "execution_count": 138,
   "metadata": {},
   "outputs": [
    {
     "name": "stdout",
     "output_type": "stream",
     "text": [
      "train loss: 2.1929\n",
      "valid loss: 2.1979\n"
     ]
    }
   ],
   "source": [
    "@torch.no_grad()  # Decorator to disable gradient tracking\n",
    "def split_loss(split: Literal[\"train\", \"valid\", \"test\"]) -> None:\n",
    "    splits = {\"train\": (Xtrn, Ytrn), \"valid\": (Xval, Yval), \"test\": (Xtst, Ytst)}\n",
    "    x, y = splits[split]\n",
    "    logits = model(x)  # (N, vocab_size)\n",
    "    loss = F.cross_entropy(logits, y)\n",
    "    print(f\"{split} loss: {loss:.4f}\")\n",
    "\n",
    "\n",
    "split_loss(\"train\")\n",
    "split_loss(\"valid\")"
   ]
  },
  {
   "attachments": {},
   "cell_type": "markdown",
   "metadata": {},
   "source": [
    "The training loss remains comparable to its previous value, which is not surprising since we are working with a very basic neural network with only one hidden layer. In contrast, with more complex networks involving deep layers, convolutional layers, and residual connections, it becomes considerably more challenging to tune the scales of the weights  such that all activations across the network are approximately normally distributed with unit variance. It's much easier to use batch normalisation after a linear or convolutional layer in stead.\n",
    "\n",
    "```{note}\n",
    "Log of losses\n",
    "\n",
    "Original loss: \n",
    "train: 2.1243\n",
    "valid: 2.1680\n",
    "\n",
    "Fix softmax confidently wrong:\n",
    "train: 2.0686\n",
    "valid: 2.1294\n",
    "\n",
    "Fix tanh layer too saturated at init:\n",
    "train: 2.0365\n",
    "valid: 2.1045\n",
    "\n",
    "Kaiming:\n",
    "train: 2.0392\n",
    "valid: 2.1072\n",
    "\n",
    "Batchnorm:\n",
    "train: 2.0703\n",
    "valid: 2.1088\n",
    "```\n",
    "\n",
    "\n"
   ]
  },
  {
   "attachments": {},
   "cell_type": "markdown",
   "metadata": {},
   "source": [
    "**Batch normalization introduces a tradeoff.**   \n",
    "When not using batch normalization, operations are performed on individual inputs. To make training more efficient, we work with batches that process each input individually in parallel but operations are still performed on individual inputs. One input from the batch doesn't influence the operations of another input.   \n",
    "However, when using batch normalisation, the individual inputs are mathematically coupled in the forward and backward pass due to the mean and std for the whole batch. The hidden state activations (`h_preact`) are not only a function of their individual input, but also a function of all other examples in the batch. As a result, the hidden state activation can vary with each batch due to changes in the other examples, leading to jitter.   \n",
    "Remarkably, this jittering phenomenon turns out to be advantageous. The jitter acts like a kind of regularizer or data augmentation.     \n",
    "\n",
    "Another issue with batch normalisation is with inference. We would like to be able to input only a single example in stead of a batch of examples but how do we then calculate the mean and std? \n",
    "\n",
    "The [batch normalisation paper](https://arxiv.org/pdf/1502.03167.pdf) proposes the following: add am additional step after training to calculate the mean and std over the entire training set.   "
   ]
  },
  {
   "attachments": {},
   "cell_type": "markdown",
   "metadata": {},
   "source": [
    "**Calculate the mean and std for the whole training set**"
   ]
  },
  {
   "cell_type": "code",
   "execution_count": 56,
   "metadata": {},
   "outputs": [],
   "source": [
    "with torch.no_grad():\n",
    "    emb = model.C[Xtrn]\n",
    "    emb = emb.view(Xtrn.shape[0], -1)\n",
    "    h_preact = emb @ model.W1 + model.b1\n",
    "    # Calculate the mean and std for the whole training set\n",
    "    bn_mean = h_preact.mean(0, keepdim=True)\n",
    "    bn_std = h_preact.std(0, keepdim=True)\n"
   ]
  },
  {
   "attachments": {},
   "cell_type": "markdown",
   "metadata": {},
   "source": [
    "**Inference**"
   ]
  },
  {
   "cell_type": "code",
   "execution_count": 60,
   "metadata": {},
   "outputs": [
    {
     "name": "stdout",
     "output_type": "stream",
     "text": [
      "train loss: 2.0703\n",
      "valid loss: 2.1089\n"
     ]
    }
   ],
   "source": [
    "@torch.no_grad()  # Decorator to disable gradient tracking\n",
    "def split_loss(split: Literal[\"train\", \"valid\", \"test\"]) -> None:\n",
    "    splits = {\"train\": (Xtrn, Ytrn), \"valid\": (Xval, Yval), \"test\": (Xtst, Ytst)}\n",
    "    x, y = splits[split]\n",
    "    emb = model.C[x]\n",
    "    emb = emb.view(x.shape[0], -1)\n",
    "    h_preact = emb @ model.W1 + model.b1\n",
    "    # Batch normalisation\n",
    "    h_preact = (h_preact - bn_mean) / bn_std  # Normalising\n",
    "    h_preact = model.bn_gamma * h_preact + model.bn_beta  # Shift and scale\n",
    "\n",
    "    h = torch.tanh(h_preact)  # Hidden layer\n",
    "    logits = h @ model.W2 + model.b2  # Output layer\n",
    "    loss = F.cross_entropy(logits, y)\n",
    "    print(f\"{split} loss: {loss:.4f}\")\n",
    "\n",
    "\n",
    "split_loss(\"train\")\n",
    "split_loss(\"valid\")"
   ]
  },
  {
   "attachments": {},
   "cell_type": "markdown",
   "metadata": {},
   "source": [
    "We get identical results but we can now do inference on a single example. The disadvantage of this method is that we have an additional step after training.  \n",
    "\n",
    "```{note}\n",
    "Log of losses\n",
    "\n",
    "Original loss: \n",
    "train: 2.1243\n",
    "valid: 2.1680\n",
    "\n",
    "Fix softmax confidently wrong:\n",
    "train: 2.0686\n",
    "valid: 2.1294\n",
    "\n",
    "Fix tanh layer too saturated at init:\n",
    "train: 2.0365\n",
    "valid: 2.1045\n",
    "\n",
    "Kaiming:\n",
    "train: 2.0392\n",
    "valid: 2.1072\n",
    "\n",
    "Batchnorm:\n",
    "train: 2.0703\n",
    "valid: 2.1088\n",
    "\n",
    "Batchnorm (additional step):\n",
    "train: 2.0703\n",
    "valid: 2.1089\n",
    "```"
   ]
  },
  {
   "attachments": {},
   "cell_type": "markdown",
   "metadata": {},
   "source": [
    " \n",
    "The [batch normalisation paper](https://arxiv.org/pdf/1502.03167.pdf) suggest an alternative approach of estimating the running mean and standard deviation. The aim is to ensure that these estimates closely match the mean and standard deviation of the entire training set, thereby eliminating the need for an additional step after training.\n",
    "\n",
    "```{note}\n",
    "Pytorch uses the running mean and std method in their batchnorm implementation\n",
    "```\n",
    "\n",
    "        \n",
    "Another small detail to modify is the bias. Since we add the bias in    \n",
    "```python \n",
    "    self.h_preact = emb @ self.W1 + self.b1  # Hidden layer pre-activation\n",
    "```\n",
    "then calculate the mean in \n",
    "```python\n",
    "    self.mu = self.h_preact.mean(0, keepdim=True)\n",
    "```\n",
    "and then subtract that mean in \n",
    "```python\n",
    "    self.h_preact = (self.h_preact - self.mu) / self.sigma  # Normalising\n",
    "```\n",
    "we basically add the bias and then subtract it again. That's why it's not necessary to add a bias term in the layer before batch norm. The batch norm introduces it's own learnable bias (`bn_beta`).\n"
   ]
  },
  {
   "attachments": {},
   "cell_type": "markdown",
   "metadata": {},
   "source": [
    "**Calculate running mean and std**"
   ]
  },
  {
   "cell_type": "code",
   "execution_count": 7,
   "metadata": {},
   "outputs": [],
   "source": [
    "class MLP:\n",
    "    def __init__(\n",
    "        self,\n",
    "        vocab_size: int = 27,\n",
    "        block_size: int = 3,\n",
    "        emb_dim: int = 10,\n",
    "        hid_dim: int = 100,\n",
    "        seed: int | None = None,\n",
    "    ) -> None:\n",
    "        g = torch.Generator().manual_seed(seed) if seed else None\n",
    "        self.block_size = block_size\n",
    "        self.emb_dim = emb_dim\n",
    "        self.hid_dim = hid_dim\n",
    "        self.C = torch.randn((vocab_size, emb_dim), generator=g)\n",
    "        self.W1 = torch.randn((block_size * emb_dim, hid_dim), generator=g)\n",
    "        self.b1 = torch.randn(\n",
    "            hid_dim, generator=g\n",
    "        )  # Not used, kept otherwise b2 will be different from previous MLP\n",
    "        self.W2 = torch.randn((hid_dim, vocab_size), generator=g)\n",
    "        self.b2 = torch.randn(vocab_size, generator=g)\n",
    "\n",
    "        self.mu = torch.Tensor()\n",
    "        self.sigma = torch.Tensor()\n",
    "        self.mu_running = torch.zeros(1, hid_dim)\n",
    "        self.sigma_running = torch.ones(1, hid_dim)\n",
    "\n",
    "        self.bn_gamma = torch.ones(1, hid_dim)  # gain\n",
    "        self.bn_beta = torch.zeros(1, hid_dim)  # bias\n",
    "        self.h_preact = torch.Tensor()\n",
    "        self.h = torch.Tensor()\n",
    "        self.parameters = [\n",
    "            self.C,\n",
    "            self.W1,\n",
    "            #    self.b1,\n",
    "            self.W2,\n",
    "            self.b2,\n",
    "            self.bn_gamma,\n",
    "            self.bn_beta,\n",
    "        ]\n",
    "        for p in self.parameters:\n",
    "            p.requires_grad = True\n",
    "        self.n_parameters = sum(p.nelement() for p in self.parameters)\n",
    "\n",
    "    def __call__(self, xs: Tensor) -> Tensor:\n",
    "        \"\"\"Does a forward pass and returns the logits\"\"\"\n",
    "        emb = self.C[xs]  # (bs, 3, 10) Embed characters into vectors\n",
    "        emb = emb.view(\n",
    "            -1, self.block_size * self.emb_dim\n",
    "        )  # (bs, 30) Concatenate the vectors\n",
    "        # self.h_preact = emb @ self.W1 + self.b1  # Hidden layer pre-activation\n",
    "        self.h_preact = emb @ self.W1  # Hidden layer pre-activation\n",
    "\n",
    "        # BatchNorm\n",
    "        self.mu = self.h_preact.mean(0, keepdim=True)\n",
    "        self.sigma = self.h_preact.std(0, keepdim=True)\n",
    "        self.h_preact = (self.h_preact - self.mu) / self.sigma  # Normalising\n",
    "        self.h_preact = self.h_preact * self.bn_gamma + self.bn_beta  # Shift and scale\n",
    "\n",
    "        # Update running mean and std\n",
    "        with torch.no_grad():\n",
    "            self.mu_running = 0.999 * self.mu_running + 0.001 * self.mu\n",
    "            self.sigma_running = 0.999 * self.sigma_running + 0.001 * self.sigma\n",
    "\n",
    "        self.h = torch.tanh(self.h_preact)  # Hidden layer\n",
    "        logits = self.h @ self.W2 + self.b2  # Output layer\n",
    "        return logits\n",
    "\n",
    "    def zero_grad(self) -> None:\n",
    "        \"\"\"Sets the gradients to None\"\"\"\n",
    "        for p in self.parameters:\n",
    "            p.grad = None\n",
    "\n",
    "    def optimise_step(self, lr) -> None:\n",
    "        \"\"\"Updat the parameters\"\"\"\n",
    "        for p in self.parameters:\n",
    "            p.data += -lr * p.grad"
   ]
  },
  {
   "cell_type": "markdown",
   "metadata": {},
   "source": [
    "**Training**"
   ]
  },
  {
   "cell_type": "code",
   "execution_count": 8,
   "metadata": {},
   "outputs": [
    {
     "name": "stdout",
     "output_type": "stream",
     "text": [
      "      0/200001: 3.9589\n",
      "  10000/200001: 2.0083\n",
      "  20000/200001: 2.4120\n",
      "  30000/200001: 2.1590\n",
      "  40000/200001: 2.0901\n",
      "  50000/200001: 2.3454\n",
      "  60000/200001: 2.0026\n",
      "  70000/200001: 2.1650\n",
      "  80000/200001: 2.2169\n",
      "  90000/200001: 2.1430\n",
      " 100000/200001: 2.2172\n",
      " 110000/200001: 2.1164\n",
      " 120000/200001: 2.3085\n",
      " 130000/200001: 1.6323\n",
      " 140000/200001: 2.1411\n",
      " 150000/200001: 2.3615\n",
      " 160000/200001: 2.0977\n",
      " 170000/200001: 1.7015\n",
      " 180000/200001: 2.5745\n",
      " 190000/200001: 2.3151\n",
      " 200000/200001: 1.9448\n"
     ]
    }
   ],
   "source": [
    "vocab_size = len(ix2ch)\n",
    "block_size = 3\n",
    "emb_dim = 10  # The dimentionality of the character embedding vectors\n",
    "hid_dim = 200  # the number of neurons in the hidden layer\n",
    "\n",
    "model = MLP(\n",
    "    vocab_size=vocab_size,\n",
    "    block_size=block_size,\n",
    "    emb_dim=emb_dim,\n",
    "    hid_dim=hid_dim,\n",
    "    seed=seed,\n",
    ")\n",
    "# Initialise the weights\n",
    "gain = torch.nn.init.calculate_gain(\"tanh\")  # 5 / 3\n",
    "fan_in = model.W1.shape[0]\n",
    "model.W1.data *= gain / (fan_in**0.5)  # 0.304\n",
    "# model.b1.data *= 0.01\n",
    "fan_in = model.W2.shape[0]\n",
    "model.W2.data *= gain / (fan_in**0.5)  # 0.118\n",
    "model.b2.data *= 0\n",
    "\n",
    "n_steps = 200001\n",
    "bs = 32\n",
    "losses = []\n",
    "\n",
    "g = torch.Generator().manual_seed(seed)\n",
    "for i in range(n_steps):\n",
    "    # Minibatch construct\n",
    "    ix = torch.randint(0, Xtrn.shape[0], (bs,), generator=g)\n",
    "    Xb, Yb = Xtrn[ix], Ytrn[ix]\n",
    "\n",
    "    # Forward pass\n",
    "    logits = model(Xb)\n",
    "    loss = F.cross_entropy(logits, Yb)\n",
    "\n",
    "    # Backward pass\n",
    "    model.zero_grad()\n",
    "    loss.backward(retain_graph=False)  # retain_graph = True because we changed the\n",
    "\n",
    "    # Update\n",
    "    lr = 0.1 if i < 100000 else 0.01  # Step learning rate decay\n",
    "    model.optimise_step(lr)\n",
    "\n",
    "    # Tack stats\n",
    "    if i % 10000 == 0:\n",
    "        print(f\"{i:7d}/{n_steps}: {loss.item():.4f}\")\n",
    "    losses.append(loss.log10().item())"
   ]
  },
  {
   "cell_type": "markdown",
   "metadata": {},
   "source": [
    "**Inference**"
   ]
  },
  {
   "cell_type": "code",
   "execution_count": 9,
   "metadata": {},
   "outputs": [
    {
     "name": "stdout",
     "output_type": "stream",
     "text": [
      "train loss: 2.0702\n",
      "valid loss: 2.1090\n"
     ]
    }
   ],
   "source": [
    "mean_running = model.mu_running\n",
    "std_running = model.sigma_running\n",
    "\n",
    "\n",
    "@torch.no_grad()  # Decorator to disable gradient tracking\n",
    "def split_loss(split: Literal[\"train\", \"valid\", \"test\"]) -> None:\n",
    "    splits = {\"train\": (Xtrn, Ytrn), \"valid\": (Xval, Yval), \"test\": (Xtst, Ytst)}\n",
    "    x, y = splits[split]\n",
    "    emb = model.C[x]\n",
    "    emb = emb.view(x.shape[0], -1)\n",
    "    h_preact = emb @ model.W1\n",
    "    # Batch normalisation\n",
    "    h_preact = (h_preact - mean_running) / std_running  # Normalising\n",
    "    h_preact = model.bn_gamma * h_preact + model.bn_beta  # Shift and scale\n",
    "\n",
    "    h = torch.tanh(h_preact)  # Hidden layer\n",
    "    logits = h @ model.W2 + model.b2  # Output layer\n",
    "    loss = F.cross_entropy(logits, y)\n",
    "    print(f\"{split} loss: {loss:.4f}\")\n",
    "\n",
    "\n",
    "split_loss(\"train\")\n",
    "split_loss(\"valid\")"
   ]
  },
  {
   "attachments": {},
   "cell_type": "markdown",
   "metadata": {},
   "source": [
    "```{note}\n",
    "Log of losses\n",
    "\n",
    "Original loss: \n",
    "train: 2.1243\n",
    "valid: 2.1680\n",
    "\n",
    "Fix softmax confidently wrong:\n",
    "train: 2.0686\n",
    "valid: 2.1294\n",
    "\n",
    "Fix tanh layer too saturated at init:\n",
    "train: 2.0365\n",
    "valid: 2.1045\n",
    "\n",
    "Kaiming:\n",
    "train: 2.0392\n",
    "valid: 2.1072\n",
    "\n",
    "Batchnorm:\n",
    "train: 2.0703\n",
    "valid: 2.1088\n",
    "\n",
    "Batchnorm (additional step):\n",
    "train: 2.0703\n",
    "valid: 2.1089\n",
    "\n",
    "Batchnorm (running mean and std):\n",
    "train: 2.0702\n",
    "valid: 2.1090\n",
    "```\n"
   ]
  },
  {
   "attachments": {},
   "cell_type": "markdown",
   "metadata": {},
   "source": [
    "## Pytorch Batch Normalisation"
   ]
  },
  {
   "attachments": {},
   "cell_type": "markdown",
   "metadata": {},
   "source": [
    "```python\n",
    "    torch.nn.BatchNorm1d(num_features, \n",
    "                         eps=1e-05, \n",
    "                         momentum=0.1, \n",
    "                         affine=True, \n",
    "                         track_running_stats=True, \n",
    "                         device=None, \n",
    "                         dtype=None)\n",
    "```\n",
    "Pytorch batch normalisation implements following function:   \n",
    "$$\n",
    "y=\\frac{x-E[x]}{\\sqrt{Var[x]+\\epsilon}} * \\gamma + \\beta\n",
    "$$  \n",
    "\n",
    "**Parameters**:   \n",
    "- `num_features`: the number of features (200 in our case ). It's needed to initialise the gain$\\gamma$ , bias $\\beta$ and the running mean and std for inference.\n",
    "- `eps`: \\epsilon is a very small number to avoid division by 0. The default value (1e-5) is usually fine.\n",
    "- `momentum`: used for calculating the running mean and std (0.001 in our case). Needs to be adapted based on the batch size. When using a large batch size, the mean and standard deviation won't change significantly from batch to batch. Therefore, a relatively high momentum value can be used to compute the running mean and standard deviation. On the other hand, with a small batch size, the mean and standard deviation can fluctuate more between batches. The mean and standard deviation won't won't converge. In this case, a lower momentum value is typically used\n",
    "- `affine`: Controls whether the learnable affine parameters gain $\\gamma$ and bias $\\beta$ are utilized. Almost always kept to `True`\n",
    "- `track_running_stats`: Controls whether to calculate the running mean and std. Disabling this feature can be useful when you want to estimate the mean and standard deviation at the end of training using an additional step."
   ]
  },
  {
   "attachments": {},
   "cell_type": "markdown",
   "metadata": {},
   "source": [
    "## Summary"
   ]
  },
  {
   "attachments": {},
   "cell_type": "markdown",
   "metadata": {},
   "source": [
    "Understanding the activations and gradients, as well as their statistics, is crucial, particularly as neural networks become bigger, larger, and deeper.\n",
    "\n",
    "- During our analysis, we examined the distributions at the output layer and observed that overly confident mispredictions, resulting from activations in the final layer that are too messed up, could lead to a hockeystick loss. By addressing this issue, we can achieve a better loss at the end of training by avoiding wasteful work in the beginning. We saw that we need to control the activations. It is undesirable for them to either compress to zero or expand to infinity, as this would cause significant problems with all of the non-linearities in the neural network. Ideally, the activations should be somewhat Gaussian distributed throughout the neural net. To achieve this, we explored  scaling weights and biases  at the initialization of our neural network.\n",
    "\n",
    "- We recognized that scaling weights and biases may not be feasible for deeper neural nets due to the challenge of accurately setting them to produce roughly Gaussian activations throughout the network. As a solution, we introduced the concept of a normalization layer. Several normalization layers are used in practice, including batch normalization, layer normalization, instance normalization, layer normalization, and group normalization. Specifically, we delved into batch normalization, which can be incorporated throughout a deep neural net to achieve roughly Gaussian activations. The process involves normalizing the activations by calculating the mean and standard deviation, and it is differentiable. However, we noted that batch normalization can cause issues because it couples examples in a batch. As a better alternative, we recommended using layer or group normalization."
   ]
  },
  {
   "cell_type": "code",
   "execution_count": null,
   "metadata": {},
   "outputs": [],
   "source": []
  },
  {
   "cell_type": "code",
   "execution_count": null,
   "metadata": {},
   "outputs": [],
   "source": []
  },
  {
   "cell_type": "code",
   "execution_count": null,
   "metadata": {},
   "outputs": [],
   "source": []
  },
  {
   "cell_type": "code",
   "execution_count": null,
   "metadata": {},
   "outputs": [],
   "source": []
  },
  {
   "cell_type": "code",
   "execution_count": null,
   "metadata": {},
   "outputs": [],
   "source": []
  },
  {
   "cell_type": "code",
   "execution_count": null,
   "metadata": {},
   "outputs": [],
   "source": []
  },
  {
   "cell_type": "code",
   "execution_count": null,
   "metadata": {},
   "outputs": [],
   "source": []
  },
  {
   "cell_type": "code",
   "execution_count": null,
   "metadata": {},
   "outputs": [],
   "source": []
  },
  {
   "cell_type": "code",
   "execution_count": null,
   "metadata": {},
   "outputs": [],
   "source": []
  }
 ],
 "metadata": {
  "kernelspec": {
   "display_name": "ml",
   "language": "python",
   "name": "python3"
  },
  "language_info": {
   "codemirror_mode": {
    "name": "ipython",
    "version": 3
   },
   "file_extension": ".py",
   "mimetype": "text/x-python",
   "name": "python",
   "nbconvert_exporter": "python",
   "pygments_lexer": "ipython3",
   "version": "3.10.6"
  },
  "orig_nbformat": 4,
  "vscode": {
   "interpreter": {
    "hash": "fbf4d850827013a4b6e8e731fb0a130d066581c71099639019966aca458a79ab"
   }
  }
 },
 "nbformat": 4,
 "nbformat_minor": 2
}
