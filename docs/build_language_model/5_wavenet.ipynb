{
 "cells": [
  {
   "cell_type": "code",
   "execution_count": null,
   "metadata": {
    "tags": [
     "hide-input"
    ]
   },
   "outputs": [],
   "source": [
    "import random\n",
    "import string\n",
    "import numpy as np\n",
    "\n",
    "import torch\n",
    "import torch.nn.functional as F\n",
    "from torch import Tensor\n",
    "\n",
    "import matplotlib.pyplot as plt\n",
    "import seaborn as sns\n",
    "import plotly.express as px\n",
    "import plotly.graph_objects as go\n",
    "import pandas as pd\n",
    "from dataclasses import dataclass, field\n",
    "\n",
    "torch.set_printoptions(linewidth=120)\n",
    "seed = 42  # 2**31 - 1\n",
    "\n",
    "torch.manual_seed(seed)"
   ]
  },
  {
   "attachments": {},
   "cell_type": "markdown",
   "metadata": {},
   "source": [
    "<hr>\n",
    "\n",
    "# Wavenet\n",
    "<hr>"
   ]
  },
  {
   "attachments": {},
   "cell_type": "markdown",
   "metadata": {},
   "source": [
    "In our previous notebook, we successfully implemented a Multi-Layer Perceptron (MLP) character-level language model. This model was designed to predict the fourth character in a sequence based on three preceding characters, utilizing only a single hidden layer.\n",
    "\n",
    "In this notebook, we aim to enhance the complexity of our architecture. Specifically, we intend to expand the input sequence by incorporating more characters. Additionally, we aim to address the limitation of the previous model where a single hidden layer compressed a significant amount of information too quickly. Instead, we will develop a deeper model that progressively integrates this information to make more accurate predictions regarding the next character in the sequence.\n",
    "\n",
    "To accomplish this, we will adopt an approach similar to that of a [WaveNet](https://arxiv.org/pdf/1609.03499.pdf), as described in the research paper published by DeepMind in 2016. While WaveNet primarily focuses on predicting audio sequences rather than character or word-level sequences, the fundamental model structure remains analogous. It operates as an autoregressive model, predicting the subsequent character in a sequence. Notably, the architecture employs a hierarchical framework, resembling a tree-like structure, to effectively forecast the next character.\n",
    "\n",
    "```{figure} ./media/wavenet2.png\n",
    ":width: 400px\n",
    ":name: MLP\n",
    "\n",
    "Wavenet (van den Oord et al. 2016)\n",
    "```\n",
    "\n",
    "\n",
    "\n"
   ]
  },
  {
   "attachments": {},
   "cell_type": "markdown",
   "metadata": {},
   "source": [
    "## Setup"
   ]
  },
  {
   "attachments": {},
   "cell_type": "markdown",
   "metadata": {},
   "source": [
    "**Load the data**"
   ]
  },
  {
   "cell_type": "code",
   "execution_count": 2,
   "metadata": {},
   "outputs": [
    {
     "name": "stdout",
     "output_type": "stream",
     "text": [
      "Total # names: ...................32,033\n",
      "Total # characters in all names: 196,113\n",
      "['emma', 'olivia', 'ava', 'isabella', 'sophia']\n"
     ]
    }
   ],
   "source": [
    "# Load the data\n",
    "with open(\"./data/names.txt\", \"r\") as f:\n",
    "    names = f.read().splitlines()\n",
    "print(f\"Total # names: {len(names):.>25,}\")\n",
    "print(f\"Total # characters in all names: {len(''.join(names)):,}\")\n",
    "print(names[:5])"
   ]
  },
  {
   "attachments": {},
   "cell_type": "markdown",
   "metadata": {},
   "source": [
    "**Encoding and decoding characters**   \n",
    "We define an encoder `ch2ix` and decoder `ix2ch` function that maps a character with a numerical representation (i.e. a unique integer) and vice-versa. "
   ]
  },
  {
   "cell_type": "code",
   "execution_count": 3,
   "metadata": {},
   "outputs": [
    {
     "name": "stdout",
     "output_type": "stream",
     "text": [
      "Encoder ch2ix:\n",
      " {'.': 0, 'a': 1, 'b': 2, 'c': 3, 'd': 4, 'e': 5, 'f': 6, 'g': 7, 'h': 8, 'i': 9, 'j': 10, 'k': 11, 'l': 12, 'm': 13, 'n': 14, 'o': 15, 'p': 16, 'q': 17, 'r': 18, 's': 19, 't': 20, 'u': 21, 'v': 22, 'w': 23, 'x': 24, 'y': 25, 'z': 26}\n",
      "Decoder ix2ch:\n",
      " {0: '.', 1: 'a', 2: 'b', 3: 'c', 4: 'd', 5: 'e', 6: 'f', 7: 'g', 8: 'h', 9: 'i', 10: 'j', 11: 'k', 12: 'l', 13: 'm', 14: 'n', 15: 'o', 16: 'p', 17: 'q', 18: 'r', 19: 's', 20: 't', 21: 'u', 22: 'v', 23: 'w', 24: 'x', 25: 'y', 26: 'z'}\n",
      "E.g. emma: [0, 5, 13, 13, 1, 0]\n",
      "\n",
      "Vocab size: 27\n"
     ]
    }
   ],
   "source": [
    "chars = \".\" + string.ascii_lowercase\n",
    "ch2ix = {s: i for i, s in enumerate(chars)}\n",
    "ix2ch = {i: s for s, i in ch2ix.items()}\n",
    "\n",
    "print(\"Encoder ch2ix:\\n\", ch2ix)\n",
    "print(\"Decoder ix2ch:\\n\", ix2ch)\n",
    "print(\"E.g. emma:\", [ch2ix[c] for c in \".emma.\"])\n",
    "\n",
    "vocab_size = len(chars)\n",
    "print(f\"\\nVocab size: {vocab_size:,}\")"
   ]
  },
  {
   "attachments": {},
   "cell_type": "markdown",
   "metadata": {},
   "source": [
    "**Dataset**"
   ]
  },
  {
   "cell_type": "code",
   "execution_count": 4,
   "metadata": {},
   "outputs": [],
   "source": [
    "@dataclass\n",
    "class Dataset:\n",
    "    \"\"\"\n",
    "    Attributes:\n",
    "    names: list of names.\n",
    "    block_size: context length: how many characters do we take to predict the next one?\n",
    "    \"\"\"\n",
    "\n",
    "    names: list[str]\n",
    "    block_size: int = 3\n",
    "    verbose: bool = False\n",
    "    X: Tensor = field(init=False)\n",
    "    Y: Tensor = field(init=False)\n",
    "\n",
    "    def __post_init__(self) -> None:\n",
    "        self._make_dataset()\n",
    "\n",
    "    def _make_dataset(self) -> None:\n",
    "        X, Y = [], []\n",
    "        for w in self.names:\n",
    "            if self.verbose:\n",
    "                print(w)\n",
    "            context = [0] * self.block_size\n",
    "            for ch in w + \".\":\n",
    "                ix = ch2ix[ch]\n",
    "                X.append(context)\n",
    "                Y.append(ix)\n",
    "                if self.verbose:\n",
    "                    print(\"\".join(ix2ch[i] for i in context), \"--->\", ix2ch[ix])\n",
    "                context = context[1:] + [ix]  # crop and append\n",
    "        self.X = torch.tensor(X)\n",
    "        self.Y = torch.tensor(Y)"
   ]
  },
  {
   "attachments": {},
   "cell_type": "markdown",
   "metadata": {},
   "source": [
    "**Create a training, validation and test set**"
   ]
  },
  {
   "cell_type": "code",
   "execution_count": 5,
   "metadata": {},
   "outputs": [
    {
     "name": "stdout",
     "output_type": "stream",
     "text": [
      "Training set: ...................25,626 names\n",
      "Validation set: ..................3,203 names\n",
      "Test set: ........................3,204 names\n",
      "\n",
      "Training set: ..................182,671 3-char samples\n",
      "Validation set: .................22,784 3-char samples\n",
      "Test set: .......................22,691 3-char samples\n"
     ]
    }
   ],
   "source": [
    "# Create a training, validation and test set\n",
    "block_size = 3\n",
    "np.random.seed(seed)\n",
    "np.random.shuffle(names)\n",
    "\n",
    "n1 = int(0.8 * len(names))\n",
    "n2 = int(0.9 * len(names))\n",
    "\n",
    "ds_tr = Dataset(names[:n1], block_size=block_size)\n",
    "Xtr, Ytr = ds_tr.X, ds_tr.Y  # 80%\n",
    "ds_val = Dataset(names[n1:n2], block_size=block_size)\n",
    "Xval, Yval = ds_val.X, ds_val.Y  # 10%\n",
    "ds_te = Dataset(names[n2:], block_size=block_size)\n",
    "Xte, Yte = ds_te.X, ds_te.Y  # 10%\n",
    "\n",
    "print(f\"Training set: {len(ds_tr.names):.>25,} names\")\n",
    "print(f\"Validation set: {len(ds_val.names):.>23,} names\")\n",
    "print(f\"Test set: {len(ds_te.names):.>29,} names\")\n",
    "print()\n",
    "print(f\"Training set: {len(Xtr):.>25,} 3-char samples\")\n",
    "print(f\"Validation set: {len(Xval):.>23,} 3-char samples\")\n",
    "print(f\"Test set: {len(Xte):.>29,} 3-char samples\")"
   ]
  },
  {
   "attachments": {},
   "cell_type": "markdown",
   "metadata": {},
   "source": [
    "## Modules"
   ]
  },
  {
   "attachments": {},
   "cell_type": "markdown",
   "metadata": {},
   "source": [
    "We manually define the following modules, mimicking the [PyTorch API](https://pytorch.org/docs/stable/nn.html): \n",
    "- Linear\n",
    "- BatchNorm1d\n",
    "- Tanh\n",
    "- Flatten\n",
    "- Sequential"
   ]
  },
  {
   "attachments": {},
   "cell_type": "markdown",
   "metadata": {},
   "source": [
    "### Linear"
   ]
  },
  {
   "attachments": {},
   "cell_type": "markdown",
   "metadata": {},
   "source": [
    "[`torch.nn.Linear(in_features, out_features, bias=True, device=None, dtype=None)`](https://pytorch.org/docs/stable/generated/torch.nn.Linear.html#torch.nn.Linear)\n",
    "\n",
    "Applies a linear transformation to the incoming data: $y=xA^T+b$"
   ]
  },
  {
   "cell_type": "code",
   "execution_count": 6,
   "metadata": {},
   "outputs": [],
   "source": [
    "class Linear:\n",
    "    def __init__(\n",
    "        self,\n",
    "        in_features: int,\n",
    "        out_features: int,\n",
    "        bias: bool = True,\n",
    "        seed: int | None = None,\n",
    "    ) -> None:\n",
    "        g = torch.Generator().manual_seed(seed) if seed else None\n",
    "        self.use_bias = bias\n",
    "        self.weight = torch.randn((in_features, out_features), generator=g)\n",
    "        self.bias = torch.zeros(out_features) if bias else None\n",
    "\n",
    "    def __call__(self, x: Tensor) -> Tensor:\n",
    "        x = x @ self.weight\n",
    "        if self.use_bias:\n",
    "            x += self.bias\n",
    "        self.out = x  # To be able to access x for plotting\n",
    "        return self.out\n",
    "\n",
    "    def parameters(self) -> list:\n",
    "        return [self.weight] + ([self.bias] if self.use_bias else [])"
   ]
  },
  {
   "attachments": {},
   "cell_type": "markdown",
   "metadata": {},
   "source": [
    "### BatchNorm1d"
   ]
  },
  {
   "attachments": {},
   "cell_type": "markdown",
   "metadata": {},
   "source": [
    "[`torch.nn.BatchNorm1d(num_features, eps=1e-05, momentum=0.1, affine=True, track_running_stats=True, device=None, dtype=None)`](https://pytorch.org/docs/stable/generated/torch.nn.BatchNorm1d.html#torch.nn.BatchNorm1d)\n",
    "\n",
    "Applies Batch Normalization over a 2D or 3D input as described in the paper Batch Normalization: [Accelerating Deep Network Training by Reducing Internal Covariate Shift](https://arxiv.org/abs/1502.03167).\n",
    "\n",
    "$y=\\Large{\\frac{x-\\mathrm{E}[x]}{\\sqrt{\\mathrm{Var}[x]+\\epsilon}}}\\normalsize{*\\gamma+\\beta}$  \n",
    "\n",
    "```{note}\n",
    "The running mean and standard deviation are not computed by backpropagation, but rather by an exponential moving average in the forward pass.   \n",
    "\n",
    "It is important to note that the behavior of batch normalization differs between training and evaluation phases. By utilizing the is_train parameter, we can appropriately configure the module to operate in the desired state for each phase.\n",
    "\n",
    "Batches are typically utilized for efficiency purposes but batchorm introduces a coupling effect among the activations across the batch. \n",
    "```\n",
    "\n",
    "\n",
    "\n"
   ]
  },
  {
   "cell_type": "code",
   "execution_count": 7,
   "metadata": {},
   "outputs": [],
   "source": [
    "class BatchNorm1d:\n",
    "    def __init__(\n",
    "        self, num_features: int, eps: float = 1e-5, momentum: float = 0.1, is_train=True\n",
    "    ) -> None:\n",
    "        self.eps = eps\n",
    "        self.momentum = momentum\n",
    "        self.is_train = is_train\n",
    "        # Trainable parameters\n",
    "        self.gamma = torch.ones(num_features)\n",
    "        self.beta = torch.zeros(num_features)\n",
    "        # Running stats trained with 'momentum update'\n",
    "        self.running_mean = torch.zeros(num_features)\n",
    "        self.running_var = torch.ones(num_features)\n",
    "\n",
    "    def __call__(self, x: Tensor) -> Tensor:\n",
    "        if self.is_train:\n",
    "            x_mean = x.mean(0, keepdim=True)\n",
    "            x_var = x.var(0, keepdim=True)\n",
    "        else:\n",
    "            x_mean = self.running_mean\n",
    "            x_var = self.running_var\n",
    "\n",
    "        x = (x - x_mean) / torch.sqrt(x_var + self.eps)\n",
    "        x = self.gamma * x + self.beta\n",
    "\n",
    "        # Update running stats\n",
    "        if self.is_train:\n",
    "            self.running_mean = (\n",
    "                1 - self.momentum\n",
    "            ) * self.running_mean + self.momentum * x_mean\n",
    "            self.running_var = (\n",
    "                1 - self.momentum\n",
    "            ) * self.running_var + self.momentum * x_var\n",
    "\n",
    "        self.out = x  # To be able to access x for plotting\n",
    "        return self.out\n",
    "\n",
    "    def parameters(self) -> list[Tensor]:\n",
    "        return [self.gamma, self.beta]"
   ]
  },
  {
   "attachments": {},
   "cell_type": "markdown",
   "metadata": {},
   "source": [
    "### Tanh"
   ]
  },
  {
   "attachments": {},
   "cell_type": "markdown",
   "metadata": {},
   "source": [
    "[torch.nn.Tanh()](https://pytorch.org/docs/stable/generated/torch.nn.Tanh.html#torch.nn.Tanh)\n",
    "\n",
    "Applies the element-wise function: $\\tanh(x)=\\large\\frac{e^x-e^{-x}}{e^x+e^{-x}}$\n",
    "\n",
    "```{figure} ./media/tanh.png\n",
    ":width: 200px\n",
    ":name: MLP\n"
   ]
  },
  {
   "cell_type": "code",
   "execution_count": 8,
   "metadata": {},
   "outputs": [],
   "source": [
    "class Tanh:\n",
    "    def __call__(self, x) -> Tensor:\n",
    "        x = torch.tanh(x)\n",
    "        self.out = x  # To be able to access x for plotting\n",
    "        return self.out\n",
    "\n",
    "    def parameters(self) -> list:\n",
    "        return []"
   ]
  },
  {
   "attachments": {},
   "cell_type": "markdown",
   "metadata": {},
   "source": [
    "### Embedding"
   ]
  },
  {
   "attachments": {},
   "cell_type": "markdown",
   "metadata": {},
   "source": [
    "[`torch.nn.Embedding(num_embeddings, embedding_dim, padding_idx=None, max_norm=None, norm_type=2.0, scale_grad_by_freq=False, sparse=False, _weight=None, device=None, dtype=None)`](https://pytorch.org/docs/stable/generated/torch.nn.Embedding.html#torch.nn.Embedding)\n",
    "\n",
    "A simple lookup table that stores embeddings of a fixed dictionary and size. The input to the module is a list of indices, and the output is the corresponding embedding.\n"
   ]
  },
  {
   "cell_type": "code",
   "execution_count": 9,
   "metadata": {},
   "outputs": [],
   "source": [
    "class Embedding:\n",
    "    def __init__(\n",
    "        self, num_embeddings: int, embedding_dim: int, seed: int | None = None\n",
    "    ) -> None:\n",
    "        g = torch.Generator().manual_seed(seed) if seed else None\n",
    "        self.weight = torch.randn((num_embeddings, embedding_dim), generator=g)\n",
    "\n",
    "    def __call__(self, IX: Tensor) -> Tensor:\n",
    "        self.out = self.weight[IX]\n",
    "        return self.out\n",
    "\n",
    "    def parameters(self) -> list:\n",
    "        return [self.weight]"
   ]
  },
  {
   "cell_type": "markdown",
   "metadata": {},
   "source": [
    "### Flatten"
   ]
  },
  {
   "attachments": {},
   "cell_type": "markdown",
   "metadata": {},
   "source": [
    "[`torch.flatten(input, start_dim=0, end_dim=-1)`](https://pytorch.org/docs/stable/generated/torch.flatten.html#torch.flatten)\n",
    "\n",
    "Flattens a contiguous range of dims into a tensor."
   ]
  },
  {
   "cell_type": "code",
   "execution_count": 10,
   "metadata": {},
   "outputs": [],
   "source": [
    "class Flatten:\n",
    "    def __init__(self) -> None:\n",
    "        self.out: Tensor\n",
    "\n",
    "    def __call__(self, x: Tensor) -> Tensor:\n",
    "        self.out = x.view(x.shape[0], -1)\n",
    "        return self.out\n",
    "\n",
    "    def parameters(self) -> list:\n",
    "        return []"
   ]
  },
  {
   "attachments": {},
   "cell_type": "markdown",
   "metadata": {},
   "source": [
    "### Sequential"
   ]
  },
  {
   "attachments": {},
   "cell_type": "markdown",
   "metadata": {},
   "source": [
    "[`torch.nn.Sequential()`](https://pytorch.org/docs/stable/generated/torch.nn.Sequential.html#torch.nn.Sequential)\n",
    "\n",
    "A sequential container. Modules will be added to it in the order they are passed in the constructor."
   ]
  },
  {
   "cell_type": "code",
   "execution_count": 11,
   "metadata": {},
   "outputs": [],
   "source": [
    "class Sequential:\n",
    "    def __init__(self, layers) -> None:\n",
    "        self.layers = layers\n",
    "\n",
    "    def __call__(self, x: Tensor) -> Tensor:\n",
    "        for layer in self.layers:\n",
    "            x = layer(x)\n",
    "            self.out = x  # To be able to access x for plotting\n",
    "        return self.out\n",
    "\n",
    "    def parameters(self) -> list:\n",
    "        return [p for layer in self.layers for p in layer.parameters()]"
   ]
  },
  {
   "attachments": {},
   "cell_type": "markdown",
   "metadata": {},
   "source": [
    "## MLP Model"
   ]
  },
  {
   "cell_type": "code",
   "execution_count": 12,
   "metadata": {},
   "outputs": [
    {
     "name": "stdout",
     "output_type": "stream",
     "text": [
      "Number of parameters: 12,097\n"
     ]
    }
   ],
   "source": [
    "n_emb = 10  # Dimensionality of the character embedding\n",
    "n_hidden = 200  # Number of neurons in the hidden layer\n",
    "\n",
    "model = Sequential(\n",
    "    [\n",
    "        Embedding(vocab_size, n_emb),  # 27 x 10\n",
    "        Flatten(),\n",
    "        Linear(block_size * n_emb, n_hidden, bias=False),  # 30 x 200\n",
    "        BatchNorm1d(n_hidden),  # 100\n",
    "        Tanh(),\n",
    "        Linear(n_hidden, vocab_size),  # 100 x 27\n",
    "    ]\n",
    ")\n",
    "\n",
    "# Parameter initialization\n",
    "with torch.no_grad():\n",
    "    model.layers[-1].weight *= 0.1  # type: ignore # make the output layer less confident\n",
    "\n",
    "parameters = model.parameters()\n",
    "print(f\"Number of parameters: {sum(p.numel() for p in parameters):,}\")\n",
    "\n",
    "for p in parameters:\n",
    "    p.requires_grad = True"
   ]
  },
  {
   "attachments": {},
   "cell_type": "markdown",
   "metadata": {},
   "source": [
    "### Training"
   ]
  },
  {
   "cell_type": "code",
   "execution_count": 13,
   "metadata": {},
   "outputs": [
    {
     "name": "stdout",
     "output_type": "stream",
     "text": [
      "      0/ 200000: 3.5384\n",
      "  10000/ 200000: 2.2268\n",
      "  20000/ 200000: 2.0559\n",
      "  30000/ 200000: 2.2531\n",
      "  40000/ 200000: 2.4188\n",
      "  50000/ 200000: 2.3597\n",
      "  60000/ 200000: 1.7257\n",
      "  70000/ 200000: 2.4970\n",
      "  80000/ 200000: 2.1380\n",
      "  90000/ 200000: 2.3107\n",
      " 100000/ 200000: 2.3609\n",
      " 110000/ 200000: 2.5647\n",
      " 120000/ 200000: 2.3837\n",
      " 130000/ 200000: 2.1681\n",
      " 140000/ 200000: 2.1974\n",
      " 150000/ 200000: 1.9655\n",
      " 160000/ 200000: 2.2660\n",
      " 170000/ 200000: 1.8958\n",
      " 180000/ 200000: 1.8733\n",
      " 190000/ 200000: 2.0807\n"
     ]
    }
   ],
   "source": [
    "max_steps = 200000\n",
    "bs = 32\n",
    "lossi = []\n",
    "\n",
    "for i in range(max_steps):\n",
    "    # minibatch construct\n",
    "    ix = torch.randint(0, Xtr.shape[0], (bs,))\n",
    "    Xb, Yb = Xtr[ix], Ytr[ix]  # batch X,Y\n",
    "\n",
    "    # forward pass\n",
    "    logits = model(Xb)  # 32 x 27\n",
    "    loss = F.cross_entropy(logits, Yb)\n",
    "\n",
    "    # backward pass\n",
    "    for p in parameters:\n",
    "        p.grad = None\n",
    "    loss.backward()\n",
    "\n",
    "    # update: simple SGD\n",
    "    lr = 0.1 if i < 150000 else 0.01  # step learning rate decay\n",
    "    for p in parameters:\n",
    "        p.data += -lr * p.grad  # type: ignore\n",
    "\n",
    "    # track stats\n",
    "    if i % 10000 == 0:  # print every once in a while\n",
    "        print(f\"{i:7d}/{max_steps:7d}: {loss.item():.4f}\")\n",
    "    lossi.append(loss.log10().item())"
   ]
  },
  {
   "attachments": {},
   "cell_type": "markdown",
   "metadata": {},
   "source": [
    "**Plot average loss**"
   ]
  },
  {
   "cell_type": "code",
   "execution_count": 14,
   "metadata": {},
   "outputs": [
    {
     "data": {
      "image/png": "[encoded data removed]",
      "text/plain": [
       "<Figure size 640x480 with 1 Axes>"
      ]
     },
     "metadata": {},
     "output_type": "display_data"
    }
   ],
   "source": [
    "loss = torch.tensor(lossi).view(-1, 1000).mean(1)\n",
    "plt.plot(loss)\n",
    "plt.xlabel(\"iteration (x1000)\")\n",
    "plt.ylabel(\"log10(loss)\")\n",
    "plt.show()"
   ]
  },
  {
   "attachments": {},
   "cell_type": "markdown",
   "metadata": {},
   "source": [
    "At iteration 150k we observe that the learning rate decay subtracts a lot of energy out of the system and allows the model to settle into a local minimum. "
   ]
  },
  {
   "attachments": {},
   "cell_type": "markdown",
   "metadata": {},
   "source": [
    "### Evaluation"
   ]
  },
  {
   "attachments": {},
   "cell_type": "markdown",
   "metadata": {},
   "source": [
    "**Putting the model in evaluation mode**"
   ]
  },
  {
   "cell_type": "code",
   "execution_count": 15,
   "metadata": {},
   "outputs": [],
   "source": [
    "for layer in model.layers:\n",
    "    if isinstance(layer, BatchNorm1d):\n",
    "        layer.is_train = False  # type: ignore\n"
   ]
  },
  {
   "attachments": {},
   "cell_type": "markdown",
   "metadata": {},
   "source": [
    "**Evaluate the loss**"
   ]
  },
  {
   "cell_type": "code",
   "execution_count": 16,
   "metadata": {},
   "outputs": [
    {
     "name": "stdout",
     "output_type": "stream",
     "text": [
      "train 2.1027722358703613\n",
      "val 2.122612714767456\n"
     ]
    }
   ],
   "source": [
    "@torch.no_grad()  # this decorator disables gradient tracking inside pytorch\n",
    "def split_loss(split) -> None:\n",
    "    x, y = {\n",
    "        \"train\": (Xtr, Ytr),\n",
    "        \"val\": (Xval, Yval),\n",
    "        \"test\": (Xte, Yte),\n",
    "    }[split]\n",
    "    logits = model(x)\n",
    "    loss = F.cross_entropy(logits, y)\n",
    "    print(split, loss.item())\n",
    "\n",
    "\n",
    "split_loss(\"train\")\n",
    "split_loss(\"val\")"
   ]
  },
  {
   "attachments": {},
   "cell_type": "markdown",
   "metadata": {},
   "source": [
    "The difference between the training and validation loss is quite small. This indicates that the model is not overfitting to the training data. Therefore, we can expect better results when we make our model deeper and more larger."
   ]
  },
  {
   "attachments": {},
   "cell_type": "markdown",
   "metadata": {},
   "source": [
    "**Sample from the model**"
   ]
  },
  {
   "cell_type": "code",
   "execution_count": 17,
   "metadata": {},
   "outputs": [
    {
     "name": "stdout",
     "output_type": "stream",
     "text": [
      "exist: False  - damiara.        \n",
      "exist: False  - alkzani.        \n",
      "exist: False  - hadrian.        \n",
      "exist: False  - freslyn.        \n",
      "exist: False  - safia.          \n",
      "exist: False  - ceir.           \n",
      "exist: False  - jastielle.      \n",
      "exist: False  - catine.         \n",
      "exist: False  - aibun.          \n",
      "exist: False  - denthira.       \n",
      "exist: False  - lizi.           \n",
      "exist: False  - jah.            \n",
      "exist: False  - granie.         \n",
      "exist: False  - dayson.         \n",
      "exist: False  - amark.          \n",
      "exist: False  - ben.            \n",
      "exist: False  - quan.           \n",
      "exist: False  - tori.           \n",
      "exist: False  - makyia.         \n",
      "exist: False  - cer.            \n"
     ]
    }
   ],
   "source": [
    "for _ in range(20):\n",
    "    out = []\n",
    "    context = [0] * block_size  # initialize with all ...\n",
    "    while True:\n",
    "        # forward pass the neural net\n",
    "        logits = model(torch.tensor([context]))\n",
    "        probs = F.softmax(logits, dim=1)\n",
    "        # sample from the distribution\n",
    "        ix = torch.multinomial(probs, num_samples=1).item()\n",
    "        # shift the context window and track the samples\n",
    "        context = context[1:] + [ix]\n",
    "        out.append(ix)\n",
    "        # if we sample the special '.' token, break\n",
    "        if ix == 0:\n",
    "            break\n",
    "    name = \"\".join(ix2ch[i] for i in out)\n",
    "    print(f\"exist: {name in names}  - {name:16s}\")"
   ]
  },
  {
   "attachments": {},
   "cell_type": "markdown",
   "metadata": {},
   "source": [
    "### Bigger block_size"
   ]
  },
  {
   "attachments": {},
   "cell_type": "markdown",
   "metadata": {},
   "source": [
    "We can increase the block_size to 8 and evaluate the model again."
   ]
  },
  {
   "cell_type": "code",
   "execution_count": 18,
   "metadata": {
    "tags": [
     "hide-input"
    ]
   },
   "outputs": [
    {
     "name": "stdout",
     "output_type": "stream",
     "text": [
      "Training set: ...................25,626 names\n",
      "Validation set: ..................3,203 names\n",
      "Test set: ........................3,204 names\n",
      "\n",
      "Training set: ..................182,470 8-char samples\n",
      "Validation set: .................22,738 8-char samples\n",
      "Test set: .......................22,938 8-char samples\n",
      "\n",
      "Number of parameters: 22,097\n",
      "      0/ 200000: 3.1635\n",
      "  10000/ 200000: 2.1102\n",
      "  20000/ 200000: 2.2682\n",
      "  30000/ 200000: 2.1871\n",
      "  40000/ 200000: 2.0643\n",
      "  50000/ 200000: 2.1722\n",
      "  60000/ 200000: 2.2797\n",
      "  70000/ 200000: 2.1995\n",
      "  80000/ 200000: 1.6497\n",
      "  90000/ 200000: 2.0141\n",
      " 100000/ 200000: 2.0081\n",
      " 110000/ 200000: 2.1394\n",
      " 120000/ 200000: 1.8454\n",
      " 130000/ 200000: 2.6146\n",
      " 140000/ 200000: 2.2694\n",
      " 150000/ 200000: 2.1428\n",
      " 160000/ 200000: 1.6267\n",
      " 170000/ 200000: 2.1457\n",
      " 180000/ 200000: 1.8873\n",
      " 190000/ 200000: 2.2060\n"
     ]
    },
    {
     "data": {
      "image/png": "[encoded data removed]",
      "text/plain": [
       "<Figure size 640x480 with 1 Axes>"
      ]
     },
     "metadata": {},
     "output_type": "display_data"
    },
    {
     "name": "stdout",
     "output_type": "stream",
     "text": [
      "train 2.0719966888427734\n",
      "val 2.1078131198883057\n",
      "exist: False  - narir.          \n",
      "exist: False  - lille.          \n",
      "exist: False  - eliya.          \n",
      "exist: False  - layella.        \n",
      "exist: False  - hionna.         \n",
      "exist: False  - jenzari.        \n",
      "exist: False  - yatryn.         \n",
      "exist: False  - yana.           \n",
      "exist: False  - eliana.         \n",
      "exist: False  - bessley.        \n",
      "exist: False  - nhaytia.        \n",
      "exist: False  - judal.          \n",
      "exist: False  - keigh.          \n",
      "exist: False  - averi.          \n",
      "exist: False  - osetani.        \n",
      "exist: False  - annajaly.       \n",
      "exist: False  - kory.           \n",
      "exist: False  - jasrib.         \n",
      "exist: False  - jueley.         \n",
      "exist: False  - linnaly.        \n"
     ]
    }
   ],
   "source": [
    "# Create a training, validation and test set\n",
    "block_size = 8\n",
    "np.random.seed(seed)\n",
    "np.random.shuffle(names)\n",
    "\n",
    "n1 = int(0.8 * len(names))\n",
    "n2 = int(0.9 * len(names))\n",
    "\n",
    "ds_tr = Dataset(names[:n1], block_size=block_size)\n",
    "Xtr, Ytr = ds_tr.X, ds_tr.Y  # 80%\n",
    "ds_val = Dataset(names[n1:n2], block_size=block_size)\n",
    "Xval, Yval = ds_val.X, ds_val.Y  # 10%\n",
    "ds_te = Dataset(names[n2:], block_size=block_size)\n",
    "Xte, Yte = ds_te.X, ds_te.Y  # 10%\n",
    "\n",
    "print(f\"Training set: {len(ds_tr.names):.>25,} names\")\n",
    "print(f\"Validation set: {len(ds_val.names):.>23,} names\")\n",
    "print(f\"Test set: {len(ds_te.names):.>29,} names\")\n",
    "print()\n",
    "print(f\"Training set: {len(Xtr):.>25,} {block_size}-char samples\")\n",
    "print(f\"Validation set: {len(Xval):.>23,} {block_size}-char samples\")\n",
    "print(f\"Test set: {len(Xte):.>29,} {block_size}-char samples\")\n",
    "# ------------------------------------------------------------\n",
    "\n",
    "# MLP model\n",
    "n_emb = 10  # Dimensionality of the character embedding\n",
    "n_hidden = 200  # Number of neurons in the hidden layer\n",
    "\n",
    "model = Sequential(\n",
    "    [\n",
    "        Embedding(vocab_size, n_emb),  # 27 x 10\n",
    "        Flatten(),\n",
    "        Linear(block_size * n_emb, n_hidden, bias=False),  # 80 x 200\n",
    "        BatchNorm1d(n_hidden),  # 100\n",
    "        Tanh(),\n",
    "        Linear(n_hidden, vocab_size),  # 100 x 27\n",
    "    ]\n",
    ")\n",
    "# ------------------------------------------------------------\n",
    "\n",
    "# Parameter initialization\n",
    "with torch.no_grad():\n",
    "    model.layers[-1].weight *= 0.1  # type: ignore # make the output layer less confident\n",
    "\n",
    "parameters = model.parameters()\n",
    "print(f\"\\nNumber of parameters: {sum(p.numel() for p in parameters):,}\")\n",
    "\n",
    "for p in parameters:\n",
    "    p.requires_grad = True\n",
    "# ------------------------------------------------------------\n",
    "\n",
    "# Training loop\n",
    "max_steps = 200000\n",
    "bs = 32\n",
    "lossi = []\n",
    "\n",
    "for i in range(max_steps):\n",
    "    # minibatch construct\n",
    "    ix = torch.randint(0, Xtr.shape[0], (bs,))\n",
    "    Xb, Yb = Xtr[ix], Ytr[ix]  # batch X,Y\n",
    "\n",
    "    # forward pass\n",
    "    logits = model(Xb)  # 32 x 27\n",
    "    loss = F.cross_entropy(logits, Yb)\n",
    "\n",
    "    # backward pass\n",
    "    for p in parameters:\n",
    "        p.grad = None\n",
    "    loss.backward()\n",
    "\n",
    "    # update: simple SGD\n",
    "    lr = 0.1 if i < 150000 else 0.01  # step learning rate decay\n",
    "    for p in parameters:\n",
    "        p.data += -lr * p.grad  # type: ignore\n",
    "\n",
    "    # track stats\n",
    "    if i % 10000 == 0:  # print every once in a while\n",
    "        print(f\"{i:7d}/{max_steps:7d}: {loss.item():.4f}\")\n",
    "    lossi.append(loss.log10().item())\n",
    "# ------------------------------------------------------------\n",
    "\n",
    "# Plot average loss\n",
    "loss = torch.tensor(lossi).view(-1, 1000).mean(1)\n",
    "plt.plot(loss)\n",
    "plt.xlabel(\"iteration (x1000)\")\n",
    "plt.ylabel(\"log10(loss)\")\n",
    "plt.show()\n",
    "# ------------------------------------------------------------\n",
    "\n",
    "# Put the model in evaluation mode\\\n",
    "for layer in model.layers:\n",
    "    if isinstance(layer, BatchNorm1d):\n",
    "        layer.is_train = False  # type: ignore\n",
    "# ------------------------------------------------------------\n",
    "\n",
    "\n",
    "# Evaluate the model\n",
    "@torch.no_grad()  # this decorator disables gradient tracking inside pytorch\n",
    "def split_loss(split) -> None:\n",
    "    x, y = {\n",
    "        \"train\": (Xtr, Ytr),\n",
    "        \"val\": (Xval, Yval),\n",
    "        \"test\": (Xte, Yte),\n",
    "    }[split]\n",
    "    logits = model(x)\n",
    "    loss = F.cross_entropy(logits, y)\n",
    "    print(split, loss.item())\n",
    "\n",
    "\n",
    "split_loss(\"train\")\n",
    "split_loss(\"val\")\n",
    "# ------------------------------------------------------------\n",
    "\n",
    "# Generate some names\n",
    "for _ in range(20):\n",
    "    out = []\n",
    "    context = [0] * block_size  # initialize with all ...\n",
    "    while True:\n",
    "        # forward pass the neural net\n",
    "        logits = model(torch.tensor([context]))\n",
    "        probs = F.softmax(logits, dim=1)\n",
    "        # sample from the distribution\n",
    "        ix = torch.multinomial(probs, num_samples=1).item()\n",
    "        # shift the context window and track the samples\n",
    "        context = context[1:] + [ix]\n",
    "        out.append(ix)\n",
    "        # if we sample the special '.' token, break\n",
    "        if ix == 0:\n",
    "            break\n",
    "    name = \"\".join(ix2ch[i] for i in out)\n",
    "    print(f\"exist: {name in names}  - {name:16s}\")"
   ]
  },
  {
   "attachments": {},
   "cell_type": "markdown",
   "metadata": {},
   "source": [
    "The number of parameters have increased from 12.097 to 22.097 ((8-3)*10*200). The training loss has decreased from 2.103 to 2.072 and the validation loss has decreased from 2.123 to 2.108."
   ]
  },
  {
   "attachments": {},
   "cell_type": "markdown",
   "metadata": {},
   "source": [
    "**Performance log**\n",
    "- original (3 char context + 200 hidden neurons, 12K parameters): 2.103 train loss, 2.123 val loss\n",
    "- context 3->8 char (22K parameters): 2.072 train loss, 2.108 val loss\n"
   ]
  },
  {
   "attachments": {},
   "cell_type": "markdown",
   "metadata": {},
   "source": [
    "## Wavenet Model"
   ]
  },
  {
   "attachments": {},
   "cell_type": "markdown",
   "metadata": {},
   "source": [
    "The problem with the MLP model is that we are crushing all the information into a single vector from the beginning. Even if we make the model deeper, we will still have the same problem. \n",
    "\n",
    "We can solve this by using a hierarchical approach like in Wavenet. In that architecture, the input is cruched slowly. In particular we take two characters and fuse them into a bi-gram representation. Then we take these bi-grams and fuse them into a 4-gram representation. We continue this process until we have a representation of the entire sequence. By using this tree-like hierarchical approach, we fuse the information from the previous context slowly.\n",
    "\n",
    "\n",
    "```{figure} ./media/wavenet2.png\n",
    ":width: 400px\n",
    ":name: Wavenet\n",
    "\n",
    "Wavenet (van den Oord et al. 2016)\n",
    "```\n"
   ]
  },
  {
   "attachments": {},
   "cell_type": "markdown",
   "metadata": {},
   "source": [
    "In Pytorch when we can multiply a n-dimentional tensor with a 2-dimentional weight matrix. The result is a tensor with the same number of dimensions as the input tensor, except for the last dimension which is equal to the number of columns of the weight matrix. The matrix multiplication `@` only works on the last dimension of the input tensor. The other dimensions are left unchanged. "
   ]
  },
  {
   "cell_type": "code",
   "execution_count": 19,
   "metadata": {},
   "outputs": [
    {
     "data": {
      "text/plain": [
       "torch.Size([2, 3, 4, 6])"
      ]
     },
     "execution_count": 19,
     "metadata": {},
     "output_type": "execute_result"
    }
   ],
   "source": [
    "x = torch.randn(2, 3, 4, 5)\n",
    "W = torch.randn(5, 6)\n",
    "b = torch.randn(6)\n",
    "y = x @ W + b\n",
    "y.shape"
   ]
  },
  {
   "attachments": {},
   "cell_type": "markdown",
   "metadata": {},
   "source": [
    "In our Wavenet model, we will have 8 characters comming in like this: 1, 2, 3, 4, 5, 6, 7, 8. In contrast with the previous MLP model, we don't want to flatten all of them into a single vector. Instead, we want to fuse them into a bi-gram representation. We want to group them like this: (1, 2), (3, 4), (5, 6), (7, 8). We can do this by reshaping the input tensor. \n",
    "We then want each of these bi-grams to be multiplied by a weight matrix in parallel.\n"
   ]
  },
  {
   "cell_type": "code",
   "execution_count": 20,
   "metadata": {},
   "outputs": [
    {
     "name": "stdout",
     "output_type": "stream",
     "text": [
      "Xb.shape: torch.Size([4, 8])\n",
      "Xb:\n",
      "tensor([[ 0,  0,  0,  0, 10,  1, 14,  9],\n",
      "        [ 0,  0,  0,  0,  0,  0,  0,  2],\n",
      "        [ 0,  0,  0,  0,  0,  0,  0,  0],\n",
      "        [ 0,  0,  1,  1, 18,  9,  1, 14]])\n"
     ]
    }
   ],
   "source": [
    "ix = torch.randint(0, Xtr.shape[0], (4,))\n",
    "Xb, Yb = Xtr[ix], Ytr[ix]  # batch X,Y\n",
    "print(f\"Xb.shape: {Xb.shape}\")\n",
    "print(f\"Xb:\\n{Xb}\")\n"
   ]
  },
  {
   "cell_type": "code",
   "execution_count": 21,
   "metadata": {},
   "outputs": [
    {
     "name": "stdout",
     "output_type": "stream",
     "text": [
      "MLP embedding output shape: torch.Size([4, 8, 10])\n",
      "MLP flatten output shape: torch.Size([4, 80])\n",
      "MLP linear output shape: torch.Size([4, 200])\n"
     ]
    }
   ],
   "source": [
    "logits = model(Xb)  # 4 x 27\n",
    "print(f\"MLP embedding output shape: {model.layers[0].out.shape}\")\n",
    "print(f\"MLP flatten output shape: {model.layers[1].out.shape}\")\n",
    "print(f\"MLP linear output shape: {model.layers[2].out.shape}\")\n"
   ]
  },
  {
   "attachments": {},
   "cell_type": "markdown",
   "metadata": {},
   "source": [
    "We don't want the flatten layer to output a 4 x 80 tensor. Instead, we want it to output a 4 x 4 x 20 tensor. The first 4 is our batch dimention, the second 4 is the number of bi-grams and the last 20 is the size of the concatenated bi-gram embeddings.   \n",
    "We have to change the flatten layer to output a 4 x 4 x 20 tensor and the linear layer to accept it as input. "
   ]
  },
  {
   "cell_type": "code",
   "execution_count": 22,
   "metadata": {},
   "outputs": [],
   "source": [
    "emb = torch.randn(4, 8, 10)  # 4 x 8 x 10"
   ]
  },
  {
   "attachments": {},
   "cell_type": "markdown",
   "metadata": {},
   "source": [
    "We want to create a 4 x 4 x 20 tensor where the consecutive pairs of 10-dim embedding vectors are concatenated. We can do this in two ways:"
   ]
  },
  {
   "cell_type": "code",
   "execution_count": 23,
   "metadata": {},
   "outputs": [
    {
     "name": "stdout",
     "output_type": "stream",
     "text": [
      "28.4 µs ± 170 ns per loop (mean ± std. dev. of 7 runs, 10,000 loops each)\n"
     ]
    }
   ],
   "source": [
    "%%timeit\n",
    "# 1st method\n",
    "emb_even = emb[:, ::2, :] # 4 x 4 x 10\n",
    "emb_odd = emb[:, 1::2, :] # 4 x 4 x 10\n",
    "torch.cat([emb_even, emb_odd], dim=2) # 4 x 4 x 20"
   ]
  },
  {
   "cell_type": "code",
   "execution_count": 24,
   "metadata": {},
   "outputs": [
    {
     "name": "stdout",
     "output_type": "stream",
     "text": [
      "3.54 µs ± 220 ns per loop (mean ± std. dev. of 7 runs, 100,000 loops each)\n"
     ]
    }
   ],
   "source": [
    "%%timeit\n",
    "# 2nd method\n",
    "emb.view(4, 4, 20) # 4 x 4 x 20"
   ]
  },
  {
   "attachments": {},
   "cell_type": "markdown",
   "metadata": {},
   "source": [
    "### Wavenet implementation"
   ]
  },
  {
   "attachments": {},
   "cell_type": "markdown",
   "metadata": {},
   "source": [
    "We will now implement the Wavenet like in the diagram, with folowing changes:\n",
    "- The block_size is 8 instead of 16.\n",
    "- The number of hidden layers is 3 instead of 4."
   ]
  },
  {
   "cell_type": "markdown",
   "metadata": {},
   "source": [
    "\n",
    "We first need to modify the `Flatten` module. "
   ]
  },
  {
   "cell_type": "code",
   "execution_count": 25,
   "metadata": {},
   "outputs": [],
   "source": [
    "class FlattenConsecutive:\n",
    "    def __init__(self, n) -> None:\n",
    "        self.n = n\n",
    "        self.out: Tensor\n",
    "\n",
    "    def __call__(self, x: Tensor) -> Tensor:\n",
    "        B, L, C = x.shape  # batch, sequence length, channels\n",
    "        x = x.view(B, L // self.n, C * self.n)\n",
    "        if x.shape[1] == 1:  # all consecutive chars\n",
    "            x = x.squeeze(1)\n",
    "        self.out = x\n",
    "        return self.out\n",
    "\n",
    "    def parameters(self) -> list:\n",
    "        return []\n"
   ]
  },
  {
   "attachments": {},
   "cell_type": "markdown",
   "metadata": {},
   "source": [
    "We also need to modify the `BatchNorm1d` module.   \n",
    "The calculations in the current implementation are as follows:"
   ]
  },
  {
   "cell_type": "code",
   "execution_count": 26,
   "metadata": {},
   "outputs": [
    {
     "name": "stdout",
     "output_type": "stream",
     "text": [
      "mean shape: torch.Size([1, 4, 68])\n",
      "running mean shape: torch.Size([1, 200])\n"
     ]
    }
   ],
   "source": [
    "x = torch.randn(32, 4, 68)  # 32 x 4 x 68\n",
    "x_mean = x.mean(0, keepdim=True)  # 1 x 4 x 68\n",
    "x_var = x.var(0, keepdim=True)  # 1 x 4 x 68\n",
    "x_hat = (x - x_mean) / torch.sqrt(x_var + 1e-5)  # 32 x 4 x 68\n",
    "print(f\"mean shape: {x_mean.shape}\")\n",
    "print(f\"running mean shape: {model.layers[3].running_mean.shape}\")  # type: ignore\n"
   ]
  },
  {
   "attachments": {},
   "cell_type": "markdown",
   "metadata": {},
   "source": [
    "The mean, var, running_mean and running_var are calculated only over the 1st dimension. Their shape is 1 x 4 x 68 which is not correct! We are maintaining statistics for every one of the 4 blocks of 68 channels individualy and independently. To correct this we need to calculate the statistics over the 1st and 2nd dimension. Their shape should be 1 x 1 x 68.\n",
    "\n",
    "We will now modify the `BatchNorm1d` module to accept 2d or 3d tensors."
   ]
  },
  {
   "cell_type": "code",
   "execution_count": 27,
   "metadata": {},
   "outputs": [],
   "source": [
    "class BatchNorm1d:\n",
    "    def __init__(\n",
    "        self, num_features: int, eps: float = 1e-5, momentum: float = 0.1, is_train=True\n",
    "    ) -> None:\n",
    "        self.eps = eps\n",
    "        self.momentum = momentum\n",
    "        self.is_train = is_train\n",
    "        # Trainable parameters\n",
    "        self.gamma = torch.ones(num_features)\n",
    "        self.beta = torch.zeros(num_features)\n",
    "        # Running stats trained with 'momentum update'\n",
    "        self.running_mean = torch.zeros(num_features)\n",
    "        self.running_var = torch.ones(num_features)\n",
    "\n",
    "    def __call__(self, x: Tensor) -> Tensor:\n",
    "        if self.is_train:\n",
    "            if x.ndim == 2:\n",
    "                dim = 0\n",
    "            elif x.ndim == 3:\n",
    "                dim = (0, 1)\n",
    "            else:\n",
    "                raise ValueError(f\"Unsupported tensor shape: {x.shape}\")\n",
    "            x_mean = x.mean(dim, keepdim=True)\n",
    "            x_var = x.var(dim, keepdim=True)\n",
    "        else:\n",
    "            x_mean = self.running_mean\n",
    "            x_var = self.running_var\n",
    "\n",
    "        x = (x - x_mean) / torch.sqrt(x_var + self.eps)\n",
    "        x = self.gamma * x + self.beta\n",
    "\n",
    "        # Update running stats\n",
    "        if self.is_train:\n",
    "            self.running_mean = (\n",
    "                1 - self.momentum\n",
    "            ) * self.running_mean + self.momentum * x_mean\n",
    "            self.running_var = (\n",
    "                1 - self.momentum\n",
    "            ) * self.running_var + self.momentum * x_var\n",
    "\n",
    "        self.out = x  # To be able to access x for plotting\n",
    "        return self.out\n",
    "\n",
    "    def parameters(self) -> list[Tensor]:\n",
    "        return [self.gamma, self.beta]"
   ]
  },
  {
   "attachments": {},
   "cell_type": "markdown",
   "metadata": {},
   "source": [
    "#### Training, validation and test set"
   ]
  },
  {
   "cell_type": "code",
   "execution_count": 28,
   "metadata": {},
   "outputs": [
    {
     "name": "stdout",
     "output_type": "stream",
     "text": [
      "Training set: ...................25,626 names\n",
      "Validation set: ..................3,203 names\n",
      "Test set: ........................3,204 names\n",
      "\n",
      "Training set: ..................182,509 8-char samples\n",
      "Validation set: .................22,809 8-char samples\n",
      "Test set: .......................22,828 8-char samples\n"
     ]
    }
   ],
   "source": [
    "# Create a training, validation and test set\n",
    "block_size = 8\n",
    "np.random.seed(seed)\n",
    "np.random.shuffle(names)\n",
    "\n",
    "n1 = int(0.8 * len(names))\n",
    "n2 = int(0.9 * len(names))\n",
    "\n",
    "ds_tr = Dataset(names[:n1], block_size=block_size)\n",
    "Xtr, Ytr = ds_tr.X, ds_tr.Y  # 80%\n",
    "ds_val = Dataset(names[n1:n2], block_size=block_size)\n",
    "Xval, Yval = ds_val.X, ds_val.Y  # 10%\n",
    "ds_te = Dataset(names[n2:], block_size=block_size)\n",
    "Xte, Yte = ds_te.X, ds_te.Y  # 10%\n",
    "\n",
    "print(f\"Training set: {len(ds_tr.names):.>25,} names\")\n",
    "print(f\"Validation set: {len(ds_val.names):.>23,} names\")\n",
    "print(f\"Test set: {len(ds_te.names):.>29,} names\")\n",
    "print()\n",
    "print(f\"Training set: {len(Xtr):.>25,} {block_size}-char samples\")\n",
    "print(f\"Validation set: {len(Xval):.>23,} {block_size}-char samples\")\n",
    "print(f\"Test set: {len(Xte):.>29,} {block_size}-char samples\")"
   ]
  },
  {
   "attachments": {},
   "cell_type": "markdown",
   "metadata": {},
   "source": [
    "#### Wavenet model"
   ]
  },
  {
   "attachments": {},
   "cell_type": "markdown",
   "metadata": {},
   "source": [
    "In order to see if the hierarchical approach works better, we will change `n_hidden` to 68 to have roughly the same number of parameters as the MLP model. Like that the model has roughly the same capacity as the MLP model."
   ]
  },
  {
   "cell_type": "code",
   "execution_count": 29,
   "metadata": {},
   "outputs": [
    {
     "name": "stdout",
     "output_type": "stream",
     "text": [
      "\n",
      "Number of parameters: 22,397\n"
     ]
    }
   ],
   "source": [
    "n_emb = 10  # Dimensionality of the character embedding\n",
    "n_hidden = 68  # Number of neurons in the hidden layer\n",
    "n_consecutive = 2  # Number of consecutive characters to consider\n",
    "\n",
    "model = Sequential(\n",
    "    [\n",
    "        # Embedding layer\n",
    "        Embedding(vocab_size, n_emb),\n",
    "        # Hidden layer 1\n",
    "        FlattenConsecutive(n_consecutive),\n",
    "        Linear(2 * n_emb, n_hidden, bias=False),\n",
    "        BatchNorm1d(n_hidden),\n",
    "        Tanh(),\n",
    "        # Hidden layer 2\n",
    "        FlattenConsecutive(n_consecutive),\n",
    "        Linear(2 * n_hidden, n_hidden, bias=False),\n",
    "        BatchNorm1d(n_hidden),\n",
    "        Tanh(),\n",
    "        # Hidden layer 3\n",
    "        FlattenConsecutive(n_consecutive),\n",
    "        Linear(2 * n_hidden, n_hidden, bias=False),\n",
    "        BatchNorm1d(n_hidden),\n",
    "        Tanh(),\n",
    "        # Projection layer\n",
    "        Linear(n_hidden, vocab_size),\n",
    "    ]\n",
    ")\n",
    "# ------------------------------------------------------------\n",
    "\n",
    "# Parameter initialization\n",
    "with torch.no_grad():\n",
    "    model.layers[-1].weight *= 0.1  # type: ignore # make the output layer less confident\n",
    "\n",
    "parameters = model.parameters()\n",
    "print(f\"\\nNumber of parameters: {sum(p.numel() for p in parameters):,}\")\n",
    "\n",
    "for p in parameters:\n",
    "    p.requires_grad = True\n"
   ]
  },
  {
   "attachments": {},
   "cell_type": "markdown",
   "metadata": {},
   "source": [
    "**Check shapes**"
   ]
  },
  {
   "cell_type": "code",
   "execution_count": 30,
   "metadata": {},
   "outputs": [
    {
     "name": "stdout",
     "output_type": "stream",
     "text": [
      "      Embedding: torch.Size([3, 8, 10])\n",
      "FlattenConsecutive: torch.Size([3, 4, 20])\n",
      "         Linear: torch.Size([3, 4, 68])\n",
      "    BatchNorm1d: torch.Size([3, 4, 68])\n",
      "           Tanh: torch.Size([3, 4, 68])\n",
      "FlattenConsecutive: torch.Size([3, 2, 136])\n",
      "         Linear: torch.Size([3, 2, 68])\n",
      "    BatchNorm1d: torch.Size([3, 2, 68])\n",
      "           Tanh: torch.Size([3, 2, 68])\n",
      "FlattenConsecutive: torch.Size([3, 136])\n",
      "         Linear: torch.Size([3, 68])\n",
      "    BatchNorm1d: torch.Size([3, 68])\n",
      "           Tanh: torch.Size([3, 68])\n",
      "         Linear: torch.Size([3, 27])\n"
     ]
    }
   ],
   "source": [
    "# Forward a batch of 3 samples to create the `out` tensors.\n",
    "ix = torch.randint(0, Xtr.shape[0], (3,))\n",
    "model(Xtr[ix])\n",
    "\n",
    "# Print the layer names and output shapes\n",
    "for layer in model.layers:\n",
    "    print(f\"{layer.__class__.__name__:>15s}: {layer.out.shape}\")"
   ]
  },
  {
   "attachments": {},
   "cell_type": "markdown",
   "metadata": {},
   "source": [
    "In the last `FlattenConsecutive` layer, we squeezed out the 2nd dimension. "
   ]
  },
  {
   "attachments": {},
   "cell_type": "markdown",
   "metadata": {},
   "source": [
    "#### Training"
   ]
  },
  {
   "cell_type": "code",
   "execution_count": 31,
   "metadata": {},
   "outputs": [
    {
     "name": "stdout",
     "output_type": "stream",
     "text": [
      "      0/ 200000: 3.2963\n",
      "  10000/ 200000: 2.6125\n",
      "  20000/ 200000: 2.3309\n",
      "  30000/ 200000: 1.7441\n",
      "  40000/ 200000: 2.4759\n",
      "  50000/ 200000: 2.2580\n",
      "  60000/ 200000: 2.2641\n",
      "  70000/ 200000: 2.5276\n",
      "  80000/ 200000: 1.6600\n",
      "  90000/ 200000: 2.0562\n",
      " 100000/ 200000: 1.6613\n",
      " 110000/ 200000: 2.1454\n",
      " 120000/ 200000: 2.0683\n",
      " 130000/ 200000: 2.3156\n",
      " 140000/ 200000: 1.6994\n",
      " 150000/ 200000: 1.9808\n",
      " 160000/ 200000: 1.7867\n",
      " 170000/ 200000: 1.8435\n",
      " 180000/ 200000: 2.1530\n",
      " 190000/ 200000: 1.8844\n"
     ]
    },
    {
     "data": {
      "image/png": "[encoded data removed]",
      "text/plain": [
       "<Figure size 640x480 with 1 Axes>"
      ]
     },
     "metadata": {},
     "output_type": "display_data"
    }
   ],
   "source": [
    "max_steps = 200000\n",
    "bs = 32\n",
    "lossi = []\n",
    "\n",
    "for i in range(max_steps):\n",
    "    # minibatch construct\n",
    "    ix = torch.randint(0, Xtr.shape[0], (bs,))\n",
    "    Xb, Yb = Xtr[ix], Ytr[ix]  # batch X,Y\n",
    "\n",
    "    # forward pass\n",
    "    logits = model(Xb)  # 32 x 27\n",
    "    loss = F.cross_entropy(logits, Yb)\n",
    "\n",
    "    # backward pass\n",
    "    for p in parameters:\n",
    "        p.grad = None\n",
    "    loss.backward()\n",
    "\n",
    "    # update: simple SGD\n",
    "    lr = 0.1 if i < 150000 else 0.01  # step learning rate decay\n",
    "    for p in parameters:\n",
    "        p.data += -lr * p.grad  # type: ignore\n",
    "\n",
    "    # track stats\n",
    "    if i % 10000 == 0:  # print every once in a while\n",
    "        print(f\"{i:7d}/{max_steps:7d}: {loss.item():.4f}\")\n",
    "    lossi.append(loss.log10().item())\n",
    "# ------------------------------------------------------------\n",
    "\n",
    "# Plot average loss\n",
    "loss = torch.tensor(lossi).view(-1, 1000).mean(1)\n",
    "plt.plot(loss)\n",
    "plt.xlabel(\"iteration (x1000)\")\n",
    "plt.ylabel(\"log10(loss)\")\n",
    "plt.show()"
   ]
  },
  {
   "attachments": {},
   "cell_type": "markdown",
   "metadata": {},
   "source": [
    "#### Evaluation"
   ]
  },
  {
   "cell_type": "code",
   "execution_count": 32,
   "metadata": {},
   "outputs": [
    {
     "name": "stdout",
     "output_type": "stream",
     "text": [
      "train 2.0531623363494873\n",
      "val 2.103024959564209\n",
      "exist: False  - teliana.        \n",
      "exist: False  - amris.          \n",
      "exist: False  - kayon.          \n",
      "exist: False  - chamarik.       \n",
      "exist: False  - arlek.          \n",
      "exist: False  - ferwlee.        \n",
      "exist: False  - willen.         \n",
      "exist: False  - ryla.           \n",
      "exist: False  - jayke.          \n",
      "exist: False  - kaydon.         \n",
      "exist: False  - styarra.        \n",
      "exist: False  - zave.           \n",
      "exist: False  - wentley.        \n",
      "exist: False  - rinai.          \n",
      "exist: False  - khyle.          \n",
      "exist: False  - laire.          \n",
      "exist: False  - pavi.           \n",
      "exist: False  - shaweethe.      \n",
      "exist: False  - parzon.         \n",
      "exist: False  - joriel.         \n"
     ]
    }
   ],
   "source": [
    "# Put the model in evaluation model\n",
    "for layer in model.layers:\n",
    "    if isinstance(layer, BatchNorm1d):\n",
    "        layer.is_train = False  # type: ignore\n",
    "# ------------------------------------------------------------\n",
    "\n",
    "\n",
    "# Evaluate the model\n",
    "@torch.no_grad()  # this decorator disables gradient tracking inside pytorch\n",
    "def split_loss(split) -> None:\n",
    "    x, y = {\n",
    "        \"train\": (Xtr, Ytr),\n",
    "        \"val\": (Xval, Yval),\n",
    "        \"test\": (Xte, Yte),\n",
    "    }[split]\n",
    "    logits = model(x)\n",
    "    loss = F.cross_entropy(logits, y)\n",
    "    print(split, loss.item())\n",
    "\n",
    "\n",
    "split_loss(\"train\")\n",
    "split_loss(\"val\")\n",
    "# ------------------------------------------------------------\n",
    "\n",
    "# Generate some names\n",
    "for _ in range(20):\n",
    "    out = []\n",
    "    context = [0] * block_size  # initialize with all ...\n",
    "    while True:\n",
    "        # forward pass the neural net\n",
    "        logits = model(torch.tensor([context]))\n",
    "        probs = F.softmax(logits, dim=1)\n",
    "        # sample from the distribution\n",
    "        ix = torch.multinomial(probs, num_samples=1).item()\n",
    "        # shift the context window and track the samples\n",
    "        context = context[1:] + [ix]\n",
    "        out.append(ix)\n",
    "        # if we sample the special '.' token, break\n",
    "        if ix == 0:\n",
    "            break\n",
    "    name = \"\".join(ix2ch[i] for i in out)\n",
    "    print(f\"exist: {name in names}  - {name:16s}\")"
   ]
  },
  {
   "attachments": {},
   "cell_type": "markdown",
   "metadata": {},
   "source": [
    "**Performance log**\n",
    "- original (3 char context + 200 hidden neurons, 12K parameters): 2.103 train loss, 2.123 val loss.\n",
    "- context 3->8 char (22K parameters): 2.072 train loss, 2.108 val loss.\n",
    "- flat -> hierarchical (22K parameters): 2.053 train loss, 2.103 val loss.   \n",
    "This tiny improvement is not significant. "
   ]
  },
  {
   "cell_type": "code",
   "execution_count": null,
   "metadata": {},
   "outputs": [],
   "source": []
  },
  {
   "cell_type": "code",
   "execution_count": null,
   "metadata": {},
   "outputs": [],
   "source": []
  },
  {
   "cell_type": "code",
   "execution_count": null,
   "metadata": {},
   "outputs": [],
   "source": []
  },
  {
   "attachments": {},
   "cell_type": "markdown",
   "metadata": {},
   "source": []
  }
 ],
 "metadata": {
  "kernelspec": {
   "display_name": "llm",
   "language": "python",
   "name": "python3"
  },
  "language_info": {
   "codemirror_mode": {
    "name": "ipython",
    "version": 3
   },
   "file_extension": ".py",
   "mimetype": "text/x-python",
   "name": "python",
   "nbconvert_exporter": "python",
   "pygments_lexer": "ipython3",
   "version": "3.11.0"
  },
  "orig_nbformat": 4
 },
 "nbformat": 4,
 "nbformat_minor": 2
}
