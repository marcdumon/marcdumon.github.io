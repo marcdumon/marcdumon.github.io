{
 "cells": [
  {
   "cell_type": "code",
   "execution_count": 302,
   "metadata": {},
   "outputs": [],
   "source": [
    "import random\n",
    "import string\n",
    "import numpy as np\n",
    "\n",
    "import torch\n",
    "import torch.nn.functional as F\n",
    "from torch import Tensor\n",
    "\n",
    "import matplotlib.pyplot as plt\n",
    "import seaborn as sns\n",
    "import plotly.express as px\n",
    "import plotly.graph_objects as go\n",
    "import pandas as pd\n",
    "from dataclasses import dataclass, field\n",
    "\n",
    "torch.set_printoptions(linewidth=120)\n",
    "seed = 2**31 - 1"
   ]
  },
  {
   "attachments": {},
   "cell_type": "markdown",
   "metadata": {},
   "source": [
    "<hr>\n",
    "\n",
    "# Backpropagation\n",
    "<hr>"
   ]
  },
  {
   "attachments": {},
   "cell_type": "markdown",
   "metadata": {},
   "source": [
    "In this notebook, we will write the backpropagation manually. It is valuable exercise for gaining a deeper understanding of the algorithm. Although in practice, we typically do not implement backpropagation manually, it is crucial to comprehend the process that occurs beneath the surface.   \n",
    "\n",
    "One challenge with backpropagation is that it represents a [leaky abstraction](https://www.wikiwand.com/en/Leaky_abstraction). Understanding of the algorithm can avoid numerous errors and improve the ability to debug issues that may arise."
   ]
  },
  {
   "attachments": {},
   "cell_type": "markdown",
   "metadata": {},
   "source": [
    "## Setup"
   ]
  },
  {
   "attachments": {},
   "cell_type": "markdown",
   "metadata": {},
   "source": [
    "**Load the data**"
   ]
  },
  {
   "cell_type": "code",
   "execution_count": 303,
   "metadata": {},
   "outputs": [
    {
     "name": "stdout",
     "output_type": "stream",
     "text": [
      "Total # names: ...................32,033\n",
      "Total # characters in all names: 196,113\n",
      "['emma', 'olivia', 'ava', 'isabella', 'sophia']\n"
     ]
    }
   ],
   "source": [
    "# Load the data\n",
    "with open('./data/names.txt', 'r') as f:\n",
    "    names = f.read().splitlines()\n",
    "print(f'Total # names: {len(names):.>25,}')\n",
    "print(f\"Total # characters in all names: {len(''.join(names)):,}\")\n",
    "print(names[:5])"
   ]
  },
  {
   "attachments": {},
   "cell_type": "markdown",
   "metadata": {},
   "source": [
    "**Encoding and decoding characters**   \n",
    "We define an encoder `ch2ix` and decoder `ix2ch` function that maps a character with a numerical representation (i.e. a unique integer) and vice-versa. "
   ]
  },
  {
   "cell_type": "code",
   "execution_count": 304,
   "metadata": {},
   "outputs": [
    {
     "name": "stdout",
     "output_type": "stream",
     "text": [
      "Encoder ch2ix:\n",
      " {'.': 0, 'a': 1, 'b': 2, 'c': 3, 'd': 4, 'e': 5, 'f': 6, 'g': 7, 'h': 8, 'i': 9, 'j': 10, 'k': 11, 'l': 12, 'm': 13, 'n': 14, 'o': 15, 'p': 16, 'q': 17, 'r': 18, 's': 19, 't': 20, 'u': 21, 'v': 22, 'w': 23, 'x': 24, 'y': 25, 'z': 26}\n",
      "Decoder ix2ch:\n",
      " {0: '.', 1: 'a', 2: 'b', 3: 'c', 4: 'd', 5: 'e', 6: 'f', 7: 'g', 8: 'h', 9: 'i', 10: 'j', 11: 'k', 12: 'l', 13: 'm', 14: 'n', 15: 'o', 16: 'p', 17: 'q', 18: 'r', 19: 's', 20: 't', 21: 'u', 22: 'v', 23: 'w', 24: 'x', 25: 'y', 26: 'z'}\n",
      "E.g. emma: [0, 5, 13, 13, 1, 0]\n",
      "Vocab size: 27\n"
     ]
    }
   ],
   "source": [
    "chars = '.' + string.ascii_lowercase\n",
    "ch2ix = {s: i for i, s in enumerate(chars)}\n",
    "ix2ch = {i: s for s, i in ch2ix.items()}\n",
    "\n",
    "print('Encoder ch2ix:\\n', ch2ix)\n",
    "print('Decoder ix2ch:\\n', ix2ch)\n",
    "print('E.g. emma:', [ch2ix[c] for c in '.emma.'])\n",
    "\n",
    "vocab_size = len(chars)\n",
    "print(f'Vocab size: {vocab_size:,}')"
   ]
  },
  {
   "attachments": {},
   "cell_type": "markdown",
   "metadata": {},
   "source": [
    "**Dataset**"
   ]
  },
  {
   "cell_type": "code",
   "execution_count": 305,
   "metadata": {},
   "outputs": [],
   "source": [
    "@dataclass\n",
    "class Dataset:\n",
    "    \"\"\"\n",
    "    Attributes:\n",
    "    names: list of names.\n",
    "    block_size: context length: how many characters do we take to predict the next one?\n",
    "    \"\"\"\n",
    "\n",
    "    names: list[str]\n",
    "    block_size: int = 3\n",
    "    verbose: bool = False\n",
    "    X: Tensor = field(init=False)\n",
    "    Y: Tensor = field(init=False)\n",
    "\n",
    "    def __post_init__(self) -> None:\n",
    "        self._make_dataset()\n",
    "\n",
    "    def _make_dataset(self) -> None:\n",
    "        X, Y = [], []\n",
    "        for w in self.names:\n",
    "            if self.verbose:\n",
    "                print(w)\n",
    "            context = [0] * self.block_size\n",
    "            for ch in w + '.':\n",
    "                ix = ch2ix[ch]\n",
    "                X.append(context)\n",
    "                Y.append(ix)\n",
    "                if self.verbose:\n",
    "                    print(''.join(ix2ch[i] for i in context), '--->', ix2ch[ix])\n",
    "                context = context[1:] + [ix]  # crop and append\n",
    "        self.X = torch.tensor(X)\n",
    "        self.Y = torch.tensor(Y)\n",
    "        print(f'X.shape: {self.X.shape}, Y.shape: {self.Y.shape}')\n"
   ]
  },
  {
   "cell_type": "code",
   "execution_count": 306,
   "metadata": {},
   "outputs": [
    {
     "name": "stdout",
     "output_type": "stream",
     "text": [
      "X.shape: torch.Size([182671, 3]), Y.shape: torch.Size([182671])\n",
      "X.shape: torch.Size([22784, 3]), Y.shape: torch.Size([22784])\n",
      "X.shape: torch.Size([22691, 3]), Y.shape: torch.Size([22691])\n"
     ]
    }
   ],
   "source": [
    "# Create a training, validation and test set\n",
    "block_size = 3\n",
    "np.random.seed(42)\n",
    "np.random.shuffle(names)\n",
    "\n",
    "n1 = int(0.8 * len(names))\n",
    "n2 = int(0.9 * len(names))\n",
    "\n",
    "ds_tr = Dataset(names[:n1], block_size=block_size)\n",
    "Xtr, Ytr = ds_tr.X, ds_tr.Y  # 80%\n",
    "ds_val = Dataset(names[n1:n2], block_size=block_size)\n",
    "Xval, Yval = ds_val.X, ds_val.Y  # 10%\n",
    "ds_te = Dataset(names[n2:], block_size=block_size)\n",
    "Xte, Yte = ds_te.X, ds_te.Y  # 10%"
   ]
  },
  {
   "attachments": {},
   "cell_type": "markdown",
   "metadata": {},
   "source": [
    "**Utility functions**"
   ]
  },
  {
   "cell_type": "code",
   "execution_count": 307,
   "metadata": {},
   "outputs": [],
   "source": [
    "def compare_gradients(description, manual_grads, autograd_grads):\n",
    "    exact_match = torch.all(manual_grads == autograd_grads.grad).item()\n",
    "    approx_match = torch.allclose(manual_grads, autograd_grads.grad)\n",
    "    max_difference = (manual_grads - autograd_grads.grad).abs().max().item()\n",
    "    print(f'{description:15s} | exact: {str(exact_match):5s} | approximate: {str(approx_match):5s} | maxdiff: {max_difference}')\n"
   ]
  },
  {
   "attachments": {},
   "cell_type": "markdown",
   "metadata": {},
   "source": [
    "## Model"
   ]
  },
  {
   "attachments": {},
   "cell_type": "markdown",
   "metadata": {},
   "source": [
    "We initialise a MLP model with 64 hidden units and an character embedding dimension of 10. \n",
    "\n",
    "\n",
    "```{note}\n",
    "Because we have a batch norm layer, we do not need to add a bias term to the linear layers. We define them anyway because it's still interesting to calculate the gradients.\n",
    "```\n",
    "Normally we should initialise the weights and biases as follows:   \n",
    "- gain = 5/3 for tanh   \n",
    "- $W_1: \\large\\frac{5/3}{\\sqrt{\\text{fan}_{\\text{in}}}}$    \n",
    "- $b_1: 0$   \n",
    "- $W_2: \\large\\frac{5/3}{\\sqrt{\\text{fan}_{\\text{in}}}}$   \n",
    "- $b_2: 0$   \n",
    "\n",
    "However, we will initialise the weights and biases in non-standard ways because sometimes initializating with e.g. all zeros could mask an incorrect implementation of the backward pass. \n"
   ]
  },
  {
   "cell_type": "code",
   "execution_count": 308,
   "metadata": {},
   "outputs": [
    {
     "name": "stdout",
     "output_type": "stream",
     "text": [
      "Total # parameters: 4,137\n"
     ]
    }
   ],
   "source": [
    "n_emb = 10  # the dimensionality of the character embedding vectors\n",
    "n_hidden = 64  # the number of neurons in the hidden layer of the MLP\n",
    "\n",
    "g = torch.Generator().manual_seed(seed)  # for reproducibility\n",
    "C = torch.randn((vocab_size, n_emb), generator=g)\n",
    "\n",
    "# Layer 1\n",
    "W1 = torch.randn((n_emb * block_size, n_hidden), generator=g) * (5 / 3) / ((n_emb * block_size) ** 0.5)\n",
    "b1 = torch.randn(n_hidden, generator=g) * 0.1\n",
    "\n",
    "# Layer 2\n",
    "W2 = torch.randn((n_hidden, vocab_size), generator=g) * 0.1\n",
    "b2 = torch.randn(vocab_size, generator=g) * 0.1\n",
    "\n",
    "# BatchNorm parameters\n",
    "bn_gain = torch.randn((1, n_hidden)) * 0.1 + 1.0\n",
    "bn_bias = torch.randn((1, n_hidden)) * 0.1\n",
    "\n",
    "parameters = [C, W1, b1, W2, b2, bn_gain, bn_bias]\n",
    "n_params = sum(p.nelement() for p in parameters)\n",
    "print(f'Total # parameters: {n_params:,}')\n",
    "for p in parameters:\n",
    "    p.requires_grad = True\n"
   ]
  },
  {
   "attachments": {},
   "cell_type": "markdown",
   "metadata": {},
   "source": [
    "## Forward pass"
   ]
  },
  {
   "attachments": {},
   "cell_type": "markdown",
   "metadata": {},
   "source": [
    "**Calculate a single batch**"
   ]
  },
  {
   "cell_type": "code",
   "execution_count": 309,
   "metadata": {},
   "outputs": [],
   "source": [
    "bs = 32\n",
    "# construct a minibatch\n",
    "ix = torch.randint(0, Xtr.shape[0], (bs,), generator=g)\n",
    "Xb, Yb = Xtr[ix], Ytr[ix]  # batch"
   ]
  },
  {
   "attachments": {},
   "cell_type": "markdown",
   "metadata": {},
   "source": [
    "**Calculate a forward pass on the batch**"
   ]
  },
  {
   "attachments": {},
   "cell_type": "markdown",
   "metadata": {},
   "source": [
    "We will make the forward pass with the smallest steps possible. This will make it easier to understand the backward pass.\n",
    "\n",
    "Batch norm calculation:\n",
    "- emb_cat is a 32x30 tensor (batch size x sequence length)\n",
    "- $\\textrm{h\\_pre\\_bn} = \\textrm{emb\\_cat} \\cdot W_1 + b_1$\n",
    "- $\\textrm{bn\\_mean\\_i} = \\sum_{i=1}^{32}{h\\_pre\\_bn}_i$\n",
    "- $\\textrm{bn\\_diff} = \\textrm{h\\_pre\\_bn} - \\textrm{bn\\_mean\\_i}$\n",
    "- $\\textrm{bn\\_diff2}= \\textrm{bn\\_diff}^2$\n",
    "- $\\textrm{bn\\_var} = \\sum_{i=1}^{32}\\textrm{bn\\_diff2}$\n",
    "- $\\textrm{bn\\_var\\_inv} = \\frac{1}{\\sqrt{(\\textrm{bn\\_var} + \\epsilon)}}$\n",
    "- $\\textrm{bn\\_raw} = \\textrm{bn\\_diff} * \\textrm{bn\\_var\\_inv}$\n",
    "- $\\textrm{h\\_pre\\_act} = \\textrm{bn\\_gain} * \\textrm{bn\\_raw} + \\textrm{bn\\_bias}$"
   ]
  },
  {
   "cell_type": "code",
   "execution_count": 310,
   "metadata": {},
   "outputs": [],
   "source": [
    "# Embed the characters into vectors and concatenate them\n",
    "emb = C[Xb]  # 32 x 3 x 10\n",
    "emb_cat = emb.view(emb.shape[0], -1)  # 32 x 30\n",
    "\n",
    "# Linear layer 1\n",
    "# pre-batch norm\n",
    "h_pre_bn = emb_cat @ W1 + b1  # 32 x 64\n",
    "# batch norm layer\n",
    "bn_mean_i = h_pre_bn.sum(0, keepdim=True) / bs  # 1 x 64 (keepdim=True to keep the 1 x 64 shape otherwise 64)\n",
    "bn_diff = h_pre_bn - bn_mean_i  # 32 x 64\n",
    "bn_diff2 = bn_diff**2  # 32 x 64\n",
    "bn_var = bn_diff2.sum(0, keepdim=True) / (bs - 1)  # 1 x 64  Bessel's correction (dividing by n-1, not n)\n",
    "bn_var_inv = (bn_var + 1e-5) ** -0.5  # 1 x 64\n",
    "bn_raw = bn_diff * bn_var_inv  # 32 x 64 batchnorm raw output\n",
    "h_pre_act = bn_gain * bn_raw + bn_bias  # 32 x 64 hiodden layer pre-activation\n",
    "# non-linearity\n",
    "h = torch.tanh(h_pre_act)  # 32 x 64\n",
    "\n",
    "# Linear layer 2\n",
    "# output layer\n",
    "logits = h @ W2 + b2  # 32 x 28\n",
    "\n",
    "# cross entropy loss (same as F.cross_entropy(logits, Yb))\n",
    "logit_maxes = logits.max(1, keepdim=True).values  # 32 x 1\n",
    "norm_logits = logits - logit_maxes  # 32 x 27 subtract max for numerical stability\n",
    "counts = norm_logits.exp()  # 32 x 27\n",
    "counts_sum = counts.sum(1, keepdims=True)  # 32 x 1\n",
    "counts_sum_inv = counts_sum**-1  # 32 x 1\n",
    "probs = counts * counts_sum_inv  # 32 x 27\n",
    "logprobs = probs.log()  # 32 x 27\n",
    "loss = -logprobs[range(bs), Yb].mean()\n"
   ]
  },
  {
   "attachments": {},
   "cell_type": "markdown",
   "metadata": {},
   "source": [
    "## Backward pass"
   ]
  },
  {
   "attachments": {},
   "cell_type": "markdown",
   "metadata": {},
   "source": [
    "### Pytorch backward pass"
   ]
  },
  {
   "attachments": {},
   "cell_type": "markdown",
   "metadata": {},
   "source": [
    "We will first calculate the backward pass with Pytorch's autograd. This will allow us to compare the results of our manual implementation with the Pytorch implementation."
   ]
  },
  {
   "cell_type": "code",
   "execution_count": 311,
   "metadata": {},
   "outputs": [
    {
     "data": {
      "text/plain": [
       "tensor(3.4002, grad_fn=<NegBackward0>)"
      ]
     },
     "execution_count": 311,
     "metadata": {},
     "output_type": "execute_result"
    }
   ],
   "source": [
    "# PyTorch backward pass\n",
    "for p in parameters:\n",
    "    p.grad = None\n",
    "for t in [\n",
    "    logprobs,\n",
    "    probs,\n",
    "    counts,\n",
    "    counts_sum,\n",
    "    counts_sum_inv,\n",
    "    norm_logits,\n",
    "    logit_maxes,\n",
    "    logits,\n",
    "    h,\n",
    "    h_pre_act,\n",
    "    bn_raw,\n",
    "    bn_var_inv,\n",
    "    bn_var,\n",
    "    bn_diff2,\n",
    "    bn_diff,\n",
    "    h_pre_bn,\n",
    "    bn_mean_i,\n",
    "    emb_cat,\n",
    "    emb,\n",
    "]:\n",
    "    t.retain_grad()\n",
    "loss.backward()\n",
    "loss"
   ]
  },
  {
   "attachments": {},
   "cell_type": "markdown",
   "metadata": {},
   "source": [
    "### Manual backward pass"
   ]
  },
  {
   "attachments": {},
   "cell_type": "markdown",
   "metadata": {},
   "source": [
    "#### Cross entropy loss"
   ]
  },
  {
   "attachments": {},
   "cell_type": "markdown",
   "metadata": {},
   "source": [
    "We now calculate the backward pass of each step manually. We will compare the results with the Pytorch implementation.\n",
    "\n",
    "```{note}\n",
    "The shape of the gradient should be the same as the shape of its parameter\n",
    "```"
   ]
  },
  {
   "attachments": {},
   "cell_type": "markdown",
   "metadata": {},
   "source": [
    "**logprobs** \n",
    "```python\n",
    "loss = -logprobs[range(bs), Yb].mean()\n",
    "```\n",
    "\n",
    "\n",
    "```python \n",
    "logprobs[range(bs), Yb]\n",
    "``` \n",
    "plucks the `logprob` corresponding to the value of the element of `Yb` for each sample in the batch.\n",
    "\n",
    "\n",
    "The derivative of `loss` with respect to the `logprobs` is 0 everywhere except for the `logprob` corresponding to the value of the elements of `Yb` where it is $-\\large\\frac{1}{bs}$. \n"
   ]
  },
  {
   "cell_type": "code",
   "execution_count": 312,
   "metadata": {},
   "outputs": [
    {
     "name": "stdout",
     "output_type": "stream",
     "text": [
      "logprobs        | exact: True  | approximate: True  | maxdiff: 0.0\n"
     ]
    }
   ],
   "source": [
    "d_logprobs = torch.zeros_like(logprobs)  # 32 x 27\n",
    "d_logprobs[range(bs), Yb] = -1.0 / bs\n",
    "\n",
    "compare_gradients('logprobs', d_logprobs, logprobs)"
   ]
  },
  {
   "attachments": {},
   "cell_type": "markdown",
   "metadata": {},
   "source": [
    "**probs**\n",
    "\n",
    "```python\n",
    "logprobs = probs.log()\n",
    "```\n",
    "All the elements of `probs` are loged element-wise. The derivative of a log is ${\\large\\frac{d}{dx}} log(x) = \\large\\frac{1}{x}$.\n",
    "\n",
    "The derivative of `logprobs` with respect to `probs` is thus (chain rule) ${\\large\\frac{1}{probs}} * \\textrm{d\\_logprobs}$.   \n",
    "\n",
    "\n",
    "Intuitively, if an element of `probs` is close to 1, the network correctly predicts the next character.  The `d_logprobs` is just passed through.  \n",
    "However, when an element of `probs` is small, 1/probs is big and amplifies `d_logprobs`.\n",
    "\n",
    "`probs` and `d_logprobs` are both 32x27 tensors and therfore can be multiplied without broadcasting."
   ]
  },
  {
   "cell_type": "code",
   "execution_count": 313,
   "metadata": {},
   "outputs": [
    {
     "name": "stdout",
     "output_type": "stream",
     "text": [
      "probs           | exact: True  | approximate: True  | maxdiff: 0.0\n"
     ]
    }
   ],
   "source": [
    "d_probs = (1.0 / probs) * d_logprobs  # 32 x 27\n",
    "\n",
    "compare_gradients('probs', d_probs, probs)\n"
   ]
  },
  {
   "attachments": {},
   "cell_type": "markdown",
   "metadata": {},
   "source": [
    "**d_counts_sum_inv**\n",
    "\n",
    "```python\n",
    "probs = counts * counts_sum_inv\n",
    "```\n",
    "\n",
    "\n",
    "---\n",
    "Toy example:   \n",
    "Broadcasting a 3x1 tensor to a 3x3 tensor\n",
    "\n",
    "\\begin{align*}\n",
    "  c &= a * b\\\\\n",
    "  c[3\\text{x}3] &= a[3\\text{x}3] * b[3\\text{x}1]\\\\\n",
    "  \\begin{bmatrix}\n",
    "    c_{11} & c_{12} & c_{13}\\\\\n",
    "    c_{21} & c_{22} & c_{23}\\\\\n",
    "    c_{31} & c_{32} & c_{33}\n",
    "  \\end{bmatrix} &=\n",
    "  \\begin{bmatrix}\n",
    "    a_{11}*b_1 & a_{12}*b_1 & a_{13}*b_1\\\\\n",
    "    a_{21}*b_2 & a_{22}*b_2 & a_{23}*b_2\\\\\n",
    "    a_{31}*b_3 & a_{32}*b_3 & a_{33}*b_3\n",
    "  \\end{bmatrix}\n",
    "\\end{align*}\n",
    "\n",
    "\n",
    "This is actually 2 operations: first we replicate the 3x1 tensor to a 3x3 tensor and then we multiply the 2 tensors element-wise.   \n",
    "\n",
    "To calculate the derivative of c with respect to b, we first calculate the derivative of a * b with respect to b. This is a.   \n",
    "\n",
    "Then we have to calculate the derivative of the replication of b with respect to b. On the computational graph, b is branched into 3 branches.\n",
    "\n",
    "\\begin{align*}\n",
    "  \\begin{bmatrix}\n",
    "    a_{11}*b_1\\\\\n",
    "    a_{21}*b_2\\\\\n",
    "    a_{31}*b_3    \n",
    "  \\end{bmatrix} ,\n",
    "  \\begin{bmatrix}\n",
    "    a_{12}*b_1\\\\\n",
    "    a_{22}*b_2\\\\\n",
    "    a_{32}*b_3    \n",
    "  \\end{bmatrix} \\textrm{and}\n",
    "  \\begin{bmatrix}\n",
    "    a_{13}*b_1\\\\\n",
    "    a_{23}*b_2\\\\\n",
    "    a_{33}*b_3    \n",
    "  \\end{bmatrix} \n",
    "\\end{align*}\n",
    "\n",
    "\n",
    "The derivative is the sum of the derivatives of the 3 branches:\n",
    "\\begin{align*}\n",
    "  \\begin{bmatrix}\n",
    "    a_{11} + a_{21} + a_{31}\\\\\n",
    "    a_{21} + a_{22} + a_{32}\\\\\n",
    "    a_{31} + a_{23} + a_{33}    \n",
    "  \\end{bmatrix}\n",
    "\\end{align*}\n",
    "\n",
    "---\n",
    "`counts` is a 32x27 tensor and `counts_sum_inv` is a 32x1 tensor. `counts_sum_inv` gets broadcasted (replicated 27x) to a 32x27 tensor and then multiplied by `counts`. In the backward pass we have to sum the derivatives of the 27 branches.\n",
    "\n",
    "```{note}\n",
    "In the forward pass, if we sum the tensor or compute its mean, max, etc., we need to replicate it (for broadcasting) in the backward pass. Similarly, if we replicate the tensor in the forward pass, we need to sum it in the backward pass.\n",
    "\n",
    "```\n"
   ]
  },
  {
   "cell_type": "code",
   "execution_count": 314,
   "metadata": {},
   "outputs": [
    {
     "name": "stdout",
     "output_type": "stream",
     "text": [
      "counts_sum_inv  | exact: True  | approximate: True  | maxdiff: 0.0\n"
     ]
    }
   ],
   "source": [
    "d_counts_sum_inv = (counts * d_probs).sum(1, keepdims=True)  # 32 x 1\n",
    "\n",
    "compare_gradients('counts_sum_inv', d_counts_sum_inv, counts_sum_inv)"
   ]
  },
  {
   "attachments": {},
   "cell_type": "markdown",
   "metadata": {},
   "source": [
    "**d_counts** - branch 1  \n",
    "```python\n",
    "probs = counts * counts_sum_inv\n",
    "```\n",
    "`counts_sum_inv` depends on `counts`. `counts_sum_inv` backpropagates through `counts_sum` and `counts_sum` backpropagates through `counts`. `counts` is a node that is used twice. The two branches are:\n",
    "```python\n",
    "probs = counts * counts_sum_inv\n",
    "```\n",
    "and\n",
    "```python\n",
    "counts_sum = counts.sum(1, keepdims=True)  \n",
    "counts_sum_inv = counts_sum**-1\n",
    "```\n",
    "We have to sum the gradients of the two branches later to get the correct gradient of `counts`.\n",
    "\n",
    "`counts` is a 32x27 tensor `counts_sum_inv` is a 32x1 tensor. `counts_sum_inv` gets broadcasted, not`counts`, so we don't sum."
   ]
  },
  {
   "cell_type": "code",
   "execution_count": 315,
   "metadata": {},
   "outputs": [],
   "source": [
    "d_counts = counts_sum_inv * d_probs  # 32 x 27\n"
   ]
  },
  {
   "attachments": {},
   "cell_type": "markdown",
   "metadata": {},
   "source": [
    "**d_counts_sum**   \n",
    "```python\n",
    "counts_sum_inv = counts_sum**-1\n",
    "```\n",
    "$\\large\\frac{d}{dx}\\frac{1}{x} = -\\frac{1}{x^2}$\n",
    "\n",
    "`counts_sum` and `d_counts_sum_inv` are both 32x1 tensors and can be multiplied without broadcasting. "
   ]
  },
  {
   "cell_type": "code",
   "execution_count": 316,
   "metadata": {},
   "outputs": [
    {
     "name": "stdout",
     "output_type": "stream",
     "text": [
      "counts_sum      | exact: True  | approximate: True  | maxdiff: 0.0\n"
     ]
    }
   ],
   "source": [
    "d_counts_sum = (-1.0 / counts_sum**2) * d_counts_sum_inv  # 32 x 1\n",
    "\n",
    "compare_gradients('counts_sum', d_counts_sum, counts_sum)\n"
   ]
  },
  {
   "attachments": {},
   "cell_type": "markdown",
   "metadata": {},
   "source": [
    "**d_counts** - branch 2  \n",
    "```python  \n",
    "counts_sum = counts.sum(1, keepdims=True)\n",
    "```\n",
    "`counts_sum` is the sum of the rows of `counts`. `counts` has shape 32x27 and `counts_sum` has shape 32x1. \n",
    "\n",
    "---\n",
    "Toy example:\n",
    "\\begin{align*}\n",
    "  \\begin{bmatrix}\n",
    "    a_{11} & a_{12} & a_{13}\\\\\n",
    "    a_{21} & a_{22} & a_{23}\\\\\n",
    "    a_{31} & a_{32} & a_{33}\n",
    "  \\end{bmatrix} =>\n",
    "  \\begin{bmatrix}\n",
    "    b_1(=a_{11} + a_{12} + a_{13})\\\\\n",
    "    b_2(=a_{21} + a_{22} + a_{23})\\\\\n",
    "    b_3(=a_{31} + a_{32} + a_{33})\n",
    "  \\end{bmatrix}\n",
    "\\end{align*}\n",
    "\n",
    "We have a 3x3 tensor a and sum the rows to get a 3x1 tensor b. We have the derivative of the loss with respect to b. We want to calculate the derivative of the loss with respect to the elements of a.  \n",
    "b1 only depends on a11, a12 and a13. The derivative of b1 with respect to a11, a12, and a13 is 1. The derivative of b1 with respect to all the other elements of a is 0.  \n",
    "In the chain rule, we multiply the derivative of the loss with respect to b1 with the derivative of b1 with respect to a11, a12 and a13. \n",
    "\n",
    "\\begin{align*}\n",
    "  \\begin{bmatrix}\n",
    "    1 & 1 & 1\\\\\n",
    "    1 & 1 & 1\\\\\n",
    "    1 & 1 & 1\n",
    "  \\end{bmatrix} *\n",
    "    \\begin{bmatrix}\n",
    "    b_1\\\\\n",
    "    b_2\\\\\n",
    "    b_3\n",
    "  \\end{bmatrix} =\n",
    "  \\begin{bmatrix}\n",
    "    b_1 & b_1 & b_1\\\\\n",
    "    b_2 & b_2 & b_2\\\\\n",
    "    b_3 & b_3 & b_3\n",
    "  \\end{bmatrix}\n",
    "\\end{align*}\n",
    "---\n",
    "\n",
    "```{note}\n",
    "An addition can be seen as a router of gradients. The gradient comming from above gets routed equally to all the elements that participate in the addition. In this case the derivative of the loss with respect to b1 is routed equally to a11, a12 and a13. \n",
    "```\n",
    "\n",
    "\n",
    "In the backpropagation we need to take the 32x1 tensor `d_counts_sum` and replicate it to form a 32x27 tensor.  We also need to add this `d_counts` gradients to the `d_counts` gradients that from the other branch.\n"
   ]
  },
  {
   "cell_type": "code",
   "execution_count": 317,
   "metadata": {},
   "outputs": [
    {
     "name": "stdout",
     "output_type": "stream",
     "text": [
      "counts          | exact: True  | approximate: True  | maxdiff: 0.0\n"
     ]
    }
   ],
   "source": [
    "d_counts += torch.ones_like(counts) * d_counts_sum  # 32 x 27\n",
    "\n",
    "compare_gradients('counts', d_counts, counts)"
   ]
  },
  {
   "attachments": {},
   "cell_type": "markdown",
   "metadata": {},
   "source": [
    "**d_norm_logits**   \n",
    "\n",
    "```python\n",
    "counts = norm_logits.exp()\n",
    "```\n",
    "\n",
    "$\\large\\frac{d}{dx}e^x = e^x$\n",
    "\n"
   ]
  },
  {
   "cell_type": "code",
   "execution_count": 318,
   "metadata": {},
   "outputs": [
    {
     "name": "stdout",
     "output_type": "stream",
     "text": [
      "norm_logits     | exact: True  | approximate: True  | maxdiff: 0.0\n"
     ]
    }
   ],
   "source": [
    "d_norm_logits = norm_logits.exp() * d_counts  # 32 x 27 == counts * d_counts\n",
    "\n",
    "compare_gradients('norm_logits', d_norm_logits, norm_logits)"
   ]
  },
  {
   "attachments": {},
   "cell_type": "markdown",
   "metadata": {},
   "source": [
    "**d_logits** - branch 1, **d_logit_maxes** \n",
    "\n",
    "```python\n",
    "norm_logits = logits - logit_maxes \n",
    "```\n",
    "\n",
    "---\n",
    "Toy example:\n",
    "\n",
    "\\begin{align*}\n",
    "  \\begin{bmatrix}\n",
    "    c_{11} & c_{12} & c_{13}\\\\\n",
    "    c_{21} & c_{22} & _{23}\\\\\n",
    "    c_{31} & c_{32} & _{33}\n",
    "  \\end{bmatrix} =\n",
    "  \\begin{bmatrix}\n",
    "    a_{11} & a_{12} & a_{13}\\\\\n",
    "    a_{21} & a_{22} & a_{23}\\\\\n",
    "    a_{31} & a_{32} & a_{33}\n",
    "  \\end{bmatrix} -\n",
    "  \\begin{bmatrix}\n",
    "    b_1\\\\\n",
    "    b_2\\\\\n",
    "    b_3\n",
    "  \\end{bmatrix} = \n",
    "  \\begin{bmatrix}\n",
    "    a_{11}-b1 & a_{12}-b_1 & a_{13}-b_1\\\\\n",
    "    a_{21}-b2 & a_{22}-b_2 & a_{23}-b_2\\\\\n",
    "    a_{31}-b3 & a_{32}-b_3 & a_{33}-b_3\n",
    "  \\end{bmatrix}\n",
    "\\end{align*}\n",
    "\n",
    "The broadcasting of b to a is done by replicating b to a 3x3 tensor. This effectively creates 3 branches. To calculate the derivative of c with respect to b, we need to sum the derivatives of the 3 branches. \n",
    "\n",
    "---\n",
    "`norm_logits` is a 32x27 tensor, `logits` is a 32x27 tensor and `logit_maxes` is a 32x1 tensor. \n",
    "`logit_maxes` gets broadcasted so we sum the gradients. `logits` doesn't gets broadcasted so we don't sum the gradients.\n"
   ]
  },
  {
   "cell_type": "code",
   "execution_count": 319,
   "metadata": {},
   "outputs": [
    {
     "name": "stdout",
     "output_type": "stream",
     "text": [
      "logits_maxes    | exact: True  | approximate: True  | maxdiff: 0.0\n"
     ]
    }
   ],
   "source": [
    "d_logits = d_norm_logits.clone()  # 32 x 27\n",
    "d_logits_maxes = (-d_norm_logits).sum(1, keepdims=True)  # 32 x 1\n",
    "\n",
    "compare_gradients('logits_maxes', d_logits_maxes, logit_maxes)"
   ]
  },
  {
   "attachments": {},
   "cell_type": "markdown",
   "metadata": {},
   "source": [
    "We substracted the maximum of the logits from the logits for numerical stability, otherwise the exponentiation of the logits could overflow when a logit is large. This shifting operation has no effect on `probs`.   \n",
    "\n",
    "$\\Large\\frac{e^x}{\\sum_i{e^x_i}} =  \\frac{e^{x+a}}{\\sum_i{e^{x_i+a}}}$    \n",
    "\n",
    "Because subtracting the maximum of the logits from the logits has no effect on `probs` it will also not change `loss`. The gradients of `logits_maxes` should all be zero."
   ]
  },
  {
   "cell_type": "code",
   "execution_count": 320,
   "metadata": {},
   "outputs": [
    {
     "data": {
      "text/plain": [
       "tensor([[-1.8626e-09],\n",
       "        [ 1.8626e-09],\n",
       "        [ 9.3132e-10],\n",
       "        [ 4.6566e-09],\n",
       "        [ 3.2596e-09],\n",
       "        [ 2.5611e-09],\n",
       "        [ 1.6298e-09],\n",
       "        [ 1.3970e-09],\n",
       "        [-2.0955e-09],\n",
       "        [ 0.0000e+00],\n",
       "        [-1.8626e-09],\n",
       "        [-3.2596e-09],\n",
       "        [ 1.8626e-09],\n",
       "        [ 1.6298e-09],\n",
       "        [ 0.0000e+00],\n",
       "        [-1.1642e-09],\n",
       "        [ 6.9849e-10],\n",
       "        [ 2.3283e-09],\n",
       "        [ 1.3970e-09],\n",
       "        [-2.0955e-09],\n",
       "        [-2.0955e-09],\n",
       "        [-3.2596e-09],\n",
       "        [-9.3132e-10],\n",
       "        [ 1.1642e-09],\n",
       "        [ 1.3970e-09],\n",
       "        [-2.3283e-10],\n",
       "        [-5.8208e-09],\n",
       "        [ 6.9849e-10],\n",
       "        [ 0.0000e+00],\n",
       "        [ 4.6566e-10],\n",
       "        [-4.6566e-10],\n",
       "        [ 0.0000e+00]], grad_fn=<SumBackward1>)"
      ]
     },
     "execution_count": 320,
     "metadata": {},
     "output_type": "execute_result"
    }
   ],
   "source": [
    "d_logits_maxes\n"
   ]
  },
  {
   "attachments": {},
   "cell_type": "markdown",
   "metadata": {},
   "source": [
    "**d_logits** - branch 2\n",
    "\n",
    "```python\n",
    "logit_maxes = logits.max(1, keepdim=True).values\n",
    "```\n",
    "`logits.max(1)` returns a tuple of 2 tensors. The first tensor is the maximum values of each row of `logits` and the second tensor is the indices of the maximum values.\n",
    "\n",
    "We have a 32 x 27 tensor. The max of the tensor plucks out the maximum value of each row and returns a 32 x 1 tensor. The derivative should be 1 * d_logit_maxes for the maximum value and 0 for all the other values in the row.  \n",
    "We can calculate the derivative like we did for `logprobs` where we created a 32 x 27 zero-tensor and then populate it with 1 at the indices of the maximum values. Another way is to create a one-hot tensor with a 1 at the indices of the maximum values. \n",
    "\n",
    "Because we are on the second branch, we also need to add the d_logits from the first branch."
   ]
  },
  {
   "cell_type": "code",
   "execution_count": 321,
   "metadata": {},
   "outputs": [
    {
     "data": {
      "image/png": "[encoded data removed]",
      "text/plain": [
       "<Figure size 640x480 with 1 Axes>"
      ]
     },
     "metadata": {},
     "output_type": "display_data"
    }
   ],
   "source": [
    "plt.imshow(F.one_hot(logits.max(1).indices, num_classes=logits.shape[1]))\n",
    "plt.show()\n"
   ]
  },
  {
   "cell_type": "code",
   "execution_count": 322,
   "metadata": {},
   "outputs": [
    {
     "name": "stdout",
     "output_type": "stream",
     "text": [
      "logits          | exact: True  | approximate: True  | maxdiff: 0.0\n"
     ]
    }
   ],
   "source": [
    "d_logits += F.one_hot(logits.max(1).indices, num_classes=logits.shape[1]) * d_logits_maxes  # 32 x 27\n",
    "\n",
    "compare_gradients('logits', d_logits, logits)\n"
   ]
  },
  {
   "attachments": {},
   "cell_type": "markdown",
   "metadata": {},
   "source": [
    "#### Layer 2"
   ]
  },
  {
   "attachments": {},
   "cell_type": "markdown",
   "metadata": {},
   "source": [
    "**d_h**, **d_W2**, **d_b2**  \n",
    "\n",
    "```python\n",
    "logits = h @ W2 + b2 \n",
    "```\n",
    "---\n",
    "Toy example:\n",
    "\n",
    "\\begin{align*}\n",
    "  d &= a @ b + c\\\\\\\\\n",
    "  \\begin{bmatrix}\n",
    "    d_{11} & d_{12}\\\\\n",
    "    d_{21} & d_{22}\n",
    "  \\end{bmatrix} &=\n",
    "  \\begin{bmatrix}\n",
    "    a_{11} & a_{12}\\\\\n",
    "    a_{21} & a_{22}\n",
    "  \\end{bmatrix} \\cdot\n",
    "  \\begin{bmatrix}\n",
    "      b_{11} & b_{12}\\\\\n",
    "      b_{21} & b_{22}\n",
    "  \\end{bmatrix} +\n",
    "  \\begin{bmatrix}\n",
    "      c_{11} & c_{12}\\\\\n",
    "      c_{21} & c_{22}\n",
    "  \\end{bmatrix}\\\\\\\\\n",
    "  &\\Rightarrow\n",
    "  \\begin{cases}\n",
    "    d_{11} &= a_{11}.b_{11} +a_{12}.b_{21} + c_1\\\\\n",
    "    d_{12} &= a_{11}.b_{12} +a_{12}.b_{22} + c_2\\\\\n",
    "    d_{21} &= a_{21}.b_{11} +a_{22}.b_{21} + c_1\\\\\n",
    "    d_{22} &= a_{21}.b_{12} +a_{22}.b_{22} + c_2\n",
    "  \\end{cases}\\\\\\\\\n",
    "\\end{align*}\n",
    "\n",
    "\n",
    "\\begin{align*}\n",
    "\\textsf{We can now calculate the derivative of d with respect to a.}&\\\\\n",
    "  \\begin{cases}\n",
    "    \\large\\frac{\\delta L}{\\delta a_{11}} &= {\\large\\frac{\\delta L}{\\delta d_{11}}}.b_{11} + {\\large\\frac{\\delta L}{\\delta d_{12}}}.b_{12}\\\\\\\\\n",
    "    \\large\\frac{\\delta L}{\\delta a_{12}} &= {\\large\\frac{\\delta L}{\\delta d_{11}}}.b_{21} + {\\large\\frac{\\delta L}{\\delta d_{12}}}.b_{22}\\\\\\\\\n",
    "    \\large\\frac{\\delta L}{\\delta a_{21}} &= {\\large\\frac{\\delta L}{\\delta d_{21}}}.b_{11} + {\\large\\frac{\\delta L}{\\delta d_{22}}}.b_{12}\\\\\\\\\n",
    "    \\large\\frac{\\delta L}{\\delta a_{22}} &= {\\large\\frac{\\delta L}{\\delta d_{21}}}.b_{21} + {\\large\\frac{\\delta L}{\\delta d_{22}}}.b_{22} \n",
    "  \\end{cases}\\\\\\\\\n",
    "\n",
    "  \\frac{\\delta L}{\\delta a} =\n",
    "  \\begin{bmatrix}\n",
    "    \\large\\frac{\\delta L}{\\delta a_{11}} & \\large\\frac{\\delta L}{\\delta a_{12}}\\\\\\\\\n",
    "    \\large\\frac{\\delta L}{\\delta a_{21}} & \\large\\frac{\\delta L}{\\delta a_{22}}\n",
    "  \\end{bmatrix} =\n",
    "  \\begin{bmatrix}\n",
    "    \\large\\frac{\\delta L}{\\delta d_{11}} & \\large\\frac{\\delta L}{\\delta d_{12}}\\\\\\\\\n",
    "    \\large\\frac{\\delta L}{\\delta d_{21}} & \\large\\frac{\\delta L}{\\delta d_{22}}\n",
    "  \\end{bmatrix} \\cdot\n",
    "  \\begin{bmatrix}\n",
    "    b_{11} & b_{21}\\\\\n",
    "    b_{12} & b_{22}\n",
    "  \\end{bmatrix} &=\n",
    "\n",
    "  \\begin{bmatrix}\n",
    "    \\large\\frac{\\delta L}{\\delta d_{11}} & \\large\\frac{\\delta L}{\\delta d_{12}}\\\\\\\\\n",
    "    \\large\\frac{\\delta L}{\\delta d_{21}} & \\large\\frac{\\delta L}{\\delta d_{22}}\n",
    "  \\end{bmatrix} \\cdot\n",
    "  \\begin{bmatrix}\n",
    "    b_{11} & b_{12}\\\\\n",
    "    b_{21} & b_{22}\n",
    "  \\end{bmatrix}^T =\n",
    "\n",
    "  \\frac{\\delta L}{\\delta d} \\cdot b^T\\\\\\\\\n",
    "\n",
    "  \\textsf{Similarly, we can calculate the derivative of d with respect to b.}\\\\\n",
    "  \\frac{\\delta L}{\\delta b} = a^T \\cdot \\frac{\\delta L}{\\delta d}\\\\\\\\\n",
    "\n",
    "  \\textsf{And the derivative of d with respect to c.}\\\\\n",
    "  \\begin{cases}\n",
    "    \\large\\frac{\\delta L}{\\delta c_1} &= {\\large\\frac{\\delta L}{\\delta d_{11}}}.1 + {\\large\\frac{\\delta L}{\\delta d_{21}}}.1\\\\\\\\\n",
    "    \\large\\frac{\\delta L}{\\delta c_2} &= {\\large\\frac{\\delta L}{\\delta d_{12}}}.1 + {\\large\\frac{\\delta L}{\\delta d_{22}}}.1\n",
    "  \\end{cases}\\\\\\\\\n",
    "  \\frac{\\delta L}{\\delta c} = \\frac{\\delta L}{\\delta d}\\textsf{.sum(axis=0)}\\\\\\\\\n",
    "\n",
    "\\end{align*}\n",
    "\n",
    "---\n",
    "\n",
    "\n",
    "`h` is a 32 x 64 tensor, `W2` is a 64 x 27 tensor and `b2` is 27d vector. The bias `b2` is broadcasted to a 32 x 27 tensor (`h @ W2`). Internally, the broadcasting is done by casting the 27d vector to a 1 x 27 tensor and then replicating it vertically to a 32 x 27 tensor. \n",
    "\n",
    "```{note}\n",
    "It's not realy necessary to remember the formula's for the derivatives of the linear transformation. The dimensions of the tensors will tell how to calculate the derivatives.\n",
    "\n",
    "Example:\n",
    "To calculate `d_h`. The shape of `d_h` is equal to the shape of `h`. It's 32 x 64. We also know that `d_h` should be some matrix multiplication of `d_logits` and `W2`. The shape of `d_logits` is 32 x 27 and the shape of `W2` is 64 x 27. So we can conclude that `d_h = d_logits @ W2.T`.  \n",
    "\n",
    "The shape of `d_W2` is equal to the shape of `W2`. It's 64 x 27. We also know that `d_W2` should be some matrix multiplication of `h.T` and `d_logits`. The shape of `h.T` is 64 x 32 and the shape of `d_logits` is 32 x 27. So we can conclude that `d_W2 = h.T @ d_logits`.\n",
    "\n",
    "The shape of `d_b2` is equal to the shape of `b2`. It's 27. We also know that `d_b2` should be the sum of `d_logits` along axis 0. The shape of `d_logits` is 32 x 27. So we can conclude that `d_b2 = d_logits.sum(axis=0)`.\n",
    "\n",
    "```\n"
   ]
  },
  {
   "cell_type": "code",
   "execution_count": 323,
   "metadata": {},
   "outputs": [
    {
     "name": "stdout",
     "output_type": "stream",
     "text": [
      "h               | exact: True  | approximate: True  | maxdiff: 0.0\n",
      "W2              | exact: True  | approximate: True  | maxdiff: 0.0\n",
      "b2              | exact: True  | approximate: True  | maxdiff: 0.0\n"
     ]
    }
   ],
   "source": [
    "d_h = d_logits @ W2.T  # 32 x 64\n",
    "d_W2 = h.T @ d_logits  # 64 x 27\n",
    "d_b2 = d_logits.sum(0, keepdims=True)  # 1 x 27\n",
    "\n",
    "compare_gradients('h', d_h, h)\n",
    "compare_gradients('W2', d_W2, W2)\n",
    "compare_gradients('b2', d_b2, b2)\n"
   ]
  },
  {
   "attachments": {},
   "cell_type": "markdown",
   "metadata": {},
   "source": [
    "#### Layer 1"
   ]
  },
  {
   "attachments": {},
   "cell_type": "markdown",
   "metadata": {},
   "source": [
    "##### Non-linearity"
   ]
  },
  {
   "attachments": {},
   "cell_type": "markdown",
   "metadata": {},
   "source": [
    "**d_h_pre_act**   \n",
    "\n",
    "```python\n",
    "h = torch.tanh(h_pre_act)\n",
    "```\n",
    "\n",
    "${\\large\\frac{d}{dx}}\\text{tanh}(x) = 1 - \\text{tanh}^2(x)$\n",
    "\n",
    "\n"
   ]
  },
  {
   "cell_type": "code",
   "execution_count": 324,
   "metadata": {},
   "outputs": [
    {
     "name": "stdout",
     "output_type": "stream",
     "text": [
      "h_pre_act       | exact: False | approximate: True  | maxdiff: 4.656612873077393e-10\n"
     ]
    }
   ],
   "source": [
    "d_h_pre_act = (1.0 - h**2) * d_h  # 32 x 64\n",
    "\n",
    "compare_gradients('h_pre_act', d_h_pre_act, h_pre_act)"
   ]
  },
  {
   "attachments": {},
   "cell_type": "markdown",
   "metadata": {},
   "source": [
    "##### Batch norm"
   ]
  },
  {
   "attachments": {},
   "cell_type": "markdown",
   "metadata": {},
   "source": [
    "**d_bn_gain**, **d_bn_raw**, **d_bn_bias**\n",
    "\n",
    "```python\n",
    "h_pre_act = bn_gain * bn_raw + bn_bias\n",
    "```\n",
    "`bn_gain` and `bn_bias` are 1 x 64 tensors. `bn_raw` and `h_pre_act` are 32 x 64 tensors.  "
   ]
  },
  {
   "cell_type": "code",
   "execution_count": 325,
   "metadata": {},
   "outputs": [
    {
     "name": "stdout",
     "output_type": "stream",
     "text": [
      "bn_gain         | exact: False | approximate: True  | maxdiff: 1.862645149230957e-09\n",
      "bn_raw          | exact: False | approximate: True  | maxdiff: 4.656612873077393e-10\n",
      "bn_bias         | exact: False | approximate: True  | maxdiff: 1.862645149230957e-09\n"
     ]
    }
   ],
   "source": [
    "d_bn_gain = (bn_raw * d_h_pre_act).sum(0, keepdims=True)  # 1 x 64\n",
    "d_bn_raw = bn_gain * d_h_pre_act  # 32 x 64\n",
    "d_bn_bias = d_h_pre_act.sum(0, keepdims=True)  # 1 x 64\n",
    "\n",
    "compare_gradients('bn_gain', d_bn_gain, bn_gain)\n",
    "compare_gradients('bn_raw', d_bn_raw, bn_raw)\n",
    "compare_gradients('bn_bias', d_bn_bias, bn_bias)"
   ]
  },
  {
   "attachments": {},
   "cell_type": "markdown",
   "metadata": {},
   "source": [
    "**d_bn_diff** - branch 1, **d_bn_var_inv**\n",
    "\n",
    "```python\n",
    "bn_raw = bn_diff * bn_var_inv\n",
    "```\n",
    "`bn_diff` and `bn_raw` are 32 x 64 tensors, `bn_var_inv` is a 1 x 64 tensor."
   ]
  },
  {
   "cell_type": "code",
   "execution_count": 326,
   "metadata": {},
   "outputs": [
    {
     "name": "stdout",
     "output_type": "stream",
     "text": [
      "bn_var_inv      | exact: False | approximate: True  | maxdiff: 2.7939677238464355e-09\n"
     ]
    }
   ],
   "source": [
    "d_bn_diff = bn_var_inv * d_bn_raw  # 32 x 64\n",
    "d_bn_var_inv = (bn_diff * d_bn_raw).sum(0, keepdims=True)  # 1 x 64\n",
    "\n",
    "compare_gradients('bn_var_inv', d_bn_var_inv, bn_var_inv)\n"
   ]
  },
  {
   "attachments": {},
   "cell_type": "markdown",
   "metadata": {},
   "source": [
    "**d_bn_var**\n",
    "    \n",
    "```python\n",
    "bn_var_inv = (bn_var + 1e-5) ** -0.5 \n",
    "```\n",
    "$\\large\\frac{d}{dx}\\frac{1}{\\sqrt(x)} = -\\frac{1}{2x^{3/2}}$\n",
    "\n",
    "`bn_var_inv` and `bn_var` are 1 x 64 tensors."
   ]
  },
  {
   "cell_type": "code",
   "execution_count": 327,
   "metadata": {},
   "outputs": [
    {
     "name": "stdout",
     "output_type": "stream",
     "text": [
      "bn_var          | exact: False | approximate: True  | maxdiff: 9.313225746154785e-10\n"
     ]
    }
   ],
   "source": [
    "d_bn_var = -0.5 * ((bn_var + 1e-5) ** (-3 / 2)) * d_bn_var_inv  # 1 x 64\n",
    "\n",
    "compare_gradients('bn_var', d_bn_var, bn_var)\n"
   ]
  },
  {
   "attachments": {},
   "cell_type": "markdown",
   "metadata": {},
   "source": [
    "**d_bn_diff2**\n",
    "    \n",
    "```python\n",
    "bn_var = bn_diff2.sum(0, keepdim=True) / (bs - 1)\n",
    "```\n",
    "\n",
    "---\n",
    "Toy example:\n",
    "\n",
    "\\begin{align*}\n",
    "  \\begin{bmatrix}\n",
    "    a_{11} & a_{12}\\\\\n",
    "    a_{21} & a_{22}\n",
    "  \\end{bmatrix} ->\n",
    "  \\begin{bmatrix}\n",
    "    b_1 & b_2\n",
    "  \\end{bmatrix} =\n",
    "  \\begin{bmatrix}\n",
    "    (a_{11} + a_{12})/(bs-1) &  (a_{21} + a_{22})/(bs-1)\n",
    "  \\end{bmatrix}\n",
    "\\end{align*}\n",
    "\n",
    "---\n",
    "\n",
    "`bn_diff2` is a 32 x 64 tensor, `bn_var` is a 1 x 64 tensor.\n",
    "The tensor `bn_diff2` is summed in the forward pass, therefore we have to replicate the gradients in the backward pass."
   ]
  },
  {
   "cell_type": "code",
   "execution_count": 328,
   "metadata": {},
   "outputs": [
    {
     "name": "stdout",
     "output_type": "stream",
     "text": [
      "bn_diff2        | exact: False | approximate: True  | maxdiff: 2.9103830456733704e-11\n"
     ]
    }
   ],
   "source": [
    "d_bn_diff2 = torch.ones_like(bn_diff2) / (bs - 1) * d_bn_var  # 1 x 64\n",
    "\n",
    "compare_gradients('bn_diff2', d_bn_diff2, bn_diff2)"
   ]
  },
  {
   "attachments": {},
   "cell_type": "markdown",
   "metadata": {},
   "source": [
    "**d_bn_diff** - branch 2\n",
    "\n",
    "```python\n",
    "bn_diff2 = bn_diff**2\n",
    "```\n",
    "${\\large\\frac{d}{dx}}x^2 = 2x$\n",
    "\n",
    "`bn_diff2` and `bn_diff` are 32 x 64 tensors. "
   ]
  },
  {
   "cell_type": "code",
   "execution_count": 329,
   "metadata": {},
   "outputs": [
    {
     "name": "stdout",
     "output_type": "stream",
     "text": [
      "bn_diff         | exact: False | approximate: True  | maxdiff: 9.313225746154785e-10\n"
     ]
    }
   ],
   "source": [
    "d_bn_diff += 2.0 * bn_diff * d_bn_diff2  # 32 x 64\n",
    "\n",
    "compare_gradients('bn_diff', d_bn_diff, bn_diff)\n"
   ]
  },
  {
   "attachments": {},
   "cell_type": "markdown",
   "metadata": {},
   "source": [
    "\n",
    "```python\n",
    "bn_diff = h_pre_bn - bn_mean_i\n",
    "```"
   ]
  },
  {
   "attachments": {},
   "cell_type": "markdown",
   "metadata": {},
   "source": [
    "**d_h_pre_bn** - branch 1, **d_bn_mean_i**\n",
    "\n",
    "```python\n",
    "bn_diff = h_pre_bn - bn_mean_i\n",
    "```\n",
    "`bn_diff` and `h_pre_bn` are 32 x 64 tensors. `bn_mean_i` is a 1 x 64 tensor."
   ]
  },
  {
   "cell_type": "code",
   "execution_count": 330,
   "metadata": {},
   "outputs": [
    {
     "name": "stdout",
     "output_type": "stream",
     "text": [
      "bn_mean_i       | exact: False | approximate: True  | maxdiff: 3.725290298461914e-09\n"
     ]
    }
   ],
   "source": [
    "d_h_pre_bn = d_bn_diff.clone()  # 32 x 64\n",
    "d_bn_mean_i = -d_bn_diff.sum(0, keepdims=True)  # 1 x 64\n",
    "\n",
    "compare_gradients('bn_mean_i', d_bn_mean_i, bn_mean_i)\n"
   ]
  },
  {
   "attachments": {},
   "cell_type": "markdown",
   "metadata": {},
   "source": [
    "**d_h_pre_bn** - branch 2 \n",
    "```python\n",
    "bn_mean_i = h_pre_bn.sum(0, keepdim=True) / bs \n",
    "```\n",
    "`bn_mean_i` is a 1 x 64 tensor, `h_pre_bn` is a 32 x 64 tensor."
   ]
  },
  {
   "cell_type": "code",
   "execution_count": 331,
   "metadata": {},
   "outputs": [
    {
     "name": "stdout",
     "output_type": "stream",
     "text": [
      "h_pre_bn        | exact: False | approximate: True  | maxdiff: 4.656612873077393e-10\n"
     ]
    }
   ],
   "source": [
    "d_h_pre_bn += torch.ones_like(h_pre_bn) / bs * d_bn_mean_i  # 32 x 64\n",
    "\n",
    "compare_gradients('h_pre_bn', d_h_pre_bn, h_pre_bn)\n"
   ]
  },
  {
   "attachments": {},
   "cell_type": "markdown",
   "metadata": {},
   "source": [
    "##### Pre-batch norm"
   ]
  },
  {
   "attachments": {},
   "cell_type": "markdown",
   "metadata": {},
   "source": [
    "**d_emb_cat**, **d_W1**, **d_b1**\n",
    "\n",
    "```python\n",
    "h_pre_bn = emb_cat @ W1 + b1\n",
    "```\n",
    "`h_pre_bn` and `emb_cat` are 32 x 64 tensors, `W1` is a 30 x 64 tensor and `b1` is a 64d vector."
   ]
  },
  {
   "cell_type": "code",
   "execution_count": 332,
   "metadata": {},
   "outputs": [
    {
     "name": "stdout",
     "output_type": "stream",
     "text": [
      "emb_cat         | exact: False | approximate: True  | maxdiff: 1.862645149230957e-09\n",
      "W1              | exact: False | approximate: True  | maxdiff: 5.587935447692871e-09\n",
      "b1              | exact: False | approximate: True  | maxdiff: 2.7939677238464355e-09\n"
     ]
    }
   ],
   "source": [
    "d_emb_cat = d_h_pre_bn @ W1.T  # 32 x 30\n",
    "d_W1 = emb_cat.T @ d_h_pre_bn  # 30 x 64\n",
    "d_b1 = d_h_pre_bn.sum(0)  # 64\n",
    "\n",
    "compare_gradients('emb_cat', d_emb_cat, emb_cat)\n",
    "compare_gradients('W1', d_W1, W1)\n",
    "compare_gradients('b1', d_b1, b1)"
   ]
  },
  {
   "attachments": {},
   "cell_type": "markdown",
   "metadata": {},
   "source": [
    "### Embedding layer"
   ]
  },
  {
   "attachments": {},
   "cell_type": "markdown",
   "metadata": {},
   "source": [
    "**d_emb**\n",
    "\n",
    "```python\n",
    "emb_cat = emb.view(emb.shape[0], -1)\n",
    "```\n",
    "`emb_cat` is a 32 x 30 tensor, `emb` is a 32 x 3 x 10 tensor."
   ]
  },
  {
   "cell_type": "code",
   "execution_count": 333,
   "metadata": {},
   "outputs": [
    {
     "name": "stdout",
     "output_type": "stream",
     "text": [
      "emb             | exact: False | approximate: True  | maxdiff: 1.862645149230957e-09\n"
     ]
    }
   ],
   "source": [
    "d_emb = d_emb_cat.view(emb.shape)  # 32 x 3 x 10\n",
    "\n",
    "compare_gradients('emb', d_emb, emb)\n"
   ]
  },
  {
   "attachments": {},
   "cell_type": "markdown",
   "metadata": {},
   "source": [
    "**d_C**\n",
    "\n",
    "```python\n",
    "emb = C[Xb]\n",
    "```\n",
    "`emb` is a 32 x 3 x 10 tensor, `C` is a 27 x 10 tensor and `Xb` is a 32 x 3 tensor.\n",
    "\n",
    "Each element of `Xb` a character index. Each character index is used to select a row (10d vector) from `C`.  \n",
    "We can calculate the backward pass in different ways.   \n",
    "- Naive: we first create a zero tensor `d_C` with the same shape as `C` (27 x 10). Then we loop over the 32 samples from `Xb`. For each sample, we loop over the 3 character indices. For each character index, we add the corresponding 10d vector from `d_emb` to the corresponding row in `d_C`.   \n",
    "\n",
    "- Vectorised 1: we first transform each element of `Xb` into a 27d one-hot vector. `Xb_1_hot` is then a 32 x 3 x 27 tensor with 32 samples, each having 3 one-hot vectors. We then reshape `Xb_1_hot` into a (32x3) x 27 tensor and `d_emb` into a (32x3) x 10 tensor. Then `d_C = Xb_1_hot @ d_emb`, which is a 27 x 10 tensor.\n",
    "\n",
    "- Vectorised 2: We can take the dot product of 'Xb_1_hot' and 'd_emb' using [torch.tensordot](https://pytorch.org/docs/stable/generated/torch.tensordot.html). \n",
    "\n",
    "- Vectorised 3: We can use [torch.einsum](https://pytorch.org/docs/stable/generated/torch.einsum.html).\n",
    "\n",
    "\n",
    "\n"
   ]
  },
  {
   "cell_type": "code",
   "execution_count": 334,
   "metadata": {},
   "outputs": [
    {
     "name": "stdout",
     "output_type": "stream",
     "text": [
      "C               | exact: False | approximate: True  | maxdiff: 7.450580596923828e-09\n"
     ]
    }
   ],
   "source": [
    "# Naive implementation 1\n",
    "d_C = torch.zeros_like(C)  # 27 x 10\n",
    "for i in range(Xb.shape[0]):\n",
    "    for j in range(Xb.shape[1]):\n",
    "        ix = Xb[i, j]\n",
    "        d_C[ix] += d_emb[i, j]\n",
    "\n",
    "compare_gradients('C', d_C, C)\n"
   ]
  },
  {
   "cell_type": "code",
   "execution_count": 335,
   "metadata": {},
   "outputs": [
    {
     "name": "stdout",
     "output_type": "stream",
     "text": [
      "C               | exact: False | approximate: True  | maxdiff: 7.450580596923828e-09\n"
     ]
    }
   ],
   "source": [
    "# Vectorized implementation 1\n",
    "one_hot_Xb = F.one_hot(Xb, 27).view((-1, 27)).float()  # 32 x 3 x 27\n",
    "d_C = one_hot_Xb.T @ d_emb.view(-1, 10)  # 27 x 10\n",
    "\n",
    "compare_gradients('C', d_C, C)"
   ]
  },
  {
   "cell_type": "code",
   "execution_count": 336,
   "metadata": {},
   "outputs": [
    {
     "name": "stdout",
     "output_type": "stream",
     "text": [
      "C               | exact: False | approximate: True  | maxdiff: 7.450580596923828e-09\n"
     ]
    }
   ],
   "source": [
    "# Vectorized implementation 2\n",
    "Xb_1hot = F.one_hot(Xb, vocab_size).float()  # 32 x 3 x 27\n",
    "d_C = torch.tensordot(Xb_1hot, d_emb, dims=([0, 1], [0, 1]))  # type: ignore 27 x 10\n",
    "\n",
    "compare_gradients('C', d_C, C)"
   ]
  },
  {
   "cell_type": "code",
   "execution_count": 337,
   "metadata": {},
   "outputs": [
    {
     "name": "stdout",
     "output_type": "stream",
     "text": [
      "C               | exact: False | approximate: True  | maxdiff: 7.450580596923828e-09\n"
     ]
    }
   ],
   "source": [
    "# Vectorized implementation 3\n",
    "Xb_1hot = F.one_hot(Xb, vocab_size).float()  # 32 x 3 x 27\n",
    "d_C = torch.einsum('ijk,ijl->kl', Xb_1hot, d_emb)  #  27 x 10\n",
    "\n",
    "compare_gradients('C', d_C, C)"
   ]
  },
  {
   "attachments": {},
   "cell_type": "markdown",
   "metadata": {},
   "source": [
    "## Backpropagation through cross entropy loss"
   ]
  },
  {
   "attachments": {},
   "cell_type": "markdown",
   "metadata": {},
   "source": [
    "In the previous sections we calculated the cross entropy loss in very small atomic steps and we backpropagated through each step.\n",
    "\n",
    "\n",
    "```python\n",
    "# Cross entropy loss\n",
    "logit_maxes = logits.max(1, keepdim=True).values  \n",
    "norm_logits = logits - logit_maxes \n",
    "counts = norm_logits.exp()  \n",
    "counts_sum = counts.sum(1, keepdims=True)\n",
    "counts_sum_inv = counts_sum**-1  \n",
    "probs = counts * counts_sum_inv  \n",
    "logprobs = probs.log()  \n",
    "loss = -logprobs[range(bs), Yb].mean()\n",
    "```\n",
    "In this section we will calculate the cross entropy loss in one step by using [F.cross_entropy](https://pytorch.org/docs/stable/generated/torch.nn.functional.cross_entropy.html) and manually backpropagate through it. \n"
   ]
  },
  {
   "cell_type": "code",
   "execution_count": 338,
   "metadata": {},
   "outputs": [
    {
     "name": "stdout",
     "output_type": "stream",
     "text": [
      "loss_fast: 3.4002, loss: 3.4002, diff: 0.0000\n"
     ]
    }
   ],
   "source": [
    "loss_fast = F.cross_entropy(logits, Yb)\n",
    "print(f\"loss_fast: {loss_fast.item():.4f}, loss: {loss.item():.4f}, diff: {(loss_fast - loss).item():.4f}\")\n"
   ]
  },
  {
   "attachments": {},
   "cell_type": "markdown",
   "metadata": {},
   "source": [
    "`loss_fast` is much faster thant the previous `loss`."
   ]
  },
  {
   "cell_type": "code",
   "execution_count": 339,
   "metadata": {},
   "outputs": [
    {
     "name": "stdout",
     "output_type": "stream",
     "text": [
      "115 µs ± 627 ns per loop (mean ± std. dev. of 7 runs, 10,000 loops each)\n"
     ]
    }
   ],
   "source": [
    "%%timeit\n",
    "logit_maxes = logits.max(1, keepdim=True).values  \n",
    "norm_logits = logits - logit_maxes \n",
    "counts = norm_logits.exp()  \n",
    "counts_sum = counts.sum(1, keepdims=True)\n",
    "counts_sum_inv = counts_sum**-1  \n",
    "probs = counts * counts_sum_inv  \n",
    "logprobs = probs.log()  \n",
    "loss = -logprobs[range(bs), Yb].mean()"
   ]
  },
  {
   "cell_type": "code",
   "execution_count": 340,
   "metadata": {},
   "outputs": [
    {
     "name": "stdout",
     "output_type": "stream",
     "text": [
      "17.1 µs ± 687 ns per loop (mean ± std. dev. of 7 runs, 100,000 loops each)\n"
     ]
    }
   ],
   "source": [
    "%%timeit\n",
    "F.cross_entropy(logits, Yb)"
   ]
  },
  {
   "attachments": {},
   "cell_type": "markdown",
   "metadata": {},
   "source": [
    "### Backward pass"
   ]
  },
  {
   "attachments": {},
   "cell_type": "markdown",
   "metadata": {},
   "source": [
    "We will derive the mathematical expressions for calculatind `d_logits` in one step.\n",
    "\n",
    "```python\n",
    "loss_fast = F.cross_entropy(logits, Yb)\n",
    "```\n",
    "\n",
    "\n",
    "![cross_entropy_diag](./media/cross_entropy_diag.png)\n",
    "\n",
    "\n",
    "For a single sample, the cross entropy loss is calculated as follows:\n",
    "\n",
    "\\begin{align*}\n",
    "loss &= -log (p_y)\\\\\n",
    "p_i &= \\frac{e^{l_i}}{\\sum_j e^{l_j}}\\\\\n",
    "\\Rightarrow loss &= -log\\frac{e^{l_y}}{\\sum_j e^{l_j}}\n",
    "\\end{align*}\n",
    "where $p$ is a vector of all probablilties, $p_y$ are the probabilities of the label (character) $y$, $p_i$ are the probabilities of the $i$-th sample and $l_i$ the logit of the $i$-th sample.\n",
    "\n",
    "The derivative of the cross entropy loss with respect to the $i$-th logit is: \n",
    "\n",
    "\\begin{align*}\n",
    "\\frac{d}{dl_i}loss = \\frac{d}{dl_i}(-log\\frac{e^{l_y}}{\\sum_j e^{l_j}})\\\\\n",
    "\\end{align*}\n",
    "using ${\\large\\frac{d}{dx}}log(x) =\\large\\frac{1}{x}$  \n",
    "\\begin{align*}\n",
    "& = -\\frac{\\sum_j e^{l_j}}{e^{l_y}}\\frac{d}{dl_i}(\\frac{e^{l_y}}{\\sum_j e^{l_j}}) \\\\\n",
    "& = -\\frac{\\sum_j{e^{l_j}}}{e^{l_y}} {\\left[\\frac{e^{l_y}}{\\sum_j e^{l_j}} -\\frac{e^{l_y}e^{l_i}}{(\\sum_j e^{l_j})^2} \\right]}\\\\\n",
    "\\end{align*}\n",
    "\n",
    "if $i \\neq y$:\n",
    "\n",
    "\\begin{align*}\n",
    "& =\\frac{\\sum_j{e^{l_j}}}{e^{l_y}} {\\left[0 + \\frac{e^{l_y}e^{l_i}}{(\\sum_j{e^{l_j}})^2}  \\right]}\\\\\n",
    "& =\\frac{e^{l_i}}{\\sum_j{e^{l_j}}}\\\\\n",
    "& =p_i\n",
    "\\end{align*}\n",
    "\n",
    "if $i = y$:\n",
    "\n",
    "\\begin{align*}\n",
    "& = -{\\left[ 1-\\frac{e^{l_i}}{\\sum_j{e^{l_j}}} \\right]}\\\\\n",
    "& = \\frac{e^{l_i}}{\\sum_j{e^{l_j}}} - 1\\\\\n",
    "& = p_i - 1\n",
    "\n",
    "\\end{align*}\n",
    "\n",
    "The gradient is either the softmax ($p_i$) or the softmax minus 1 ($p_i-1$) depending on whether the logit .   \n",
    "This is the gradient of a single sample $i$. The loss of a batch is the average of the losses of all samples in the batch. We have to backpropagate through the average as well. The gradient of the average is $\\large\\frac{1}{bs}$.\n",
    "\n",
    "\n"
   ]
  },
  {
   "cell_type": "code",
   "execution_count": 341,
   "metadata": {},
   "outputs": [
    {
     "name": "stdout",
     "output_type": "stream",
     "text": [
      "logits          | exact: False | approximate: True  | maxdiff: 5.820766091346741e-09\n"
     ]
    }
   ],
   "source": [
    "d_logits = F.softmax(logits, dim=1)  # 32 x 27\n",
    "# substract 1 from the correct class\n",
    "d_logits[range(bs), Yb] -= 1.0\n",
    "# backprop through averaging\n",
    "d_logits /= bs\n",
    "\n",
    "compare_gradients('logits', d_logits, logits)"
   ]
  },
  {
   "attachments": {},
   "cell_type": "markdown",
   "metadata": {},
   "source": [
    "### Intuition of cross-entropy loss"
   ]
  },
  {
   "cell_type": "code",
   "execution_count": 342,
   "metadata": {},
   "outputs": [
    {
     "data": {
      "image/png": "[encoded data removed]",
      "text/plain": [
       "<Figure size 640x480 with 2 Axes>"
      ]
     },
     "metadata": {},
     "output_type": "display_data"
    }
   ],
   "source": [
    "plt.imshow(d_logits.detach(), cmap='gray')\n",
    "plt.colorbar()\n",
    "plt.title('d_logits')\n",
    "plt.show()"
   ]
  },
  {
   "attachments": {},
   "cell_type": "markdown",
   "metadata": {},
   "source": [
    "The black `d_logits` squares are the position of the correct indices where we substracted 1 from the gradient. The other squares are the positions where `d_logits * bs` is equal to the probability.\n",
    "\n",
    "Let's look at 1 sample:"
   ]
  },
  {
   "cell_type": "code",
   "execution_count": 343,
   "metadata": {},
   "outputs": [
    {
     "name": "stdout",
     "output_type": "stream",
     "text": [
      "y:        3\n",
      "probs:    tensor([0.0169, 0.0170, 0.0293, 0.0593, 0.0290, 0.0248, 0.0547, 0.0782, 0.0586, 0.0179, 0.0154, 0.0233, 0.0286, 0.1021,\n",
      "        0.0118, 0.0096, 0.0166, 0.0185, 0.0146, 0.1269, 0.0520, 0.0301, 0.0391, 0.0276, 0.0204, 0.0548, 0.0231],\n",
      "       grad_fn=<SelectBackward0>)\n",
      "d_logits: tensor([ 0.0169,  0.0170,  0.0293, -0.9407,  0.0290,  0.0248,  0.0547,  0.0782,  0.0586,  0.0179,  0.0154,  0.0233,\n",
      "         0.0286,  0.1021,  0.0118,  0.0096,  0.0166,  0.0185,  0.0146,  0.1269,  0.0520,  0.0301,  0.0391,  0.0276,\n",
      "         0.0204,  0.0548,  0.0231], grad_fn=<MulBackward0>)\n",
      "diff:     tensor([0., 0., 0., 1., 0., 0., 0., 0., 0., 0., 0., 0., 0., 0., 0., 0., 0., 0., 0., 0., 0., 0., 0., 0., 0., 0., 0.],\n",
      "       grad_fn=<SubBackward0>)\n"
     ]
    }
   ],
   "source": [
    "s = 0\n",
    "print(f\"y:        {Yb[s]}\")\n",
    "print(f\"probs:    {F.softmax(logits, dim=1)[s]}\")\n",
    "print(f\"d_logits: {d_logits[0]*bs}\")\n",
    "print(f\"diff:     {F.softmax(logits, dim=1)[s] - d_logits[s]*bs}\")"
   ]
  },
  {
   "attachments": {},
   "cell_type": "markdown",
   "metadata": {},
   "source": [
    "`probs` sums to 1, `d_logits` sums to 0. This is logic because `d_logits` is equal to `probs` except in exactly one place where we substracted 1 . "
   ]
  },
  {
   "cell_type": "code",
   "execution_count": 344,
   "metadata": {},
   "outputs": [
    {
     "name": "stdout",
     "output_type": "stream",
     "text": [
      "sum of probs: 1.0\n",
      "sum of d_logits: -9.313225746154785e-10\n"
     ]
    }
   ],
   "source": [
    "print(f\"sum of probs: {F.softmax(logits, dim=1)[s].sum()}\")\n",
    "print(f\"sum of d_logits: {d_logits[s].sum()}\")\n"
   ]
  },
  {
   "attachments": {},
   "cell_type": "markdown",
   "metadata": {},
   "source": [
    "```{note}\n",
    "The intuition is to think about the `d_logits` gradients of each sample as a force that pushes the logits up for position corresponding to the correct label and pushes the logits down for all other positions. The total amount of force is 0 because the sum of the gradients is 0.  \n",
    "The amount of force that we are applying to each position is proportional to the probability of that position. If the probabilities are exactly correct then the force that we apply to each position is 0.  The `probs` is 0 everywhere except for the correct position where it is 1. `d_logits` is 0 everywhere. If we have a confidently mispredicted element then the `probs` is ~0 everywhere except for the mispredicted position where it is ~1. `d_logits` is ~0 everywhere except for the mispredicted position where it is ~-1 and ~1 for the correct position. The force applied to the mispredicted position pulls that logit down and the equal force is applied to the correct position and pushes that logit up. \n",
    "```"
   ]
  },
  {
   "cell_type": "code",
   "execution_count": 345,
   "metadata": {},
   "outputs": [
    {
     "name": "stdout",
     "output_type": "stream",
     "text": [
      "y:             3\n",
      "probs:         tensor([0., 0., 0., 1., 0., 0., 0., 0., 0., 0., 0., 0., 0., 0., 0., 0., 0., 0., 0., 0., 0., 0., 0., 0., 0., 0., 0.])\n",
      "d_logits:      tensor([0., 0., 0., 0., 0., 0., 0., 0., 0., 0., 0., 0., 0., 0., 0., 0., 0., 0., 0., 0., 0., 0., 0., 0., 0., 0., 0.])\n",
      "probs_updated: tensor([0., 0., 0., 1., 0., 0., 0., 0., 0., 0., 0., 0., 0., 0., 0., 0., 0., 0., 0., 0., 0., 0., 0., 0., 0., 0., 0.])\n"
     ]
    }
   ],
   "source": [
    "# Exacly correct\n",
    "y = 3\n",
    "print(f\"y:             {y}\")\n",
    "probs_ = torch.zeros_like(logits)\n",
    "probs_[0, y] = 1.0\n",
    "print(f\"probs:         {probs_[0]}\")\n",
    "d_logits_ = probs_.clone()\n",
    "d_logits_[0, y] -= 1.0\n",
    "print(f\"d_logits:      {d_logits_[0]}\")\n",
    "print(f\"probs_updated: {probs_[0] - d_logits_[0]}\")"
   ]
  },
  {
   "cell_type": "code",
   "execution_count": 346,
   "metadata": {},
   "outputs": [
    {
     "name": "stdout",
     "output_type": "stream",
     "text": [
      "y:             3\n",
      "probs:         tensor([1., 0., 0., 0., 0., 0., 0., 0., 0., 0., 0., 0., 0., 0., 0., 0., 0., 0., 0., 0., 0., 0., 0., 0., 0., 0., 0.])\n",
      "d_logits:      tensor([ 1.,  0.,  0., -1.,  0.,  0.,  0.,  0.,  0.,  0.,  0.,  0.,  0.,  0.,  0.,  0.,  0.,  0.,  0.,  0.,  0.,  0.,\n",
      "         0.,  0.,  0.,  0.,  0.])\n",
      "probs_updated: tensor([0., 0., 0., 1., 0., 0., 0., 0., 0., 0., 0., 0., 0., 0., 0., 0., 0., 0., 0., 0., 0., 0., 0., 0., 0., 0., 0.])\n"
     ]
    }
   ],
   "source": [
    "# Confidently wrong\n",
    "y = 3\n",
    "print(f\"y:             {y}\")\n",
    "probs_ = torch.zeros_like(logits)\n",
    "probs_[0, 0] = 1.0  # confident wrong predicting 0\n",
    "print(f\"probs:         {probs_[0]}\")\n",
    "d_logits_ = probs_.clone()\n",
    "d_logits_[0, y] -= 1.0\n",
    "print(f\"d_logits:      {d_logits_[0]}\")\n",
    "print(f\"probs_updated: {probs_[0] - d_logits_[0]}\")"
   ]
  },
  {
   "attachments": {},
   "cell_type": "markdown",
   "metadata": {},
   "source": [
    "## Backpropagation through batchnorm"
   ]
  },
  {
   "attachments": {},
   "cell_type": "markdown",
   "metadata": {},
   "source": [
    "In the previous sections we calculated the batchnorm in very small atomic steps and we backpropagated through each step.\n",
    "\n",
    "```python\n",
    "# batchnorm\n",
    "bn_mean_i = h_pre_bn.sum(0, keepdim=True) / bs  \n",
    "bn_diff = h_pre_bn - bn_mean_i  \n",
    "bn_diff2 = bn_diff**2  \n",
    "bn_var = bn_diff2.sum(0, keepdim=True) / (bs - 1)\n",
    "bn_var_inv = (bn_var + 1e-5) ** -0.5\n",
    "bn_raw = bn_diff * bn_var_inv  \n",
    "h_pre_act = bn_gain * bn_raw + bn_bias\n",
    "```\n",
    "\n",
    "In this section we will calculate the batchnorm in one step by using the formula $y_i=\\gamma{\\large\\frac{x_i-\\mu}{\\sqrt{\\sigma^2+\\epsilon}}} + \\beta$ and manually backpropagate through it."
   ]
  },
  {
   "cell_type": "code",
   "execution_count": 347,
   "metadata": {},
   "outputs": [
    {
     "name": "stdout",
     "output_type": "stream",
     "text": [
      "max diff: tensor(4.7684e-07, grad_fn=<MaxBackward1>)\n"
     ]
    }
   ],
   "source": [
    "h_pre_act_fast = (\n",
    "    bn_gain\n",
    "    * (h_pre_bn - h_pre_bn.mean(0, keepdim=True))\n",
    "    / torch.sqrt(h_pre_bn.var(0, keepdim=True, unbiased=True) + 1e-5)\n",
    "    + bn_bias\n",
    ")\n",
    "print('max diff:', (h_pre_act_fast - h_pre_act).abs().max())"
   ]
  },
  {
   "attachments": {},
   "cell_type": "markdown",
   "metadata": {},
   "source": [
    "### Backward pass"
   ]
  },
  {
   "attachments": {},
   "cell_type": "markdown",
   "metadata": {},
   "source": [
    "We will derive the mathematical expressions for calculating `d_h_pre_bn` in one step. \n",
    "\n",
    "```python\n",
    "h_pre_act_fast &= bn_gain*(h_pre_bn - h_pre_bn.mean(0, keepdim&=True)) / torch.sqrt(h_pre_bn.var(0, keepdim&=True, unbiased&=True) + 1e-5) + bn_bias\n",
    "```\n",
    "\n",
    "![batchnorm_diag](./media/batchnorm_diag.png)\n",
    "\n",
    "\n",
    "$\\mu = \\frac{1}{m}\\sum_{i}^{m}x_i\\\\$\n",
    "$\\sigma^2 = \\frac{1}{m-1}\\sum_{i}^{m}(x_i-\\mu)^2\\\\$\n",
    "$\\hat{x_i} = \\frac{x_i-\\mu}{\\sqrt{\\sigma^2+\\epsilon}}\\\\$\n",
    "$y_i = \\gamma\\hat{x_i} + \\beta\\\\$\n",
    "\n",
    "We have $\\large\\frac{\\delta L}{\\delta y_1}\\\\$  \n",
    "We want $\\large\\frac{\\delta L}{\\delta x_1}\\\\$\n",
    "\n",
    "(1)\n",
    "\n",
    "\\begin{align*}\n",
    "  \\frac{\\delta L}{\\delta \\hat{x_i}} &= \\frac{\\delta L}{\\delta y_i}*\\gamma\n",
    "\\end{align*}\n",
    "\n",
    "(2)   \n",
    "The $i$ components of $\\hat x$ are dependent on $\\sigma$ in the forward pass. Therefore we have to sum over all $i$'s in the backward pass.\n",
    "  \n",
    "\\begin{align*}\n",
    "  \\frac{\\delta L}{\\delta \\sigma^2} &= \\sum_{i}\\frac{\\delta \\hat{x_i}}{\\delta \\sigma^2}\\frac{\\delta L}{\\delta \\hat{x_i}}\\\\ \n",
    "  &= \\gamma*\\sum_{i}\\frac{\\delta}{\\delta \\sigma^2}\\left[\\frac{x_i-\\mu}{\\sqrt{\\sigma^2+\\epsilon}}\\right]\\frac{\\delta L}{\\delta y_i}\\\\\n",
    "  &= -\\frac{1}{2}*\\gamma*\\sum_{i}\\frac{\\delta}{\\delta y_i}{\\left[\\frac{x_i-\\mu}{(\\sigma^2+\\epsilon)^{\\frac{3}{2}}}\\right]}\\\\\n",
    "  \\end{align*}\n",
    "\n",
    "(3)   \n",
    "The $i$ components of $\\hat x$ are dependent on $\\mu$ in the forward pass. Therefore we have to sum over all $i$'s in the backward pass. Additionally we $\\sigma$ is dependent on $\\mu$ and therefore we also have to add the gradient of $\\sigma$ with respect to $\\mu$.\n",
    "\n",
    "\\begin{align*}\n",
    "  \\frac{\\delta L}{\\delta \\mu} &= \\sum_{i}\\frac{\\delta \\hat{x_i}}{\\delta \\mu}\\frac{\\delta L}{\\delta \\hat{x_i}} + \\frac{\\delta \\sigma^2}{\\delta \\mu}\\frac{\\delta L}{\\delta \\sigma^2}\\\\\\\\\n",
    "  \\frac{\\delta\\hat{x_i}}{\\delta \\mu} &= \\frac{\\delta}{\\delta \\mu}\\left[\\frac{x_i-\\mu}{\\sqrt{\\sigma^2+\\epsilon}}\\right]\\\\\n",
    "  &= -\\frac{1}{\\sqrt{\\sigma^2+\\epsilon}}\\\\\\\\\n",
    "  \\frac{\\delta\\sigma^2}{\\delta \\mu} &= \\frac{\\delta}{\\delta \\mu}\\left[\\frac{1}{m-1}\\sum_{i}(x_i-\\mu)^2\\right]\\\\\n",
    "  &= \\frac{-2}{m-1}\\sum_{i}(x_i-\\mu)\\\\\\\\\n",
    "  &= \\frac{-2}{m-1}\\sum_{i}x_i -\\sum_{i}-\\mu\\\\\n",
    "  &= \\frac{-2}{m-1}\\left[m\\mu -m\\mu\\right] \\quad(\\textsf{because }\\small\\mu=\\frac{1}{m}\\sum_{i}x_i)\\\\\n",
    "  &= 0\\\\\\\\\n",
    "  \\Rightarrow  \\frac{\\delta L}{\\delta \\mu} &= -\\frac{\\gamma}{\\sqrt{\\sigma^2+\\epsilon}}\\sum_{i}\\frac{\\delta L}{\\delta y_i} + 0\\\\\n",
    "\\end{align*}\n",
    "  \n",
    "(4)\n",
    "\n",
    "\\begin{align*}\n",
    "\\frac{\\delta L}{\\delta x_i} &= \\frac{\\delta \\hat{x_i}}{\\delta x_i}\\frac{\\delta L}{\\delta \\hat{x_i}} + \\frac{\\delta \\mu}{\\delta x_i}\\frac{\\delta L}{\\delta \\mu} + \\frac{\\delta \\sigma^2}{\\delta x_i}\\frac{\\delta L}{\\delta \\sigma^2}\\\\\\\\\n",
    "\\frac{\\delta \\hat{x_i}}{\\delta x_i} &= \\frac{\\delta}{\\delta x_i}\\left[\\frac{x_i-\\mu}{\\sqrt{\\sigma^2+\\epsilon}}\\right]\\\\\n",
    "&= \\frac{1}{\\sqrt{\\sigma^2+\\epsilon}}\\\\\\\\\n",
    "\\frac{\\delta \\mu}{\\delta x_i} &= \\frac{\\delta}{\\delta x_i}\\left[\\frac{1}{m}\\sum_{i}x_i\\right]\\\\\n",
    "&= \\frac{1}{m}\\\\\\\\\n",
    "\\frac{\\delta \\sigma^2}{\\delta x_i} &= \\frac{\\delta}{\\delta x_i}\\left[\\frac{1}{m-1}\\sum_{i}(x_i-\\mu)^2\\right]\\\\\n",
    "&= \\frac{2}{m-1}(x_i-\\mu)\\\\\\\\\n",
    "\n",
    "\\Rightarrow\\frac{\\delta L}{\\delta x_i} &= \\frac{1}{\\sqrt{\\sigma^2+\\epsilon}}\\frac{\\delta L}{\\delta \\hat{y_i}}*\\gamma + \\left[-\\frac{1}{m}\\frac{\\gamma}{\\sqrt{\\sigma^2+\\epsilon}}\\sum_{j}\\frac{\\delta L}{\\delta y_j}\\right] + \\left[\\frac{2}{m-1}(x_i-\\mu)\\right]\\left[-\\frac{1}{2}\\gamma\\sum_{j}\\frac{\\delta L}{\\delta y_j}\\frac{x_j-\\mu}{(\\sigma^2+\\epsilon)^{\\frac{3}{2}}}\\right]\\\\\n",
    "&= \\frac{1}{\\sqrt{\\sigma^2+\\epsilon}}\\frac{\\delta L}{\\delta \\hat{y_i}}*\\gamma - \\left[\\frac{1}{m}\\frac{\\gamma}{\\sqrt{\\sigma^2+\\epsilon}}\\sum_{j}\\frac{\\delta L}{\\delta y_j}\\right] - \\left[\\frac{1}{m-1}\\frac{x_i-\\mu}{\\sqrt{\\sigma^2+\\epsilon}}\\right]\\left[\\frac{\\gamma}{\\sqrt{\\sigma^2+\\epsilon}}\\sum_{j}\\frac{\\delta L}{\\delta y_j}\\frac{x_j-\\mu}{\\sqrt{\\sigma^2+\\epsilon}}\\right]\\\\\n",
    "\\left(\\textsf{because }\\small\\hat{x_i}=\\frac{x_i-\\mu}{\\sqrt{\\sigma^2+\\epsilon}}\\right)\\\\\n",
    "&= \\frac{\\gamma}{m\\sqrt{\\sigma^2+\\epsilon}}\\left[m\\frac{\\delta L}{\\delta y_i}-\\sum_{j}\\frac{\\delta L}{\\delta y_j}-\\frac{m}{m-1}\\hat{x_i}\\sum_{j}\\frac{\\delta L}{\\delta y_j}\\hat{x_j}\\right]\\\\\n",
    "\\end{align*}\n",
    "\n",
    "The formula for $\\large\\frac{\\delta L}{\\delta x_i}$ is for a single neuron and a batch of 32 samples. \n"
   ]
  },
  {
   "cell_type": "code",
   "execution_count": 348,
   "metadata": {},
   "outputs": [
    {
     "name": "stdout",
     "output_type": "stream",
     "text": [
      "h_pre_bn        | exact: False | approximate: True  | maxdiff: 9.313225746154785e-10\n"
     ]
    }
   ],
   "source": [
    "d_h_pre_bn = (\n",
    "    bn_gain\n",
    "    * bn_var_inv\n",
    "    / bs\n",
    "    * (bs * d_h_pre_act - d_h_pre_act.sum(0) - bs / (bs - 1) * bn_raw * (d_h_pre_act * bn_raw).sum(0))\n",
    ")\n",
    "\n",
    "compare_gradients('h_pre_bn', d_h_pre_bn, h_pre_bn)"
   ]
  },
  {
   "attachments": {},
   "cell_type": "markdown",
   "metadata": {},
   "source": [
    "## Train the MLP model with manual backpropagation"
   ]
  },
  {
   "attachments": {},
   "cell_type": "markdown",
   "metadata": {},
   "source": [
    "We will now train our MLP model with the manual backpropagation algorithm. "
   ]
  },
  {
   "attachments": {},
   "cell_type": "markdown",
   "metadata": {},
   "source": [
    "**Model**"
   ]
  },
  {
   "cell_type": "code",
   "execution_count": 349,
   "metadata": {},
   "outputs": [
    {
     "name": "stdout",
     "output_type": "stream",
     "text": [
      "Total # parameters: 4,137\n"
     ]
    }
   ],
   "source": [
    "n_emb = 10  # the dimensionality of the character embedding vectors\n",
    "n_hidden = 64  # the number of neurons in the hidden layer of the MLP\n",
    "\n",
    "g = torch.Generator().manual_seed(seed)  # for reproducibility\n",
    "C = torch.randn((vocab_size, n_emb), generator=g)\n",
    "\n",
    "# Layer 1\n",
    "W1 = torch.randn((n_emb * block_size, n_hidden), generator=g) * (5 / 3) / ((n_emb * block_size) ** 0.5)\n",
    "b1 = torch.randn(n_hidden, generator=g) * 0.1\n",
    "\n",
    "# Layer 2\n",
    "W2 = torch.randn((n_hidden, vocab_size), generator=g) * 0.1\n",
    "b2 = torch.randn(vocab_size, generator=g) * 0.1\n",
    "\n",
    "# BatchNorm parameters\n",
    "bn_gain = torch.randn((1, n_hidden)) * 0.1 + 1.0\n",
    "bn_bias = torch.randn((1, n_hidden)) * 0.1\n",
    "\n",
    "parameters = [C, W1, b1, W2, b2, bn_gain, bn_bias]\n",
    "n_params = sum(p.nelement() for p in parameters)\n",
    "print(f'Total # parameters: {n_params:,}')\n",
    "for p in parameters:\n",
    "    p.requires_grad = True\n",
    "\n"
   ]
  },
  {
   "attachments": {},
   "cell_type": "markdown",
   "metadata": {},
   "source": [
    "**Training**"
   ]
  },
  {
   "cell_type": "code",
   "execution_count": 350,
   "metadata": {},
   "outputs": [
    {
     "name": "stdout",
     "output_type": "stream",
     "text": [
      "      0/ 200000: 3.3884\n",
      "  10000/ 200000: 2.4541\n",
      "  20000/ 200000: 2.4857\n",
      "  30000/ 200000: 2.1198\n",
      "  40000/ 200000: 2.3114\n",
      "  50000/ 200000: 1.9466\n",
      "  60000/ 200000: 2.5517\n",
      "  70000/ 200000: 2.2360\n",
      "  80000/ 200000: 1.9703\n",
      "  90000/ 200000: 2.2679\n",
      " 100000/ 200000: 2.3220\n",
      " 110000/ 200000: 1.6446\n",
      " 120000/ 200000: 2.2917\n",
      " 130000/ 200000: 2.1344\n",
      " 140000/ 200000: 2.2928\n",
      " 150000/ 200000: 1.8781\n",
      " 160000/ 200000: 2.2685\n",
      " 170000/ 200000: 2.2070\n",
      " 180000/ 200000: 1.9090\n",
      " 190000/ 200000: 1.8184\n"
     ]
    }
   ],
   "source": [
    "# same optimization as last time\n",
    "max_steps = 200000\n",
    "bs = 32\n",
    "loss_i = []\n",
    "\n",
    "# use this context manager for efficiency once your backward pass is written (TODO)\n",
    "with torch.no_grad():\n",
    "    # kick off optimization\n",
    "    for i in range(max_steps):\n",
    "        # minibatch construct\n",
    "        ix = torch.randint(0, Xtr.shape[0], (bs,), generator=g)\n",
    "        Xb, Yb = Xtr[ix], Ytr[ix]  # batch X,Y\n",
    "\n",
    "        # forward pass\n",
    "        emb = C[Xb]  # embed the characters into vectors\n",
    "        emb_cat = emb.view(emb.shape[0], -1)  # concatenate the vectors\n",
    "        # Linear layer\n",
    "        h_pre_bn = emb_cat @ W1 + b1  # hidden layer pre-activation\n",
    "        # BatchNorm layer\n",
    "        # -------------------------------------------------------------\n",
    "        bn_mean = h_pre_bn.mean(0, keepdim=True)\n",
    "        bn_var = h_pre_bn.var(0, keepdim=True, unbiased=True)\n",
    "        bn_var_inv = (bn_var + 1e-5) ** -0.5\n",
    "        bn_raw = (h_pre_bn - bn_mean) * bn_var_inv\n",
    "        h_pre_act = bn_gain * bn_raw + bn_bias\n",
    "        # -------------------------------------------------------------\n",
    "        # Non-linearity\n",
    "        h = torch.tanh(h_pre_act)  # hidden layer\n",
    "        logits = h @ W2 + b2  # output layer\n",
    "        loss = F.cross_entropy(logits, Yb)  # loss function\n",
    "\n",
    "        # backward pass\n",
    "        for p in parameters:\n",
    "            p.grad = None\n",
    "        # loss.backward() # use this for correctness comparisons, delete it later!\n",
    "\n",
    "        # manual backprop!\n",
    "        # -----------------\n",
    "        d_logits = F.softmax(logits, 1)\n",
    "        d_logits[range(bs), Yb] -= 1\n",
    "        d_logits /= bs\n",
    "        # 2nd layer backprop\n",
    "        d_h = d_logits @ W2.T\n",
    "        d_W2 = h.T @ d_logits\n",
    "        d_b2 = d_logits.sum(0)\n",
    "        # tanh\n",
    "        d_h_pre_act = (1.0 - h**2) * d_h\n",
    "        # batchnorm backprop\n",
    "        d_bn_gain = (bn_raw * d_h_pre_act).sum(0, keepdim=True)\n",
    "        d_bn_bias = d_h_pre_act.sum(0, keepdim=True)\n",
    "        d_h_pre_bn = bn_gain * bn_var_inv / bs * (bs * d_h_pre_act - d_h_pre_act.sum(0) - bs / (bs - 1) * bn_raw * (d_h_pre_act * bn_raw).sum(0))\n",
    "        # 1st layer\n",
    "        d_emb_cat = d_h_pre_bn @ W1.T\n",
    "        d_W1 = emb_cat.T @ d_h_pre_bn\n",
    "        d_b1 = d_h_pre_bn.sum(0)\n",
    "        # embedding\n",
    "        d_emb = d_emb_cat.view(emb.shape)\n",
    "        d_C = torch.zeros_like(C)\n",
    "        for k in range(Xb.shape[0]):\n",
    "            for j in range(Xb.shape[1]):\n",
    "                ix = Xb[k, j]\n",
    "                d_C[ix] += d_emb[k, j]\n",
    "        grads = [d_C, d_W1, d_b1, d_W2, d_b2, d_bn_gain, d_bn_bias]\n",
    "        # -----------------\n",
    "\n",
    "        # update\n",
    "        lr = 0.1 if i < 100000 else 0.01  # step learning rate decay\n",
    "        for p, grad in zip(parameters, grads): # type: ignore\n",
    "            # p.data += -lr * p.grad # old way of cheems doge (using PyTorch grad from .backward())\n",
    "            p.data += -lr * grad  # new way of swole doge TODO: enable\n",
    "\n",
    "        # track stats\n",
    "        if i % 10000 == 0:  # print every once in a while\n",
    "            print(f'{i:7d}/{max_steps:7d}: {loss.item():.4f}')\n",
    "        loss_i.append(loss.log10().item())\n"
   ]
  },
  {
   "attachments": {},
   "cell_type": "markdown",
   "metadata": {},
   "source": [
    "**Calibrate the batch norm**"
   ]
  },
  {
   "cell_type": "code",
   "execution_count": 351,
   "metadata": {},
   "outputs": [],
   "source": [
    "with torch.no_grad():\n",
    "  # pass the training set through\n",
    "  emb = C[Xtr]\n",
    "  embcat = emb.view(emb.shape[0], -1)\n",
    "  hpreact = embcat @ W1 + b1\n",
    "  # measure the mean/std over the entire training set\n",
    "  bnmean = hpreact.mean(0, keepdim=True)\n",
    "  bnvar = hpreact.var(0, keepdim=True, unbiased=True)\n"
   ]
  },
  {
   "attachments": {},
   "cell_type": "markdown",
   "metadata": {},
   "source": [
    "**Evaluate train and val loss**"
   ]
  },
  {
   "cell_type": "code",
   "execution_count": 352,
   "metadata": {},
   "outputs": [
    {
     "name": "stdout",
     "output_type": "stream",
     "text": [
      "train 2.1481568813323975\n",
      "val 2.157963275909424\n"
     ]
    }
   ],
   "source": [
    "\n",
    "\n",
    "@torch.no_grad() # this decorator disables gradient tracking\n",
    "def split_loss(split):\n",
    "  x,y = {\n",
    "    'train': (Xtr, Ytr),\n",
    "    'val': (Xval, Yval),\n",
    "    'test': (Xte, Yte),\n",
    "  }[split]\n",
    "  emb = C[x] # (N, block_size, n_embd)\n",
    "  emb_cat = emb.view(emb.shape[0], -1) # concat into (N, block_size * n_embd)\n",
    "  h_pre_act = emb_cat @ W1 + b1\n",
    "  h_pre_act = bn_gain * (h_pre_act - bnmean) * (bnvar + 1e-5)**-0.5 + bn_bias\n",
    "  h = torch.tanh(h_pre_act) # (N, n_hidden)\n",
    "  logits = h @ W2 + b2 # (N, vocab_size)\n",
    "  loss = F.cross_entropy(logits, y)\n",
    "  print(split, loss.item())\n",
    "\n",
    "split_loss('train')\n",
    "split_loss('val')"
   ]
  },
  {
   "cell_type": "code",
   "execution_count": 353,
   "metadata": {},
   "outputs": [
    {
     "name": "stdout",
     "output_type": "stream",
     "text": [
      "mora.\n",
      "kayanniee.\n",
      "madhayla.\n",
      "renyastendra.\n",
      "gradered.\n",
      "eliah.\n",
      "miloe.\n",
      "leigh.\n",
      "van.\n",
      "aar.\n",
      "kayzioh.\n",
      "kalin.\n",
      "shabergahiriel.\n",
      "kindreelynn.\n",
      "novalayubelynder.\n",
      "yah.\n",
      "fael.\n",
      "yuma.\n",
      "myston.\n",
      "azhil.\n"
     ]
    }
   ],
   "source": [
    "# sample from the model\n",
    "g = torch.Generator().manual_seed(2147483647 + 10)\n",
    "\n",
    "for _ in range(20):\n",
    "    out = []\n",
    "    context = [0] * block_size # initialize with all ...\n",
    "    while True:\n",
    "      # ------------\n",
    "      # forward pass:\n",
    "      # Embedding\n",
    "      emb = C[torch.tensor([context])] # (1,block_size,d)      \n",
    "      emb_cat = emb.view(emb.shape[0], -1) # concat into (N, block_size * n_embd)\n",
    "      h_pre_act = emb_cat @ W1 + b1\n",
    "      h_pre_act = bn_gain * (h_pre_act - bnmean) * (bnvar + 1e-5)**-0.5 + bn_bias\n",
    "      h = torch.tanh(h_pre_act) # (N, n_hidden)\n",
    "      logits = h @ W2 + b2 # (N, vocab_size)\n",
    "      # ------------\n",
    "      # Sample\n",
    "      probs = F.softmax(logits, dim=1)\n",
    "      ix = torch.multinomial(probs, num_samples=1, generator=g).item()\n",
    "      context = context[1:] + [ix]\n",
    "      out.append(ix)\n",
    "      if ix == 0:\n",
    "        break\n",
    "    \n",
    "    print(''.join(ix2ch[i] for i in out))"
   ]
  },
  {
   "cell_type": "code",
   "execution_count": null,
   "metadata": {},
   "outputs": [],
   "source": []
  },
  {
   "cell_type": "code",
   "execution_count": null,
   "metadata": {},
   "outputs": [],
   "source": []
  },
  {
   "cell_type": "code",
   "execution_count": null,
   "metadata": {},
   "outputs": [],
   "source": []
  },
  {
   "cell_type": "code",
   "execution_count": null,
   "metadata": {},
   "outputs": [],
   "source": []
  },
  {
   "cell_type": "code",
   "execution_count": null,
   "metadata": {},
   "outputs": [],
   "source": []
  }
 ],
 "metadata": {
  "kernelspec": {
   "display_name": "llm",
   "language": "python",
   "name": "python3"
  },
  "language_info": {
   "codemirror_mode": {
    "name": "ipython",
    "version": 3
   },
   "file_extension": ".py",
   "mimetype": "text/x-python",
   "name": "python",
   "nbconvert_exporter": "python",
   "pygments_lexer": "ipython3",
   "version": "3.11.0"
  },
  "orig_nbformat": 4
 },
 "nbformat": 4,
 "nbformat_minor": 2
}
